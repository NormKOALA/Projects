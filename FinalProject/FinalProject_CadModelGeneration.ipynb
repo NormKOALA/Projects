{
 "cells": [
  {
   "cell_type": "code",
   "execution_count": 1,
   "id": "1198584a",
   "metadata": {},
   "outputs": [],
   "source": [
    "# !pip install ipynb"
   ]
  },
  {
   "cell_type": "code",
   "execution_count": 2,
   "id": "9c71a076",
   "metadata": {},
   "outputs": [
    {
     "name": "stdout",
     "output_type": "stream",
     "text": [
      "Overwriting auto display for cadquery Workplane and Shape\n"
     ]
    }
   ],
   "source": [
    "import os\n",
    "import cadquery as cq\n",
    "from cadquery import exporters\n",
    "from jupyter_cadquery.cadquery import (PartGroup, Part, Edges, Faces, Vertices, show)\n",
    "from jupyter_cadquery import set_sidecar, set_defaults\n",
    "\n",
    "from FinalProject_ModelListGeneration import get_models_list\n",
    "from tqdm import tqdm\n",
    "from tqdm import trange"
   ]
  },
  {
   "cell_type": "code",
   "execution_count": 3,
   "id": "cb131372",
   "metadata": {},
   "outputs": [],
   "source": [
    "# set_defaults(axes=True, grid=True, axes0=True, ortho=True, transparent=False)\n",
    "# set_sidecar(\"CadQuery\", init=True)"
   ]
  },
  {
   "cell_type": "code",
   "execution_count": 4,
   "id": "f7e9312a",
   "metadata": {},
   "outputs": [],
   "source": [
    "'''\n",
    "1. 'sections' should be dict, allowable values = 'line', 'arc90', 'arc45'\n",
    "2. 'revolves' should be dict, allowable values = 'left', 'right', 'top', 'down',\n",
    "   for 'line' shape the revolve value is not take into account, but should be specified in any case,\n",
    "   'left' is the revolving in the direction of the '+X-axis',\n",
    "   'right' is '-X-axis', 'top' is '+Y-axis', 'down' is '-Y-axis'\n",
    "3. 'radiuses' should be dict, for 'line' shape the radius value is used as the length\n",
    "'''\n",
    "\n",
    "def get_geom(d = 10,\n",
    "             sections=['line'],\n",
    "             radiuses=[100],\n",
    "             revolves=['left']):\n",
    "    \n",
    "    shape_param = {'line' :{'angle':0},\n",
    "                   'arc90':{'angle':90},\n",
    "                   'arc45':{'angle':45}}\n",
    "    \n",
    "    # setting the initial workplane\n",
    "    result = cq.Workplane('XY')\n",
    "    \n",
    "    # dictionaries for collecting the amount of rotations and translations of sections\n",
    "    rotate_param = []\n",
    "    translate_param = []\n",
    "    \n",
    "    for i, shape in enumerate(sections):\n",
    "        \n",
    "        # setting the axis for revolving\n",
    "        revolve_param = {'left' :{'startAxis':(radiuses[i], 0),\n",
    "                                  'endAxis'  :(radiuses[i], 1)},\n",
    "                         'right':{'startAxis':(-radiuses[i], 0),\n",
    "                                  'endAxis'  :(-radiuses[i], -1)},\n",
    "                         'top'  :{'startAxis':(0, radiuses[i]),\n",
    "                                  'endAxis'  :(-1, radiuses[i])},\n",
    "                         'down' :{'startAxis':(0, -radiuses[i]),\n",
    "                                  'endAxis'  :(1, -radiuses[i])}}\n",
    "        \n",
    "        if shape == 'line':\n",
    "            \n",
    "            # extruding\n",
    "            section = (cq.Workplane('XY')\n",
    "                       .circle(d/2)\n",
    "                       .extrude(radiuses[i]))\n",
    "            \n",
    "            # moving to the target place\n",
    "            if i != 0:\n",
    "                for j in range(i, 0, -1):\n",
    "                    section = (section\n",
    "                               .rotate(rotate_param[j-1]['startAxis'],\n",
    "                                       rotate_param[j-1]['endAxis'],\n",
    "                                       rotate_param[j-1]['angle'])\n",
    "                               .translate(translate_param[j-1]))\n",
    "                else:\n",
    "                    pass\n",
    "            \n",
    "            # concatenating with result\n",
    "            result = result.union(section, glue=True)\n",
    "#             result.add(section)\n",
    "            \n",
    "            # collecting the values of rotations and translations\n",
    "            translate_param.append((0,0,radiuses[i]))\n",
    "            rotate_param.append({'startAxis':(25, 0),\n",
    "                                 'endAxis':(25, 1),\n",
    "                                 'angle':360})\n",
    "            \n",
    "        elif shape == 'arc90' or shape == 'arc45':\n",
    "            \n",
    "            # extruding (revolving)\n",
    "            section = (cq.Workplane('XY')\n",
    "                       .circle(d/2)\n",
    "                       .revolve(shape_param[shape]['angle'],\n",
    "                                revolve_param[revolves[i]]['startAxis'],\n",
    "                                revolve_param[revolves[i]]['endAxis']))\n",
    "            \n",
    "            # moving to the target place\n",
    "            if i != 0:\n",
    "                for j in range(i, 0, -1):\n",
    "                    section = (section\n",
    "                               .rotate(rotate_param[j-1]['startAxis'],\n",
    "                                       rotate_param[j-1]['endAxis'],\n",
    "                                       rotate_param[j-1]['angle'])\n",
    "                               .translate(translate_param[j-1]))\n",
    "                else:\n",
    "                    pass\n",
    "            \n",
    "            # concatenating with result\n",
    "            result = result.union(section, glue=True)\n",
    "#             result.add(section)\n",
    "            \n",
    "            # collecting the values of rotation and translation\n",
    "            translate_param.append((0,0,0))\n",
    "            rotate_param.append({'startAxis':revolve_param[revolves[i]]['startAxis'],\n",
    "                                 'endAxis':revolve_param[revolves[i]]['endAxis'],\n",
    "                                 'angle':shape_param[shape]['angle']})\n",
    "        \n",
    "        else:\n",
    "            break\n",
    "\n",
    "    return result"
   ]
  },
  {
   "cell_type": "code",
   "execution_count": 5,
   "id": "923ef9ea",
   "metadata": {},
   "outputs": [],
   "source": [
    "models = get_models_list()"
   ]
  },
  {
   "cell_type": "code",
   "execution_count": 6,
   "id": "8c3a1ee7",
   "metadata": {},
   "outputs": [
    {
     "name": "stderr",
     "output_type": "stream",
     "text": [
      "100%|██████████| 4116/4116 [03:15<00:00, 21.06it/s]\n"
     ]
    }
   ],
   "source": [
    "for model in trange(len(models)):\n",
    "    result_geom = get_geom(d = models.iloc[model]['diameter'].item(),\n",
    "                           sections = [str(x) for x in list(models.iloc[model][4:7])],\n",
    "                           radiuses = [x.item() for x in list(models.iloc[model][1:4])],\n",
    "                           revolves = [str(x) for x in list(models.iloc[model][7:10])])\n",
    "\n",
    "    model_name = models.iloc[model]['description'] + '.step'\n",
    "\n",
    "    exporters.export(result_geom,\n",
    "                     os.path.join('data/cad_models', model_name),\n",
    "                     tolerance=0.001,\n",
    "                     angularTolerance=0.05)"
   ]
  },
  {
   "cell_type": "markdown",
   "id": "ec7f3fa7",
   "metadata": {},
   "source": [
    "---"
   ]
  },
  {
   "cell_type": "code",
   "execution_count": 7,
   "id": "95959a7c",
   "metadata": {},
   "outputs": [],
   "source": [
    "# %%time\n",
    "# result_geom = get_geom(d = 10,\n",
    "#                        sections=['arc45', 'arc45', 'arc90', 'arc90'],\n",
    "#                        radiuses=[25, 25, 25, 25],\n",
    "#                        revolves=['left', 'top', 'down', 'down'])\n",
    "\n",
    "# show(result_geom, axes=True, grid=True, axes0=True, ortho=True, transparent=False)\n",
    "\n",
    "# exporters.export(result_geom,\n",
    "#                  os.path.join('data/cad_models', 'model_name.step'),\n",
    "#                  tolerance=0.001,\n",
    "#                  angularTolerance=0.05)"
   ]
  },
  {
   "cell_type": "code",
   "execution_count": 8,
   "id": "f8ad86e8",
   "metadata": {},
   "outputs": [],
   "source": [
    "# def get_section_geom(d = 10, shape='line', radius=100, revolve='left'):\n",
    "    \n",
    "#     shape_param = {'line': {'angle':0},\n",
    "#                    'arc90':{'angle':90},\n",
    "#                    'arc45':{'angle':45}}\n",
    "    \n",
    "#     revolve_param = {'left': {'startAxis':(radius, 0),\n",
    "#                               'endAxis':  (radius, 1)},\n",
    "#                      'right':{'startAxis':(-radius, 0),\n",
    "#                               'endAxis':  (-radius, -1)},\n",
    "#                      'top':  {'startAxis':(0, radius),\n",
    "#                               'endAxis':  (-1, radius)},\n",
    "#                      'down': {'startAxis':(0, -radius),\n",
    "#                               'endAxis':  (1, -radius)}}\n",
    "\n",
    "#     if shape == 'line':\n",
    "\n",
    "#         section = (cq.Workplane('XY')\n",
    "#                    .circle(d/2)\n",
    "#                    .extrude(radius))\n",
    "\n",
    "#         translate_param = (0,0,radius)\n",
    "#         rotate_param = {'startAxis':(25, 0),\n",
    "#                         'endAxis':(25, 1),\n",
    "#                         'angle':360}\n",
    "\n",
    "#     elif shape == 'arc90' or shape == 'arc45':\n",
    "\n",
    "#         # extruding\n",
    "#         section = (cq.Workplane('XY')\n",
    "#                    .circle(d/2)\n",
    "#                    .revolve(shape_param[shape]['angle'],\n",
    "#                             revolve_param[revolve]['startAxis'],\n",
    "#                             revolve_param[revolve]['endAxis']))\n",
    "\n",
    "#         translate_param = (0,0,0)\n",
    "#         rotate_param = {'startAxis':revolve_param[revolve]['startAxis'],\n",
    "#                         'endAxis':revolve_param[revolve]['endAxis'],\n",
    "#                         'angle':shape_param[shape]['angle']}\n",
    "\n",
    "#     return section, translate_param, rotate_param"
   ]
  },
  {
   "cell_type": "code",
   "execution_count": null,
   "id": "0b8bece7",
   "metadata": {},
   "outputs": [],
   "source": []
  }
 ],
 "metadata": {
  "kernelspec": {
   "display_name": "Python 3 (ipykernel)",
   "language": "python",
   "name": "python3"
  },
  "language_info": {
   "codemirror_mode": {
    "name": "ipython",
    "version": 3
   },
   "file_extension": ".py",
   "mimetype": "text/x-python",
   "name": "python",
   "nbconvert_exporter": "python",
   "pygments_lexer": "ipython3",
   "version": "3.8.12"
  }
 },
 "nbformat": 4,
 "nbformat_minor": 5
}
