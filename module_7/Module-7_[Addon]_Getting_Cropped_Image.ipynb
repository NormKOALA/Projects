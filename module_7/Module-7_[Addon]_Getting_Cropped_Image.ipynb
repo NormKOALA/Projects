{
 "cells": [
  {
   "cell_type": "code",
   "execution_count": null,
   "id": "296cb248",
   "metadata": {},
   "outputs": [],
   "source": [
    "# !pip install mxnet-cu102 --upgrade # CUDA\n",
    "# !pip install mxnet --upgrade       # CPU\n",
    "# !pip install gluoncv --upgrade"
   ]
  },
  {
   "cell_type": "code",
   "execution_count": null,
   "id": "e0b45a11",
   "metadata": {},
   "outputs": [],
   "source": [
    "# import mxnet as mx\n",
    "\n",
    "# import gluoncv\n",
    "# from gluoncv import model_zoo, data, utils"
   ]
  },
  {
   "cell_type": "code",
   "execution_count": null,
   "id": "483d7678",
   "metadata": {},
   "outputs": [],
   "source": [
    "# list(gluoncv.model_zoo.get_model_list())"
   ]
  },
  {
   "cell_type": "code",
   "execution_count": null,
   "id": "c90790de",
   "metadata": {},
   "outputs": [],
   "source": [
    "# # Getting cropped image\n",
    "# get_target_car_crop(img_dir_path = TRAIN_IMG_PATH + '/*')\n",
    "\n",
    "# !cp \"/content/sf-dl-car-classification/cropped_imgs_train\" -r \"/content/drive/MyDrive/Colab Notebooks/SF_Projects/module_7\""
   ]
  },
  {
   "cell_type": "code",
   "execution_count": null,
   "id": "ff9f22f1",
   "metadata": {},
   "outputs": [],
   "source": [
    "# get_target_car_crop(img_dir_path = TEST_IMG_PATH, subset = 'test', threshold = 0)\n",
    "\n",
    "# !cp \"/content/sf-dl-car-classification/cropped_imgs_test\" -r \"/content/drive/MyDrive/Colab Notebooks/SF_Projects/module_7\""
   ]
  },
  {
   "cell_type": "code",
   "execution_count": null,
   "id": "e2f361bb",
   "metadata": {},
   "outputs": [],
   "source": [
    "# TRAIN_IMG_PATH = os.path.join(DATA_PATH, 'cropped_imgs_train')\n",
    "# TEST_IMG_PATH = os.path.join(DATA_PATH, 'cropped_imgs_test')"
   ]
  },
  {
   "cell_type": "code",
   "execution_count": null,
   "id": "4c548157",
   "metadata": {},
   "outputs": [],
   "source": [
    "# # посмотрим на результат\n",
    "# img_path_list = glob.glob(os.path.join(TRAIN_IMG_PATH, '*.jpg'))\n",
    "\n",
    "# plt.figure(figsize=(15,5))\n",
    "# for i in range(classes_num):\n",
    "#     img = PIL.Image.open(random.sample(img_path_list, 1)[0])\n",
    "#     plt.subplot(2, classes_num/2, i+1)\n",
    "#     plt.imshow(img)\n",
    "#     plt.title(f\"Img.size: {img.size}\")\n",
    "#     plt.axis('off')\n",
    "# plt.show()"
   ]
  },
  {
   "cell_type": "code",
   "execution_count": null,
   "id": "8083de73",
   "metadata": {},
   "outputs": [],
   "source": [
    "# # посмотрим сколько осталось images в train dataset\n",
    "# print(f'Всего осталось: {len(img_path_list)} \\nОтсеяно: {len(train_df)-len(img_path_list)}')"
   ]
  },
  {
   "cell_type": "code",
   "execution_count": null,
   "id": "246f07ab",
   "metadata": {},
   "outputs": [],
   "source": [
    "# img_path_list = glob.glob(os.path.join(TEST_IMG_PATH, '*.jpg'))\n",
    "\n",
    "# plt.figure(figsize=(15,5))\n",
    "# for i in range(classes_num):\n",
    "#     img = PIL.Image.open(random.sample(img_path_list, 1)[0])\n",
    "#     plt.subplot(2, classes_num/2, i+1)\n",
    "#     plt.imshow(img)\n",
    "#     plt.title(f\"Img.size: {img.size}\")\n",
    "#     plt.axis('off')\n",
    "# plt.show()"
   ]
  },
  {
   "cell_type": "code",
   "execution_count": null,
   "id": "35b30780",
   "metadata": {},
   "outputs": [],
   "source": [
    "# print(f'Всего осталось: {len(img_path_list)} \\nОтсеяно: {len(test_df)-len(img_path_list)}')"
   ]
  },
  {
   "cell_type": "code",
   "execution_count": null,
   "id": "2b217610",
   "metadata": {},
   "outputs": [],
   "source": [
    "# # Generator: Делит датасет на обучающий и валидационный в пропорции 80% и 20% соответственно \n",
    "# datagen = ImageDataGenerator(validation_split=VAL_SIZE,\n",
    "#                              preprocessing_function=augmentations)"
   ]
  },
  {
   "cell_type": "code",
   "execution_count": null,
   "id": "c0af4d4d",
   "metadata": {},
   "outputs": [],
   "source": [
    "# # Data loader for training subset (cropped images)\n",
    "# train_generator = datagen.flow_from_dataframe(dataframe=train_df,\n",
    "#                                               x_col='Id',\n",
    "#                                               y_col='Category',\n",
    "#                                               directory=TRAIN_IMG_PATH,\n",
    "#                                               target_size=(IMG_SIZE, IMG_SIZE),\n",
    "#                                               batch_size=BATCH_SIZE,\n",
    "#                                               class_mode='categorical',\n",
    "#                                               shuffle=True,\n",
    "#                                               seed=RANDOM_SEED,\n",
    "#                                               subset='training',\n",
    "#                                               validate_filenames=True)\n",
    "\n",
    "# # Data loader for validation subset (cropped images)\n",
    "# val_generator = datagen.flow_from_dataframe(dataframe=train_df,\n",
    "#                                             x_col='Id',\n",
    "#                                             y_col='Category',\n",
    "#                                             directory=TRAIN_IMG_PATH,\n",
    "#                                             target_size=(IMG_SIZE, IMG_SIZE),\n",
    "#                                             batch_size=BATCH_SIZE,\n",
    "#                                             class_mode='categorical',\n",
    "#                                             shuffle=True,\n",
    "#                                             seed=RANDOM_SEED,\n",
    "#                                             subset='validation',\n",
    "#                                             validate_filenames=True)"
   ]
  },
  {
   "cell_type": "code",
   "execution_count": null,
   "id": "ed642c1b",
   "metadata": {},
   "outputs": [],
   "source": []
  },
  {
   "cell_type": "code",
   "execution_count": null,
   "id": "ba93d200",
   "metadata": {},
   "outputs": [],
   "source": []
  },
  {
   "cell_type": "code",
   "execution_count": null,
   "id": "cb411d4a",
   "metadata": {},
   "outputs": [],
   "source": []
  }
 ],
 "metadata": {
  "kernelspec": {
   "display_name": "Python 3 (ipykernel)",
   "language": "python",
   "name": "python3"
  },
  "language_info": {
   "codemirror_mode": {
    "name": "ipython",
    "version": 3
   },
   "file_extension": ".py",
   "mimetype": "text/x-python",
   "name": "python",
   "nbconvert_exporter": "python",
   "pygments_lexer": "ipython3",
   "version": "3.8.11"
  }
 },
 "nbformat": 4,
 "nbformat_minor": 5
}
