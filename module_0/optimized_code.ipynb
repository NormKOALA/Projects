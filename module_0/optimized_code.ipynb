{
 "cells": [
  {
   "cell_type": "code",
   "execution_count": 8,
   "metadata": {
    "scrolled": true
   },
   "outputs": [
    {
     "name": "stdout",
     "output_type": "stream",
     "text": [
      "Алгоритм угадывает число в среднем за 5 попыток\n"
     ]
    },
    {
     "data": {
      "text/plain": [
       "5"
      ]
     },
     "execution_count": 8,
     "metadata": {},
     "output_type": "execute_result"
    }
   ],
   "source": [
    "import numpy as np\n",
    "\n",
    "def game_core_v3(number):\n",
    "    \n",
    "    '''Concept: Устанавливаем медиану числовой выборки всех возможных вариантов ответов в качестве предполагаемого\n",
    "    числа, сравниваем с загаданым. В зависимости от результата сравнения, сокращаем область возможных вариантов\n",
    "    ответа путем отбрасывания части выборки левее или правее медианы. Повторяем пока число не будет угадано\n",
    "    (в предельном случае пока в выборке не останется одно число)'''\n",
    "    \n",
    "    lower_bound = 1                                            # нижняя граница выборки\n",
    "    upper_bound = 101                                          # верхняя граница выборки\n",
    "    predict_array = list(range(lower_bound, upper_bound+1))    # составляем список со всеми возможными вариантами ответа \n",
    "    \n",
    "    count = 1    # счетчик попыток\n",
    "    \n",
    "    '''переназначаем значения переменных с 'элементов' на 'индексы' списка predict_array\n",
    "    попутно определяя индекс медианы исходного списка'''\n",
    "    lower_bound = 0\n",
    "    upper_bound = int(len(predict_array)*0.5) - 1\n",
    "    \n",
    "    while number != predict_array[upper_bound]:                # выполняем действия цикла пока число не будет угадано  \n",
    "        count += 1\n",
    "        \n",
    "        '''если задуманное число меньше предполагаемого, определяем медиану области значений левее текущей медианы\n",
    "        иначе, определяем медиану области значений правее текущей медианы'''\n",
    "        if number in predict_array[lower_bound:upper_bound+1]:\n",
    "            upper_bound = int((lower_bound+upper_bound)*0.5)\n",
    "        else:\n",
    "            offset = int(len(predict_array[lower_bound:upper_bound])*0.5)\n",
    "            lower_bound = upper_bound + 1\n",
    "            upper_bound = lower_bound + offset\n",
    "            \n",
    "    return(count)\n",
    "\n",
    "\n",
    "def score_game(game_core):\n",
    "    count_ls = []\n",
    "    np.random.seed(1)\n",
    "    random_array = np.random.randint(1,101, size=(1000))\n",
    "    for number in random_array:\n",
    "        count_ls.append(game_core(number))\n",
    "    score = int(np.mean(count_ls))\n",
    "    print(f\"Алгоритм угадывает число в среднем за {score} попыток\")\n",
    "    return(score)\n",
    "\n",
    "\n",
    "score_game(game_core_v3)"
   ]
  },
  {
   "cell_type": "code",
   "execution_count": null,
   "metadata": {},
   "outputs": [],
   "source": []
  }
 ],
 "metadata": {
  "kernelspec": {
   "display_name": "Python 3",
   "language": "python",
   "name": "python3"
  },
  "language_info": {
   "codemirror_mode": {
    "name": "ipython",
    "version": 3
   },
   "file_extension": ".py",
   "mimetype": "text/x-python",
   "name": "python",
   "nbconvert_exporter": "python",
   "pygments_lexer": "ipython3",
   "version": "3.8.3"
  }
 },
 "nbformat": 4,
 "nbformat_minor": 4
}
