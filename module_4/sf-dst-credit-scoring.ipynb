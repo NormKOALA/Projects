{
 "cells": [
  {
   "cell_type": "code",
   "execution_count": 1,
   "metadata": {
    "_cell_guid": "b1076dfc-b9ad-4769-8c92-a6c4dae69d19",
    "_uuid": "8f2839f25d086af736a60e9eeb907d3b93b6e0e5",
    "execution": {
     "iopub.execute_input": "2021-03-14T16:51:33.181516Z",
     "iopub.status.busy": "2021-03-14T16:51:33.180888Z",
     "iopub.status.idle": "2021-03-14T16:51:33.188827Z",
     "shell.execute_reply": "2021-03-14T16:51:33.188165Z"
    },
    "papermill": {
     "duration": 0.060603,
     "end_time": "2021-03-14T16:51:33.189027",
     "exception": false,
     "start_time": "2021-03-14T16:51:33.128424",
     "status": "completed"
    },
    "tags": []
   },
   "outputs": [
    {
     "name": "stdout",
     "output_type": "stream",
     "text": [
      "/kaggle/input/sf-dst-scoring/sample_submission.csv\n",
      "/kaggle/input/sf-dst-scoring/train.csv\n",
      "/kaggle/input/sf-dst-scoring/test.csv\n"
     ]
    }
   ],
   "source": [
    "# This Python 3 environment comes with many helpful analytics libraries installed\n",
    "# It is defined by the kaggle/python Docker image: https://github.com/kaggle/docker-python\n",
    "# For example, here's several helpful packages to load\n",
    "\n",
    "import numpy as np # linear algebra\n",
    "import pandas as pd # data processing, CSV file I/O (e.g. pd.read_csv)\n",
    "\n",
    "# Input data files are available in the read-only \"../input/\" directory\n",
    "# For example, running this (by clicking run or pressing Shift+Enter) will list all files under the input directory\n",
    "\n",
    "import os\n",
    "for dirname, _, filenames in os.walk('/kaggle/input'):\n",
    "    for filename in filenames:\n",
    "        print(os.path.join(dirname, filename))\n",
    "\n",
    "# You can write up to 20GB to the current directory (/kaggle/working/) that gets preserved as output when you create a version using \"Save & Run All\" \n",
    "# You can also write temporary files to /kaggle/temp/, but they won't be saved outside of the current session"
   ]
  },
  {
   "cell_type": "markdown",
   "metadata": {
    "papermill": {
     "duration": 0.047784,
     "end_time": "2021-03-14T16:51:33.285495",
     "exception": false,
     "start_time": "2021-03-14T16:51:33.237711",
     "status": "completed"
    },
    "tags": []
   },
   "source": [
    "## Import"
   ]
  },
  {
   "cell_type": "code",
   "execution_count": 2,
   "metadata": {
    "execution": {
     "iopub.execute_input": "2021-03-14T16:51:33.389083Z",
     "iopub.status.busy": "2021-03-14T16:51:33.388282Z",
     "iopub.status.idle": "2021-03-14T16:51:35.281002Z",
     "shell.execute_reply": "2021-03-14T16:51:35.281480Z"
    },
    "papermill": {
     "duration": 1.947902,
     "end_time": "2021-03-14T16:51:35.281801",
     "exception": false,
     "start_time": "2021-03-14T16:51:33.333899",
     "status": "completed"
    },
    "tags": []
   },
   "outputs": [
    {
     "data": {
      "text/html": [
       "<style type='text/css'>\n",
       ".datatable table.frame { margin-bottom: 0; }\n",
       ".datatable table.frame thead { border-bottom: none; }\n",
       ".datatable table.frame tr.coltypes td {  color: #FFFFFF;  line-height: 6px;  padding: 0 0.5em;}\n",
       ".datatable .bool    { background: #DDDD99; }\n",
       ".datatable .object  { background: #565656; }\n",
       ".datatable .int     { background: #5D9E5D; }\n",
       ".datatable .float   { background: #4040CC; }\n",
       ".datatable .str     { background: #CC4040; }\n",
       ".datatable .row_index {  background: var(--jp-border-color3);  border-right: 1px solid var(--jp-border-color0);  color: var(--jp-ui-font-color3);  font-size: 9px;}\n",
       ".datatable .frame tr.coltypes .row_index {  background: var(--jp-border-color0);}\n",
       ".datatable th:nth-child(2) { padding-left: 12px; }\n",
       ".datatable .hellipsis {  color: var(--jp-cell-editor-border-color);}\n",
       ".datatable .vellipsis {  background: var(--jp-layout-color0);  color: var(--jp-cell-editor-border-color);}\n",
       ".datatable .na {  color: var(--jp-cell-editor-border-color);  font-size: 80%;}\n",
       ".datatable .footer { font-size: 9px; }\n",
       ".datatable .frame_dimensions {  background: var(--jp-border-color3);  border-top: 1px solid var(--jp-border-color0);  color: var(--jp-ui-font-color3);  display: inline-block;  opacity: 0.6;  padding: 1px 10px 1px 5px;}\n",
       "</style>\n"
      ],
      "text/plain": [
       "<IPython.core.display.HTML object>"
      ]
     },
     "metadata": {},
     "output_type": "display_data"
    }
   ],
   "source": [
    "import matplotlib.pyplot as plt\n",
    "import seaborn as sns\n",
    "import itertools\n",
    "\n",
    "from datetime import datetime\n",
    "\n",
    "from sklearn.preprocessing import LabelEncoder, StandardScaler, MinMaxScaler\n",
    "from sklearn.model_selection import train_test_split, GridSearchCV\n",
    "from sklearn.linear_model import LogisticRegression, LogisticRegressionCV\n",
    "from sklearn.tree import DecisionTreeRegressor, DecisionTreeClassifier\n",
    "from sklearn.ensemble import RandomForestRegressor, RandomForestClassifier\n",
    "from sklearn.metrics import confusion_matrix, auc, roc_auc_score, roc_curve, precision_score, accuracy_score, recall_score, f1_score, precision_recall_curve\n",
    "from sklearn.impute import SimpleImputer\n",
    "\n",
    "from imblearn.under_sampling import RandomUnderSampler\n",
    "\n",
    "from xgboost import XGBRegressor, XGBClassifier\n",
    "from lightgbm import LGBMRegressor, LGBMClassifier\n",
    "\n",
    "import warnings\n",
    "warnings.filterwarnings(\"ignore\")"
   ]
  },
  {
   "cell_type": "code",
   "execution_count": 3,
   "metadata": {
    "execution": {
     "iopub.execute_input": "2021-03-14T16:51:35.383783Z",
     "iopub.status.busy": "2021-03-14T16:51:35.383048Z",
     "iopub.status.idle": "2021-03-14T16:51:38.090136Z",
     "shell.execute_reply": "2021-03-14T16:51:38.089210Z"
    },
    "papermill": {
     "duration": 2.759502,
     "end_time": "2021-03-14T16:51:38.090324",
     "exception": false,
     "start_time": "2021-03-14T16:51:35.330822",
     "status": "completed"
    },
    "tags": []
   },
   "outputs": [],
   "source": [
    "pd.set_option('display.max_columns', None)\n",
    "pd.set_option('display.max_rows', 100)\n",
    "\n",
    "RANDOM_SEED = 42\n",
    "\n",
    "!pip freeze > requirements.txt"
   ]
  },
  {
   "cell_type": "markdown",
   "metadata": {
    "papermill": {
     "duration": 0.049387,
     "end_time": "2021-03-14T16:51:38.191046",
     "exception": false,
     "start_time": "2021-03-14T16:51:38.141659",
     "status": "completed"
    },
    "tags": []
   },
   "source": [
    "## Вспомогательные функции"
   ]
  },
  {
   "cell_type": "code",
   "execution_count": 4,
   "metadata": {
    "execution": {
     "iopub.execute_input": "2021-03-14T16:51:38.298804Z",
     "iopub.status.busy": "2021-03-14T16:51:38.298056Z",
     "iopub.status.idle": "2021-03-14T16:51:38.316911Z",
     "shell.execute_reply": "2021-03-14T16:51:38.316307Z"
    },
    "papermill": {
     "duration": 0.07356,
     "end_time": "2021-03-14T16:51:38.317082",
     "exception": false,
     "start_time": "2021-03-14T16:51:38.243522",
     "status": "completed"
    },
    "tags": []
   },
   "outputs": [],
   "source": [
    "def get_metrics(Y_test, Y_pred):\n",
    "    accuracy = accuracy_score(Y_test, Y_pred)\n",
    "    precision = precision_score(Y_test, Y_pred)\n",
    "    recall = recall_score(Y_test, Y_pred)\n",
    "    f_score = f1_score(Y_test, Y_pred)\n",
    "    \n",
    "    print('\\n Accuracy: {} \\n'.format(round(accuracy, 3)),\n",
    "          'Precision: {} \\n'.format(round(precision, 3)),\n",
    "          'Recall: {} \\n'.format(round(recall, 3)),\n",
    "          'F1_score: {}'.format(round(f_score, 3)))\n",
    "\n",
    "    \n",
    "def plot_roc_auc(Y_test, Y_prob):\n",
    "    roc_auc = roc_auc_score(Y_test, Y_prob)\n",
    "    fpr, tpr, threshold = roc_curve(Y_test, Y_prob)\n",
    "\n",
    "    plt.figure(figsize=(10, 7))\n",
    "    plt.plot([0, 1], \"b\", label='Baseline', linestyle='--')\n",
    "    plt.plot(fpr, tpr, \"r-\", label = 'Regression')\n",
    "    plt.title('Logistic Regression ROC AUC = %0.3f' % roc_auc)\n",
    "    plt.ylabel('True Positive Rate')\n",
    "    plt.xlabel('False Positive Rate')\n",
    "    plt.legend(loc = 'lower right')\n",
    "    plt.show()\n",
    "\n",
    "    \n",
    "def plot_pr_curve(Y_test, Y_prob):\n",
    "    precision, recall, threshold = precision_recall_curve(Y_test, Y_prob)\n",
    "    \n",
    "    plt.figure(figsize=(10, 7))\n",
    "    plt.plot(threshold, precision[:-1], \"r-\", label=\"Precision\")\n",
    "    plt.plot(threshold, recall[:-1], \"b\", label=\"Recall\")\n",
    "    plt.xlabel(\"threshold\")\n",
    "    plt.legend(loc='upper right')\n",
    "    plt.show()\n",
    "\n",
    "    \n",
    "def plot_confusion_matrix(cm, classes,\n",
    "                          normalize=True,\n",
    "                          title='Confusion matrix',\n",
    "                          cmap=plt.cm.Blues):\n",
    "    \"\"\"\n",
    "    This function prints and plots the confusion matrix.\n",
    "    Normalization can be applied by setting `normalize=True`.\n",
    "    \"\"\"\n",
    "    plt.imshow(cm, interpolation='nearest', cmap=cmap)\n",
    "    plt.title(title)\n",
    "    plt.colorbar()\n",
    "    tick_marks = np.arange(len(classes))\n",
    "    plt.xticks(tick_marks, classes, rotation=45)\n",
    "    plt.yticks(tick_marks, classes)\n",
    "\n",
    "    if normalize:\n",
    "        cm = cm.astype('float') / cm.sum(axis=1)[:, np.newaxis]\n",
    "        print(\"Normalized confusion matrix\")\n",
    "    else:\n",
    "        print('Confusion matrix, without normalization')\n",
    "\n",
    "    print(cm)\n",
    "\n",
    "    thresh = cm.max() / 2.\n",
    "    for i, j in itertools.product(range(cm.shape[0]), range(cm.shape[1])):\n",
    "        plt.text(j, i, cm[i, j],\n",
    "                 horizontalalignment=\"center\",\n",
    "                 color=\"white\" if cm[i, j] > thresh else \"black\")\n",
    "\n",
    "    plt.tight_layout()\n",
    "    plt.ylabel('True label')\n",
    "    plt.xlabel('Predicted label')"
   ]
  },
  {
   "cell_type": "markdown",
   "metadata": {
    "papermill": {
     "duration": 0.049307,
     "end_time": "2021-03-14T16:51:38.419641",
     "exception": false,
     "start_time": "2021-03-14T16:51:38.370334",
     "status": "completed"
    },
    "tags": []
   },
   "source": [
    "## Data"
   ]
  },
  {
   "cell_type": "code",
   "execution_count": 5,
   "metadata": {
    "execution": {
     "iopub.execute_input": "2021-03-14T16:51:38.527316Z",
     "iopub.status.busy": "2021-03-14T16:51:38.526350Z",
     "iopub.status.idle": "2021-03-14T16:51:38.880404Z",
     "shell.execute_reply": "2021-03-14T16:51:38.879828Z"
    },
    "papermill": {
     "duration": 0.40866,
     "end_time": "2021-03-14T16:51:38.880593",
     "exception": false,
     "start_time": "2021-03-14T16:51:38.471933",
     "status": "completed"
    },
    "tags": []
   },
   "outputs": [],
   "source": [
    "DATA_DIR = '/kaggle/input/sf-dst-scoring/'\n",
    "df_train = pd.read_csv(DATA_DIR+'/train.csv')\n",
    "df_test = pd.read_csv(DATA_DIR+'/test.csv')\n",
    "sample_submission = pd.read_csv(DATA_DIR+'/sample_submission.csv')"
   ]
  },
  {
   "cell_type": "code",
   "execution_count": 6,
   "metadata": {
    "execution": {
     "iopub.execute_input": "2021-03-14T16:51:38.994662Z",
     "iopub.status.busy": "2021-03-14T16:51:38.993914Z",
     "iopub.status.idle": "2021-03-14T16:51:39.061731Z",
     "shell.execute_reply": "2021-03-14T16:51:39.061092Z"
    },
    "papermill": {
     "duration": 0.131154,
     "end_time": "2021-03-14T16:51:39.061896",
     "exception": false,
     "start_time": "2021-03-14T16:51:38.930742",
     "status": "completed"
    },
    "tags": []
   },
   "outputs": [],
   "source": [
    "# Объединение для предобработки\n",
    "df_train['train'] = 1\n",
    "\n",
    "df_test['train'] = 0\n",
    "df_test['default'] = 0\n",
    "\n",
    "df = df_train.append(df_test, sort=False).reset_index(drop=True)"
   ]
  },
  {
   "cell_type": "markdown",
   "metadata": {
    "papermill": {
     "duration": 0.048499,
     "end_time": "2021-03-14T16:51:39.160093",
     "exception": false,
     "start_time": "2021-03-14T16:51:39.111594",
     "status": "completed"
    },
    "tags": []
   },
   "source": [
    "## Feature sorting"
   ]
  },
  {
   "cell_type": "code",
   "execution_count": 7,
   "metadata": {
    "execution": {
     "iopub.execute_input": "2021-03-14T16:51:39.263673Z",
     "iopub.status.busy": "2021-03-14T16:51:39.262996Z",
     "iopub.status.idle": "2021-03-14T16:51:39.267336Z",
     "shell.execute_reply": "2021-03-14T16:51:39.266605Z"
    },
    "papermill": {
     "duration": 0.058693,
     "end_time": "2021-03-14T16:51:39.267482",
     "exception": false,
     "start_time": "2021-03-14T16:51:39.208789",
     "status": "completed"
    },
    "tags": []
   },
   "outputs": [
    {
     "data": {
      "text/plain": [
       "['client_id',\n",
       " 'app_date',\n",
       " 'education',\n",
       " 'sex',\n",
       " 'age',\n",
       " 'car',\n",
       " 'car_type',\n",
       " 'decline_app_cnt',\n",
       " 'good_work',\n",
       " 'score_bki',\n",
       " 'bki_request_cnt',\n",
       " 'region_rating',\n",
       " 'home_address',\n",
       " 'work_address',\n",
       " 'income',\n",
       " 'sna',\n",
       " 'first_time',\n",
       " 'foreign_passport',\n",
       " 'default',\n",
       " 'train']"
      ]
     },
     "execution_count": 7,
     "metadata": {},
     "output_type": "execute_result"
    }
   ],
   "source": [
    "list(df.columns)"
   ]
  },
  {
   "cell_type": "code",
   "execution_count": 8,
   "metadata": {
    "execution": {
     "iopub.execute_input": "2021-03-14T16:51:39.377270Z",
     "iopub.status.busy": "2021-03-14T16:51:39.376586Z",
     "iopub.status.idle": "2021-03-14T16:51:39.379961Z",
     "shell.execute_reply": "2021-03-14T16:51:39.379257Z"
    },
    "papermill": {
     "duration": 0.059279,
     "end_time": "2021-03-14T16:51:39.380120",
     "exception": false,
     "start_time": "2021-03-14T16:51:39.320841",
     "status": "completed"
    },
    "tags": []
   },
   "outputs": [],
   "source": [
    "# categorical variables\n",
    "categorical = ['education', 'region_rating', 'home_address', 'work_address', 'sna', 'first_time']\n",
    "# numerical variables\n",
    "numerical = ['age', 'decline_app_cnt', 'score_bki', 'bki_request_cnt', 'income']\n",
    "# binary variables\n",
    "binary = ['sex', 'car', 'car_type', 'good_work', 'foreign_passport']"
   ]
  },
  {
   "cell_type": "markdown",
   "metadata": {
    "papermill": {
     "duration": 0.049638,
     "end_time": "2021-03-14T16:51:39.480175",
     "exception": false,
     "start_time": "2021-03-14T16:51:39.430537",
     "status": "completed"
    },
    "tags": []
   },
   "source": [
    "## Preprocessing"
   ]
  },
  {
   "cell_type": "code",
   "execution_count": 9,
   "metadata": {
    "execution": {
     "iopub.execute_input": "2021-03-14T16:51:39.597150Z",
     "iopub.status.busy": "2021-03-14T16:51:39.596133Z",
     "iopub.status.idle": "2021-03-14T16:51:41.049695Z",
     "shell.execute_reply": "2021-03-14T16:51:41.050192Z"
    },
    "papermill": {
     "duration": 1.519587,
     "end_time": "2021-03-14T16:51:41.050400",
     "exception": false,
     "start_time": "2021-03-14T16:51:39.530813",
     "status": "completed"
    },
    "tags": []
   },
   "outputs": [],
   "source": [
    "# app_date - дата подачи заявки\n",
    "##Преобразуем object → date\n",
    "df['app_date'] = pd.to_datetime(df['app_date'])\n",
    "## Извлечем month, day\n",
    "df['app_date_month'] = df['app_date'].apply(lambda x: x.month)\n",
    "df['app_date_day'] = df['app_date'].apply(lambda x: x.day)"
   ]
  },
  {
   "cell_type": "code",
   "execution_count": 10,
   "metadata": {
    "execution": {
     "iopub.execute_input": "2021-03-14T16:51:41.166433Z",
     "iopub.status.busy": "2021-03-14T16:51:41.160475Z",
     "iopub.status.idle": "2021-03-14T16:51:41.217223Z",
     "shell.execute_reply": "2021-03-14T16:51:41.216520Z"
    },
    "papermill": {
     "duration": 0.115364,
     "end_time": "2021-03-14T16:51:41.217369",
     "exception": false,
     "start_time": "2021-03-14T16:51:41.102005",
     "status": "completed"
    },
    "tags": []
   },
   "outputs": [],
   "source": [
    "# score_bki - скоринговый балл по данным из БКИ\n",
    "## 12 значении из 110148 положительные числа.\n",
    "## Так как медот подсчета параметра \"неизвестен\", предположим,\n",
    "## что имеем дело с ошибкой и приведем все значения к \"единому\" виду\n",
    "df['score_bki'] = df['score_bki'].apply(lambda x: abs(x))"
   ]
  },
  {
   "cell_type": "code",
   "execution_count": 11,
   "metadata": {
    "execution": {
     "iopub.execute_input": "2021-03-14T16:51:41.331435Z",
     "iopub.status.busy": "2021-03-14T16:51:41.330709Z",
     "iopub.status.idle": "2021-03-14T16:51:41.333879Z",
     "shell.execute_reply": "2021-03-14T16:51:41.333344Z"
    },
    "papermill": {
     "duration": 0.066357,
     "end_time": "2021-03-14T16:51:41.334039",
     "exception": false,
     "start_time": "2021-03-14T16:51:41.267682",
     "status": "completed"
    },
    "tags": []
   },
   "outputs": [],
   "source": [
    "def modify_df(df_input, bin_col, cat_col, num_col, scaler):\n",
    "    \n",
    "    df_output = df_input.copy()\n",
    "    \n",
    "    # Заполняем пропуски\n",
    "    imputer = SimpleImputer(strategy='most_frequent')\n",
    "    df[cat_col] = imputer.fit_transform(df[cat_col])\n",
    "    \n",
    "    # Binary variables\n",
    "    \n",
    "    for bf in bin_col:\n",
    "        le = LabelEncoder()\n",
    "        if df_output[bf].dtypes == object:\n",
    "            # Кодируем\n",
    "            df_output[bf] = le.fit_transform(df_output[bf])\n",
    "    \n",
    "    \n",
    "    # Categorical variables\n",
    "    \n",
    "    for cf in cat_col:\n",
    "        # Обнуляем le.classes_\n",
    "        le = LabelEncoder()\n",
    "        if df_output[cf].dtypes == object:\n",
    "            # Кодируем\n",
    "            df_output[cf] = le.fit_transform(df_output[cf])\n",
    "            # Раскидаваем по столбцам\n",
    "            df_temp = pd.get_dummies(df_output[cf])\n",
    "            df_temp.columns = le.classes_\n",
    "            # Добавляем в df\n",
    "            df_output = df_output.merge(df_temp, left_index=True, right_index=True)\n",
    "        else:\n",
    "            # Раскидаваем по столбцам\n",
    "            df_temp = pd.get_dummies(df_output[cf])\n",
    "            names = []\n",
    "            for i in list(df_temp.columns):\n",
    "                names.append('{}_{}'.format(cf, i))\n",
    "            df_temp.columns = names\n",
    "            # Добавляем в df\n",
    "            df_output = df_output.merge(df_temp, left_index=True, right_index=True)\n",
    "    \n",
    "    \n",
    "    # Numerical variables\n",
    "    \n",
    "    for nf in num_col:\n",
    "        df_output['{}_norm'.format(nf)] = scaler.fit_transform(df_output[[nf]])\n",
    "        df_output['{}_log'.format(nf)] = df_output[nf].apply(lambda x: np.log(x+1))\n",
    "        df_output['{}_log_norm'.format(nf)] = scaler.fit_transform(df_output[['{}_log'.format(nf)]])\n",
    "    \n",
    "    \n",
    "    return df_output"
   ]
  },
  {
   "cell_type": "code",
   "execution_count": 12,
   "metadata": {
    "execution": {
     "iopub.execute_input": "2021-03-14T16:51:41.439644Z",
     "iopub.status.busy": "2021-03-14T16:51:41.438958Z",
     "iopub.status.idle": "2021-03-14T16:51:43.705052Z",
     "shell.execute_reply": "2021-03-14T16:51:43.704501Z"
    },
    "papermill": {
     "duration": 2.320729,
     "end_time": "2021-03-14T16:51:43.705204",
     "exception": false,
     "start_time": "2021-03-14T16:51:41.384475",
     "status": "completed"
    },
    "tags": []
   },
   "outputs": [
    {
     "data": {
      "text/html": [
       "<div>\n",
       "<style scoped>\n",
       "    .dataframe tbody tr th:only-of-type {\n",
       "        vertical-align: middle;\n",
       "    }\n",
       "\n",
       "    .dataframe tbody tr th {\n",
       "        vertical-align: top;\n",
       "    }\n",
       "\n",
       "    .dataframe thead th {\n",
       "        text-align: right;\n",
       "    }\n",
       "</style>\n",
       "<table border=\"1\" class=\"dataframe\">\n",
       "  <thead>\n",
       "    <tr style=\"text-align: right;\">\n",
       "      <th></th>\n",
       "      <th>client_id</th>\n",
       "      <th>app_date</th>\n",
       "      <th>education</th>\n",
       "      <th>sex</th>\n",
       "      <th>age</th>\n",
       "      <th>car</th>\n",
       "      <th>car_type</th>\n",
       "      <th>decline_app_cnt</th>\n",
       "      <th>good_work</th>\n",
       "      <th>score_bki</th>\n",
       "      <th>bki_request_cnt</th>\n",
       "      <th>region_rating</th>\n",
       "      <th>home_address</th>\n",
       "      <th>work_address</th>\n",
       "      <th>income</th>\n",
       "      <th>sna</th>\n",
       "      <th>first_time</th>\n",
       "      <th>foreign_passport</th>\n",
       "      <th>default</th>\n",
       "      <th>train</th>\n",
       "      <th>app_date_month</th>\n",
       "      <th>app_date_day</th>\n",
       "      <th>ACD</th>\n",
       "      <th>GRD</th>\n",
       "      <th>PGR</th>\n",
       "      <th>SCH</th>\n",
       "      <th>UGR</th>\n",
       "      <th>NaN</th>\n",
       "      <th>region_rating_20</th>\n",
       "      <th>region_rating_30</th>\n",
       "      <th>region_rating_40</th>\n",
       "      <th>region_rating_50</th>\n",
       "      <th>region_rating_60</th>\n",
       "      <th>region_rating_70</th>\n",
       "      <th>region_rating_80</th>\n",
       "      <th>home_address_1</th>\n",
       "      <th>home_address_2</th>\n",
       "      <th>home_address_3</th>\n",
       "      <th>work_address_1</th>\n",
       "      <th>work_address_2</th>\n",
       "      <th>work_address_3</th>\n",
       "      <th>sna_1</th>\n",
       "      <th>sna_2</th>\n",
       "      <th>sna_3</th>\n",
       "      <th>sna_4</th>\n",
       "      <th>first_time_1</th>\n",
       "      <th>first_time_2</th>\n",
       "      <th>first_time_3</th>\n",
       "      <th>first_time_4</th>\n",
       "      <th>age_norm</th>\n",
       "      <th>age_log</th>\n",
       "      <th>age_log_norm</th>\n",
       "      <th>decline_app_cnt_norm</th>\n",
       "      <th>decline_app_cnt_log</th>\n",
       "      <th>decline_app_cnt_log_norm</th>\n",
       "      <th>score_bki_norm</th>\n",
       "      <th>score_bki_log</th>\n",
       "      <th>score_bki_log_norm</th>\n",
       "      <th>bki_request_cnt_norm</th>\n",
       "      <th>bki_request_cnt_log</th>\n",
       "      <th>bki_request_cnt_log_norm</th>\n",
       "      <th>income_norm</th>\n",
       "      <th>income_log</th>\n",
       "      <th>income_log_norm</th>\n",
       "    </tr>\n",
       "  </thead>\n",
       "  <tbody>\n",
       "    <tr>\n",
       "      <th>80557</th>\n",
       "      <td>29881</td>\n",
       "      <td>2014-02-05</td>\n",
       "      <td>3</td>\n",
       "      <td>0</td>\n",
       "      <td>53</td>\n",
       "      <td>1</td>\n",
       "      <td>1</td>\n",
       "      <td>0</td>\n",
       "      <td>0</td>\n",
       "      <td>1.812629</td>\n",
       "      <td>0</td>\n",
       "      <td>50</td>\n",
       "      <td>1</td>\n",
       "      <td>1</td>\n",
       "      <td>1000000</td>\n",
       "      <td>1</td>\n",
       "      <td>2</td>\n",
       "      <td>0</td>\n",
       "      <td>0</td>\n",
       "      <td>0</td>\n",
       "      <td>2</td>\n",
       "      <td>5</td>\n",
       "      <td>0</td>\n",
       "      <td>0</td>\n",
       "      <td>0</td>\n",
       "      <td>1</td>\n",
       "      <td>0</td>\n",
       "      <td>0</td>\n",
       "      <td>0</td>\n",
       "      <td>0</td>\n",
       "      <td>0</td>\n",
       "      <td>1</td>\n",
       "      <td>0</td>\n",
       "      <td>0</td>\n",
       "      <td>0</td>\n",
       "      <td>1</td>\n",
       "      <td>0</td>\n",
       "      <td>0</td>\n",
       "      <td>1</td>\n",
       "      <td>0</td>\n",
       "      <td>0</td>\n",
       "      <td>1</td>\n",
       "      <td>0</td>\n",
       "      <td>0</td>\n",
       "      <td>0</td>\n",
       "      <td>0</td>\n",
       "      <td>1</td>\n",
       "      <td>0</td>\n",
       "      <td>0</td>\n",
       "      <td>1.193834</td>\n",
       "      <td>3.988984</td>\n",
       "      <td>1.173250</td>\n",
       "      <td>-0.341893</td>\n",
       "      <td>0.000000</td>\n",
       "      <td>-0.418815</td>\n",
       "      <td>-0.184124</td>\n",
       "      <td>1.034120</td>\n",
       "      <td>-0.089633</td>\n",
       "      <td>-0.884463</td>\n",
       "      <td>0.000000</td>\n",
       "      <td>-1.334144</td>\n",
       "      <td>21.123289</td>\n",
       "      <td>13.815512</td>\n",
       "      <td>4.980702</td>\n",
       "    </tr>\n",
       "    <tr>\n",
       "      <th>87957</th>\n",
       "      <td>98162</td>\n",
       "      <td>2014-04-15</td>\n",
       "      <td>1</td>\n",
       "      <td>1</td>\n",
       "      <td>38</td>\n",
       "      <td>1</td>\n",
       "      <td>1</td>\n",
       "      <td>0</td>\n",
       "      <td>0</td>\n",
       "      <td>2.524867</td>\n",
       "      <td>2</td>\n",
       "      <td>40</td>\n",
       "      <td>2</td>\n",
       "      <td>3</td>\n",
       "      <td>50000</td>\n",
       "      <td>1</td>\n",
       "      <td>4</td>\n",
       "      <td>0</td>\n",
       "      <td>0</td>\n",
       "      <td>0</td>\n",
       "      <td>4</td>\n",
       "      <td>15</td>\n",
       "      <td>0</td>\n",
       "      <td>1</td>\n",
       "      <td>0</td>\n",
       "      <td>0</td>\n",
       "      <td>0</td>\n",
       "      <td>0</td>\n",
       "      <td>0</td>\n",
       "      <td>0</td>\n",
       "      <td>1</td>\n",
       "      <td>0</td>\n",
       "      <td>0</td>\n",
       "      <td>0</td>\n",
       "      <td>0</td>\n",
       "      <td>0</td>\n",
       "      <td>1</td>\n",
       "      <td>0</td>\n",
       "      <td>0</td>\n",
       "      <td>0</td>\n",
       "      <td>1</td>\n",
       "      <td>1</td>\n",
       "      <td>0</td>\n",
       "      <td>0</td>\n",
       "      <td>0</td>\n",
       "      <td>0</td>\n",
       "      <td>0</td>\n",
       "      <td>0</td>\n",
       "      <td>1</td>\n",
       "      <td>-0.108474</td>\n",
       "      <td>3.663562</td>\n",
       "      <td>0.031629</td>\n",
       "      <td>-0.341893</td>\n",
       "      <td>0.000000</td>\n",
       "      <td>-0.418815</td>\n",
       "      <td>1.242365</td>\n",
       "      <td>1.259843</td>\n",
       "      <td>1.150541</td>\n",
       "      <td>-0.002207</td>\n",
       "      <td>1.098612</td>\n",
       "      <td>0.333797</td>\n",
       "      <td>0.197961</td>\n",
       "      <td>10.819798</td>\n",
       "      <td>0.680425</td>\n",
       "    </tr>\n",
       "    <tr>\n",
       "      <th>20293</th>\n",
       "      <td>96513</td>\n",
       "      <td>2014-04-13</td>\n",
       "      <td>4</td>\n",
       "      <td>1</td>\n",
       "      <td>56</td>\n",
       "      <td>1</td>\n",
       "      <td>0</td>\n",
       "      <td>0</td>\n",
       "      <td>0</td>\n",
       "      <td>2.142486</td>\n",
       "      <td>2</td>\n",
       "      <td>60</td>\n",
       "      <td>1</td>\n",
       "      <td>2</td>\n",
       "      <td>30000</td>\n",
       "      <td>3</td>\n",
       "      <td>1</td>\n",
       "      <td>0</td>\n",
       "      <td>0</td>\n",
       "      <td>1</td>\n",
       "      <td>4</td>\n",
       "      <td>13</td>\n",
       "      <td>0</td>\n",
       "      <td>0</td>\n",
       "      <td>0</td>\n",
       "      <td>0</td>\n",
       "      <td>1</td>\n",
       "      <td>0</td>\n",
       "      <td>0</td>\n",
       "      <td>0</td>\n",
       "      <td>0</td>\n",
       "      <td>0</td>\n",
       "      <td>1</td>\n",
       "      <td>0</td>\n",
       "      <td>0</td>\n",
       "      <td>1</td>\n",
       "      <td>0</td>\n",
       "      <td>0</td>\n",
       "      <td>0</td>\n",
       "      <td>1</td>\n",
       "      <td>0</td>\n",
       "      <td>0</td>\n",
       "      <td>0</td>\n",
       "      <td>1</td>\n",
       "      <td>0</td>\n",
       "      <td>1</td>\n",
       "      <td>0</td>\n",
       "      <td>0</td>\n",
       "      <td>0</td>\n",
       "      <td>1.454295</td>\n",
       "      <td>4.043051</td>\n",
       "      <td>1.362924</td>\n",
       "      <td>-0.341893</td>\n",
       "      <td>0.000000</td>\n",
       "      <td>-0.418815</td>\n",
       "      <td>0.476522</td>\n",
       "      <td>1.145014</td>\n",
       "      <td>0.519646</td>\n",
       "      <td>-0.002207</td>\n",
       "      <td>1.098612</td>\n",
       "      <td>0.333797</td>\n",
       "      <td>-0.242572</td>\n",
       "      <td>10.308986</td>\n",
       "      <td>-0.052834</td>\n",
       "    </tr>\n",
       "    <tr>\n",
       "      <th>90061</th>\n",
       "      <td>73826</td>\n",
       "      <td>2014-03-21</td>\n",
       "      <td>3</td>\n",
       "      <td>0</td>\n",
       "      <td>46</td>\n",
       "      <td>0</td>\n",
       "      <td>0</td>\n",
       "      <td>1</td>\n",
       "      <td>0</td>\n",
       "      <td>2.138317</td>\n",
       "      <td>3</td>\n",
       "      <td>40</td>\n",
       "      <td>3</td>\n",
       "      <td>2</td>\n",
       "      <td>17000</td>\n",
       "      <td>1</td>\n",
       "      <td>4</td>\n",
       "      <td>0</td>\n",
       "      <td>0</td>\n",
       "      <td>0</td>\n",
       "      <td>3</td>\n",
       "      <td>21</td>\n",
       "      <td>0</td>\n",
       "      <td>0</td>\n",
       "      <td>0</td>\n",
       "      <td>1</td>\n",
       "      <td>0</td>\n",
       "      <td>0</td>\n",
       "      <td>0</td>\n",
       "      <td>0</td>\n",
       "      <td>1</td>\n",
       "      <td>0</td>\n",
       "      <td>0</td>\n",
       "      <td>0</td>\n",
       "      <td>0</td>\n",
       "      <td>0</td>\n",
       "      <td>0</td>\n",
       "      <td>1</td>\n",
       "      <td>0</td>\n",
       "      <td>1</td>\n",
       "      <td>0</td>\n",
       "      <td>1</td>\n",
       "      <td>0</td>\n",
       "      <td>0</td>\n",
       "      <td>0</td>\n",
       "      <td>0</td>\n",
       "      <td>0</td>\n",
       "      <td>0</td>\n",
       "      <td>1</td>\n",
       "      <td>0.586090</td>\n",
       "      <td>3.850148</td>\n",
       "      <td>0.686195</td>\n",
       "      <td>0.909522</td>\n",
       "      <td>0.693147</td>\n",
       "      <td>1.499512</td>\n",
       "      <td>0.468171</td>\n",
       "      <td>1.143687</td>\n",
       "      <td>0.512351</td>\n",
       "      <td>0.438921</td>\n",
       "      <td>1.386294</td>\n",
       "      <td>0.770563</td>\n",
       "      <td>-0.528918</td>\n",
       "      <td>9.741027</td>\n",
       "      <td>-0.868125</td>\n",
       "    </tr>\n",
       "    <tr>\n",
       "      <th>28645</th>\n",
       "      <td>55415</td>\n",
       "      <td>2014-03-04</td>\n",
       "      <td>1</td>\n",
       "      <td>1</td>\n",
       "      <td>25</td>\n",
       "      <td>0</td>\n",
       "      <td>0</td>\n",
       "      <td>0</td>\n",
       "      <td>0</td>\n",
       "      <td>2.589511</td>\n",
       "      <td>1</td>\n",
       "      <td>80</td>\n",
       "      <td>2</td>\n",
       "      <td>2</td>\n",
       "      <td>80000</td>\n",
       "      <td>1</td>\n",
       "      <td>4</td>\n",
       "      <td>1</td>\n",
       "      <td>0</td>\n",
       "      <td>1</td>\n",
       "      <td>3</td>\n",
       "      <td>4</td>\n",
       "      <td>0</td>\n",
       "      <td>1</td>\n",
       "      <td>0</td>\n",
       "      <td>0</td>\n",
       "      <td>0</td>\n",
       "      <td>0</td>\n",
       "      <td>0</td>\n",
       "      <td>0</td>\n",
       "      <td>0</td>\n",
       "      <td>0</td>\n",
       "      <td>0</td>\n",
       "      <td>0</td>\n",
       "      <td>1</td>\n",
       "      <td>0</td>\n",
       "      <td>1</td>\n",
       "      <td>0</td>\n",
       "      <td>0</td>\n",
       "      <td>1</td>\n",
       "      <td>0</td>\n",
       "      <td>1</td>\n",
       "      <td>0</td>\n",
       "      <td>0</td>\n",
       "      <td>0</td>\n",
       "      <td>0</td>\n",
       "      <td>0</td>\n",
       "      <td>0</td>\n",
       "      <td>1</td>\n",
       "      <td>-1.237142</td>\n",
       "      <td>3.258097</td>\n",
       "      <td>-1.390791</td>\n",
       "      <td>-0.341893</td>\n",
       "      <td>0.000000</td>\n",
       "      <td>-0.418815</td>\n",
       "      <td>1.371834</td>\n",
       "      <td>1.278016</td>\n",
       "      <td>1.250388</td>\n",
       "      <td>-0.443335</td>\n",
       "      <td>0.693147</td>\n",
       "      <td>-0.281790</td>\n",
       "      <td>0.858761</td>\n",
       "      <td>11.289794</td>\n",
       "      <td>1.355094</td>\n",
       "    </tr>\n",
       "  </tbody>\n",
       "</table>\n",
       "</div>"
      ],
      "text/plain": [
       "       client_id   app_date  education  sex  age  car  car_type  \\\n",
       "80557      29881 2014-02-05          3    0   53    1         1   \n",
       "87957      98162 2014-04-15          1    1   38    1         1   \n",
       "20293      96513 2014-04-13          4    1   56    1         0   \n",
       "90061      73826 2014-03-21          3    0   46    0         0   \n",
       "28645      55415 2014-03-04          1    1   25    0         0   \n",
       "\n",
       "       decline_app_cnt  good_work  score_bki  bki_request_cnt  region_rating  \\\n",
       "80557                0          0   1.812629                0             50   \n",
       "87957                0          0   2.524867                2             40   \n",
       "20293                0          0   2.142486                2             60   \n",
       "90061                1          0   2.138317                3             40   \n",
       "28645                0          0   2.589511                1             80   \n",
       "\n",
       "       home_address  work_address   income  sna  first_time  foreign_passport  \\\n",
       "80557             1             1  1000000    1           2                 0   \n",
       "87957             2             3    50000    1           4                 0   \n",
       "20293             1             2    30000    3           1                 0   \n",
       "90061             3             2    17000    1           4                 0   \n",
       "28645             2             2    80000    1           4                 1   \n",
       "\n",
       "       default  train  app_date_month  app_date_day  ACD  GRD  PGR  SCH  UGR  \\\n",
       "80557        0      0               2             5    0    0    0    1    0   \n",
       "87957        0      0               4            15    0    1    0    0    0   \n",
       "20293        0      1               4            13    0    0    0    0    1   \n",
       "90061        0      0               3            21    0    0    0    1    0   \n",
       "28645        0      1               3             4    0    1    0    0    0   \n",
       "\n",
       "       NaN  region_rating_20  region_rating_30  region_rating_40  \\\n",
       "80557    0                 0                 0                 0   \n",
       "87957    0                 0                 0                 1   \n",
       "20293    0                 0                 0                 0   \n",
       "90061    0                 0                 0                 1   \n",
       "28645    0                 0                 0                 0   \n",
       "\n",
       "       region_rating_50  region_rating_60  region_rating_70  region_rating_80  \\\n",
       "80557                 1                 0                 0                 0   \n",
       "87957                 0                 0                 0                 0   \n",
       "20293                 0                 1                 0                 0   \n",
       "90061                 0                 0                 0                 0   \n",
       "28645                 0                 0                 0                 1   \n",
       "\n",
       "       home_address_1  home_address_2  home_address_3  work_address_1  \\\n",
       "80557               1               0               0               1   \n",
       "87957               0               1               0               0   \n",
       "20293               1               0               0               0   \n",
       "90061               0               0               1               0   \n",
       "28645               0               1               0               0   \n",
       "\n",
       "       work_address_2  work_address_3  sna_1  sna_2  sna_3  sna_4  \\\n",
       "80557               0               0      1      0      0      0   \n",
       "87957               0               1      1      0      0      0   \n",
       "20293               1               0      0      0      1      0   \n",
       "90061               1               0      1      0      0      0   \n",
       "28645               1               0      1      0      0      0   \n",
       "\n",
       "       first_time_1  first_time_2  first_time_3  first_time_4  age_norm  \\\n",
       "80557             0             1             0             0  1.193834   \n",
       "87957             0             0             0             1 -0.108474   \n",
       "20293             1             0             0             0  1.454295   \n",
       "90061             0             0             0             1  0.586090   \n",
       "28645             0             0             0             1 -1.237142   \n",
       "\n",
       "        age_log  age_log_norm  decline_app_cnt_norm  decline_app_cnt_log  \\\n",
       "80557  3.988984      1.173250             -0.341893             0.000000   \n",
       "87957  3.663562      0.031629             -0.341893             0.000000   \n",
       "20293  4.043051      1.362924             -0.341893             0.000000   \n",
       "90061  3.850148      0.686195              0.909522             0.693147   \n",
       "28645  3.258097     -1.390791             -0.341893             0.000000   \n",
       "\n",
       "       decline_app_cnt_log_norm  score_bki_norm  score_bki_log  \\\n",
       "80557                 -0.418815       -0.184124       1.034120   \n",
       "87957                 -0.418815        1.242365       1.259843   \n",
       "20293                 -0.418815        0.476522       1.145014   \n",
       "90061                  1.499512        0.468171       1.143687   \n",
       "28645                 -0.418815        1.371834       1.278016   \n",
       "\n",
       "       score_bki_log_norm  bki_request_cnt_norm  bki_request_cnt_log  \\\n",
       "80557           -0.089633             -0.884463             0.000000   \n",
       "87957            1.150541             -0.002207             1.098612   \n",
       "20293            0.519646             -0.002207             1.098612   \n",
       "90061            0.512351              0.438921             1.386294   \n",
       "28645            1.250388             -0.443335             0.693147   \n",
       "\n",
       "       bki_request_cnt_log_norm  income_norm  income_log  income_log_norm  \n",
       "80557                 -1.334144    21.123289   13.815512         4.980702  \n",
       "87957                  0.333797     0.197961   10.819798         0.680425  \n",
       "20293                  0.333797    -0.242572   10.308986        -0.052834  \n",
       "90061                  0.770563    -0.528918    9.741027        -0.868125  \n",
       "28645                 -0.281790     0.858761   11.289794         1.355094  "
      ]
     },
     "execution_count": 12,
     "metadata": {},
     "output_type": "execute_result"
    }
   ],
   "source": [
    "df_n = modify_df(df, binary, categorical, numerical, scaler=StandardScaler())\n",
    "df_n.sample(5)"
   ]
  },
  {
   "cell_type": "markdown",
   "metadata": {
    "papermill": {
     "duration": 0.050644,
     "end_time": "2021-03-14T16:51:43.816187",
     "exception": false,
     "start_time": "2021-03-14T16:51:43.765543",
     "status": "completed"
    },
    "tags": []
   },
   "source": [
    "## Feature engineering"
   ]
  },
  {
   "cell_type": "code",
   "execution_count": 13,
   "metadata": {
    "execution": {
     "iopub.execute_input": "2021-03-14T16:51:43.944373Z",
     "iopub.status.busy": "2021-03-14T16:51:43.925446Z",
     "iopub.status.idle": "2021-03-14T16:51:44.016961Z",
     "shell.execute_reply": "2021-03-14T16:51:44.016393Z"
    },
    "papermill": {
     "duration": 0.149148,
     "end_time": "2021-03-14T16:51:44.017117",
     "exception": false,
     "start_time": "2021-03-14T16:51:43.867969",
     "status": "completed"
    },
    "tags": []
   },
   "outputs": [],
   "source": [
    "# decline_app_cnt - количество отказанных прошлых заявок\n",
    "## Распределение сильно не равномерное,однако распределение совершенно четко делится на 3 группы\n",
    "## (Заемщиков с 2 отказами на порядок меньше чем с одним. Практически та же картина с 1 отказ/без отказов)\n",
    "### Поделим на три группы\n",
    "### 0 - без отказов, 1 - 1 отказ, 2 - 2 и более отказов\n",
    "df_n['decline_app_cnt_group'] = df_n['decline_app_cnt'].apply(lambda x: 2 if x>=2 else 1 if x==1 else 0)\n",
    "# Раскидаваем по столбцам\n",
    "df_decline_app_cnt = pd.get_dummies(df_n['decline_app_cnt_group'])\n",
    "df_decline_app_cnt.columns = ['no_decline', '1_decline', 'mm_decline']\n",
    "# Добавляем\n",
    "df_n = df_n.merge(df_decline_app_cnt, left_index=True, right_index=True)"
   ]
  },
  {
   "cell_type": "code",
   "execution_count": 14,
   "metadata": {
    "execution": {
     "iopub.execute_input": "2021-03-14T16:51:44.128866Z",
     "iopub.status.busy": "2021-03-14T16:51:44.127942Z",
     "iopub.status.idle": "2021-03-14T16:51:44.132296Z",
     "shell.execute_reply": "2021-03-14T16:51:44.131676Z"
    },
    "papermill": {
     "duration": 0.063057,
     "end_time": "2021-03-14T16:51:44.132435",
     "exception": false,
     "start_time": "2021-03-14T16:51:44.069378",
     "status": "completed"
    },
    "tags": []
   },
   "outputs": [
    {
     "data": {
      "text/plain": [
       "['client_id',\n",
       " 'app_date',\n",
       " 'education',\n",
       " 'sex',\n",
       " 'age',\n",
       " 'car',\n",
       " 'car_type',\n",
       " 'decline_app_cnt',\n",
       " 'good_work',\n",
       " 'score_bki',\n",
       " 'bki_request_cnt',\n",
       " 'region_rating',\n",
       " 'home_address',\n",
       " 'work_address',\n",
       " 'income',\n",
       " 'sna',\n",
       " 'first_time',\n",
       " 'foreign_passport',\n",
       " 'default',\n",
       " 'train',\n",
       " 'app_date_month',\n",
       " 'app_date_day',\n",
       " 'ACD',\n",
       " 'GRD',\n",
       " 'PGR',\n",
       " 'SCH',\n",
       " 'UGR',\n",
       " nan,\n",
       " 'region_rating_20',\n",
       " 'region_rating_30',\n",
       " 'region_rating_40',\n",
       " 'region_rating_50',\n",
       " 'region_rating_60',\n",
       " 'region_rating_70',\n",
       " 'region_rating_80',\n",
       " 'home_address_1',\n",
       " 'home_address_2',\n",
       " 'home_address_3',\n",
       " 'work_address_1',\n",
       " 'work_address_2',\n",
       " 'work_address_3',\n",
       " 'sna_1',\n",
       " 'sna_2',\n",
       " 'sna_3',\n",
       " 'sna_4',\n",
       " 'first_time_1',\n",
       " 'first_time_2',\n",
       " 'first_time_3',\n",
       " 'first_time_4',\n",
       " 'age_norm',\n",
       " 'age_log',\n",
       " 'age_log_norm',\n",
       " 'decline_app_cnt_norm',\n",
       " 'decline_app_cnt_log',\n",
       " 'decline_app_cnt_log_norm',\n",
       " 'score_bki_norm',\n",
       " 'score_bki_log',\n",
       " 'score_bki_log_norm',\n",
       " 'bki_request_cnt_norm',\n",
       " 'bki_request_cnt_log',\n",
       " 'bki_request_cnt_log_norm',\n",
       " 'income_norm',\n",
       " 'income_log',\n",
       " 'income_log_norm',\n",
       " 'decline_app_cnt_group',\n",
       " 'no_decline',\n",
       " '1_decline',\n",
       " 'mm_decline']"
      ]
     },
     "execution_count": 14,
     "metadata": {},
     "output_type": "execute_result"
    }
   ],
   "source": [
    "list(df_n.columns)"
   ]
  },
  {
   "cell_type": "code",
   "execution_count": 15,
   "metadata": {
    "execution": {
     "iopub.execute_input": "2021-03-14T16:51:44.243672Z",
     "iopub.status.busy": "2021-03-14T16:51:44.242922Z",
     "iopub.status.idle": "2021-03-14T16:51:44.246012Z",
     "shell.execute_reply": "2021-03-14T16:51:44.245370Z"
    },
    "papermill": {
     "duration": 0.062428,
     "end_time": "2021-03-14T16:51:44.246153",
     "exception": false,
     "start_time": "2021-03-14T16:51:44.183725",
     "status": "completed"
    },
    "tags": []
   },
   "outputs": [],
   "source": [
    "drop_list = ['client_id',\n",
    "             'default',\n",
    "             'app_date',\n",
    "             'education',\n",
    "#              'sex',\n",
    "             'age',\n",
    "#              'car',\n",
    "#              'car_type',\n",
    "             'decline_app_cnt',\n",
    "#              'good_work',\n",
    "             'score_bki',\n",
    "             'bki_request_cnt',\n",
    "             'region_rating',\n",
    "             'home_address',\n",
    "             'work_address',\n",
    "             'income',\n",
    "             'sna',\n",
    "             'first_time',\n",
    "#              'foreign_passport',\n",
    "             'app_date_month',\n",
    "             'app_date_day',\n",
    "#              'ACD',\n",
    "#              'GRD',\n",
    "#              'PGR',\n",
    "#              'SCH',\n",
    "#              'UGR',\n",
    "#              'region_rating_20',\n",
    "#              'region_rating_30',\n",
    "#              'region_rating_40',\n",
    "#              'region_rating_50',\n",
    "#              'region_rating_60',\n",
    "#              'region_rating_70',\n",
    "#              'region_rating_80',\n",
    "#              'home_address_1',\n",
    "#              'home_address_2',\n",
    "#              'home_address_3',\n",
    "#              'work_address_1',\n",
    "#              'work_address_2',\n",
    "#              'work_address_3',\n",
    "#              'sna_1',\n",
    "#              'sna_2',\n",
    "#              'sna_3',\n",
    "#              'sna_4',\n",
    "#              'first_time_1',\n",
    "#              'first_time_2',\n",
    "#              'first_time_3',\n",
    "#              'first_time_4',\n",
    "             'age_norm',\n",
    "             'age_log',\n",
    "#              'age_log_norm',\n",
    "             'decline_app_cnt_norm',\n",
    "             'decline_app_cnt_log',\n",
    "             'decline_app_cnt_log_norm',\n",
    "             'score_bki_norm',\n",
    "             'score_bki_log',\n",
    "#              'score_bki_log_norm',\n",
    "             'bki_request_cnt_norm',\n",
    "             'bki_request_cnt_log',\n",
    "#              'bki_request_cnt_log_norm',\n",
    "             'income_norm',\n",
    "             'income_log',\n",
    "#              'income_log_norm',\n",
    "             'decline_app_cnt_group',\n",
    "#              'no_decline',\n",
    "#              '1_decline',\n",
    "#              'mm_decline'\n",
    "            ]"
   ]
  },
  {
   "cell_type": "markdown",
   "metadata": {
    "papermill": {
     "duration": 0.053126,
     "end_time": "2021-03-14T16:51:44.350817",
     "exception": false,
     "start_time": "2021-03-14T16:51:44.297691",
     "status": "completed"
    },
    "tags": []
   },
   "source": [
    "## Подготовка данных"
   ]
  },
  {
   "cell_type": "code",
   "execution_count": 16,
   "metadata": {
    "execution": {
     "iopub.execute_input": "2021-03-14T16:51:44.468166Z",
     "iopub.status.busy": "2021-03-14T16:51:44.467209Z",
     "iopub.status.idle": "2021-03-14T16:51:44.546412Z",
     "shell.execute_reply": "2021-03-14T16:51:44.545810Z"
    },
    "papermill": {
     "duration": 0.144207,
     "end_time": "2021-03-14T16:51:44.546571",
     "exception": false,
     "start_time": "2021-03-14T16:51:44.402364",
     "status": "completed"
    },
    "tags": []
   },
   "outputs": [],
   "source": [
    "train_data = df_n.query('train == 1').drop(['train'], axis=1)\n",
    "test_data = df_n.query('train == 0').drop(['train'], axis=1)"
   ]
  },
  {
   "cell_type": "code",
   "execution_count": 17,
   "metadata": {
    "execution": {
     "iopub.execute_input": "2021-03-14T16:51:44.658681Z",
     "iopub.status.busy": "2021-03-14T16:51:44.657514Z",
     "iopub.status.idle": "2021-03-14T16:51:44.662723Z",
     "shell.execute_reply": "2021-03-14T16:51:44.662045Z"
    },
    "papermill": {
     "duration": 0.063795,
     "end_time": "2021-03-14T16:51:44.662883",
     "exception": false,
     "start_time": "2021-03-14T16:51:44.599088",
     "status": "completed"
    },
    "tags": []
   },
   "outputs": [],
   "source": [
    "Y = train_data.default.values\n",
    "X = train_data.drop(drop_list, axis=1)"
   ]
  },
  {
   "cell_type": "markdown",
   "metadata": {
    "papermill": {
     "duration": 0.051672,
     "end_time": "2021-03-14T16:51:44.766684",
     "exception": false,
     "start_time": "2021-03-14T16:51:44.715012",
     "status": "completed"
    },
    "tags": []
   },
   "source": [
    "## Подготовка данных к машинному обучению"
   ]
  },
  {
   "cell_type": "code",
   "execution_count": 18,
   "metadata": {
    "execution": {
     "iopub.execute_input": "2021-03-14T16:51:44.878308Z",
     "iopub.status.busy": "2021-03-14T16:51:44.877602Z",
     "iopub.status.idle": "2021-03-14T16:51:44.946648Z",
     "shell.execute_reply": "2021-03-14T16:51:44.946005Z"
    },
    "papermill": {
     "duration": 0.127571,
     "end_time": "2021-03-14T16:51:44.946801",
     "exception": false,
     "start_time": "2021-03-14T16:51:44.819230",
     "status": "completed"
    },
    "tags": []
   },
   "outputs": [],
   "source": [
    "# Чтобы решить проблему дисбаланса классов, можно использовать Over или UnderSampling\n",
    "# Используем UnderSampling\n",
    "rus = RandomUnderSampler(random_state = RANDOM_SEED)\n",
    "X_resampled, Y_resampled = rus.fit_resample(X, Y)\n",
    "\n",
    "X_train, X_test, Y_train, Y_test = train_test_split(X_resampled, Y_resampled, test_size=0.2, random_state=RANDOM_SEED)"
   ]
  },
  {
   "cell_type": "markdown",
   "metadata": {
    "papermill": {
     "duration": 0.057389,
     "end_time": "2021-03-14T16:51:45.056590",
     "exception": false,
     "start_time": "2021-03-14T16:51:44.999201",
     "status": "completed"
    },
    "tags": []
   },
   "source": [
    "## LogisticRegression"
   ]
  },
  {
   "cell_type": "code",
   "execution_count": 19,
   "metadata": {
    "execution": {
     "iopub.execute_input": "2021-03-14T16:51:45.172907Z",
     "iopub.status.busy": "2021-03-14T16:51:45.172201Z",
     "iopub.status.idle": "2021-03-14T16:51:45.433806Z",
     "shell.execute_reply": "2021-03-14T16:51:45.434341Z"
    },
    "papermill": {
     "duration": 0.324312,
     "end_time": "2021-03-14T16:51:45.434533",
     "exception": false,
     "start_time": "2021-03-14T16:51:45.110221",
     "status": "completed"
    },
    "tags": []
   },
   "outputs": [],
   "source": [
    "# LogisticRegression\n",
    "model = LogisticRegression(random_state = RANDOM_SEED)\n",
    "model.fit(X_train, Y_train)\n",
    "\n",
    "# Prediction\n",
    "Y_pred = model.predict(X_test)\n",
    "\n",
    "# Probability\n",
    "Y_prob = model.predict_proba(X_test)\n",
    "Y_prob = Y_prob[:, 1]"
   ]
  },
  {
   "cell_type": "markdown",
   "metadata": {
    "papermill": {
     "duration": 0.053738,
     "end_time": "2021-03-14T16:51:45.541052",
     "exception": false,
     "start_time": "2021-03-14T16:51:45.487314",
     "status": "completed"
    },
    "tags": []
   },
   "source": [
    "### Metrics"
   ]
  },
  {
   "cell_type": "code",
   "execution_count": 20,
   "metadata": {
    "execution": {
     "iopub.execute_input": "2021-03-14T16:51:45.650987Z",
     "iopub.status.busy": "2021-03-14T16:51:45.650337Z",
     "iopub.status.idle": "2021-03-14T16:51:45.663301Z",
     "shell.execute_reply": "2021-03-14T16:51:45.664014Z"
    },
    "papermill": {
     "duration": 0.070419,
     "end_time": "2021-03-14T16:51:45.664256",
     "exception": false,
     "start_time": "2021-03-14T16:51:45.593837",
     "status": "completed"
    },
    "tags": []
   },
   "outputs": [
    {
     "name": "stdout",
     "output_type": "stream",
     "text": [
      "\n",
      " Accuracy: 0.678 \n",
      " Precision: 0.671 \n",
      " Recall: 0.689 \n",
      " F1_score: 0.68\n"
     ]
    }
   ],
   "source": [
    "get_metrics(Y_test, Y_pred)"
   ]
  },
  {
   "cell_type": "markdown",
   "metadata": {
    "papermill": {
     "duration": 0.052698,
     "end_time": "2021-03-14T16:51:45.770362",
     "exception": false,
     "start_time": "2021-03-14T16:51:45.717664",
     "status": "completed"
    },
    "tags": []
   },
   "source": [
    "### ROC-AUC"
   ]
  },
  {
   "cell_type": "code",
   "execution_count": 21,
   "metadata": {
    "execution": {
     "iopub.execute_input": "2021-03-14T16:51:45.884242Z",
     "iopub.status.busy": "2021-03-14T16:51:45.882927Z",
     "iopub.status.idle": "2021-03-14T16:51:46.104123Z",
     "shell.execute_reply": "2021-03-14T16:51:46.103118Z"
    },
    "papermill": {
     "duration": 0.280482,
     "end_time": "2021-03-14T16:51:46.104433",
     "exception": false,
     "start_time": "2021-03-14T16:51:45.823951",
     "status": "completed"
    },
    "tags": []
   },
   "outputs": [
    {
     "data": {
      "image/png": "[encoded data removed]",
      "text/plain": [
       "<Figure size 720x504 with 1 Axes>"
      ]
     },
     "metadata": {
      "needs_background": "light"
     },
     "output_type": "display_data"
    }
   ],
   "source": [
    "plot_roc_auc(Y_test, Y_prob)"
   ]
  },
  {
   "cell_type": "markdown",
   "metadata": {
    "papermill": {
     "duration": 0.054079,
     "end_time": "2021-03-14T16:51:46.213931",
     "exception": false,
     "start_time": "2021-03-14T16:51:46.159852",
     "status": "completed"
    },
    "tags": []
   },
   "source": [
    "### PR-curve"
   ]
  },
  {
   "cell_type": "code",
   "execution_count": 22,
   "metadata": {
    "execution": {
     "iopub.execute_input": "2021-03-14T16:51:46.328095Z",
     "iopub.status.busy": "2021-03-14T16:51:46.327392Z",
     "iopub.status.idle": "2021-03-14T16:51:46.585810Z",
     "shell.execute_reply": "2021-03-14T16:51:46.585119Z"
    },
    "papermill": {
     "duration": 0.317441,
     "end_time": "2021-03-14T16:51:46.585967",
     "exception": false,
     "start_time": "2021-03-14T16:51:46.268526",
     "status": "completed"
    },
    "tags": []
   },
   "outputs": [
    {
     "data": {
      "image/png": "[encoded data removed]",
      "text/plain": [
       "<Figure size 720x504 with 1 Axes>"
      ]
     },
     "metadata": {
      "needs_background": "light"
     },
     "output_type": "display_data"
    }
   ],
   "source": [
    "plot_pr_curve(Y_test, Y_prob)"
   ]
  },
  {
   "cell_type": "markdown",
   "metadata": {
    "papermill": {
     "duration": 0.055206,
     "end_time": "2021-03-14T16:51:46.696716",
     "exception": false,
     "start_time": "2021-03-14T16:51:46.641510",
     "status": "completed"
    },
    "tags": []
   },
   "source": [
    "### Confusion matrix"
   ]
  },
  {
   "cell_type": "code",
   "execution_count": 23,
   "metadata": {
    "execution": {
     "iopub.execute_input": "2021-03-14T16:51:46.813376Z",
     "iopub.status.busy": "2021-03-14T16:51:46.812716Z",
     "iopub.status.idle": "2021-03-14T16:51:47.076033Z",
     "shell.execute_reply": "2021-03-14T16:51:47.076547Z"
    },
    "papermill": {
     "duration": 0.324688,
     "end_time": "2021-03-14T16:51:47.076741",
     "exception": false,
     "start_time": "2021-03-14T16:51:46.752053",
     "status": "completed"
    },
    "tags": []
   },
   "outputs": [
    {
     "name": "stdout",
     "output_type": "stream",
     "text": [
      "Normalized confusion matrix\n",
      "[[0.66719661 0.33280339]\n",
      " [0.31095596 0.68904404]]\n"
     ]
    },
    {
     "data": {
      "image/png": "[encoded data removed]",
      "text/plain": [
       "<Figure size 720x576 with 2 Axes>"
      ]
     },
     "metadata": {
      "needs_background": "light"
     },
     "output_type": "display_data"
    }
   ],
   "source": [
    "cnf_matrix = confusion_matrix(Y_test, Y_pred)\n",
    "\n",
    "plt.figure(figsize=(10, 8))\n",
    "plot_confusion_matrix(cnf_matrix, classes=['non_default', 'default'], title='Confusion matrix')\n",
    "plt.show()"
   ]
  },
  {
   "cell_type": "markdown",
   "metadata": {
    "papermill": {
     "duration": 0.057114,
     "end_time": "2021-03-14T16:51:47.191535",
     "exception": false,
     "start_time": "2021-03-14T16:51:47.134421",
     "status": "completed"
    },
    "tags": []
   },
   "source": [
    "## LogisticRegression + Regularization"
   ]
  },
  {
   "cell_type": "code",
   "execution_count": 24,
   "metadata": {
    "execution": {
     "iopub.execute_input": "2021-03-14T16:51:47.314650Z",
     "iopub.status.busy": "2021-03-14T16:51:47.313939Z",
     "iopub.status.idle": "2021-03-14T16:54:53.879618Z",
     "shell.execute_reply": "2021-03-14T16:54:53.880158Z"
    },
    "papermill": {
     "duration": 186.632113,
     "end_time": "2021-03-14T16:54:53.880351",
     "exception": false,
     "start_time": "2021-03-14T16:51:47.248238",
     "status": "completed"
    },
    "tags": []
   },
   "outputs": [
    {
     "name": "stdout",
     "output_type": "stream",
     "text": [
      "Fitting 5 folds for each of 330 candidates, totalling 1650 fits\n"
     ]
    },
    {
     "data": {
      "text/plain": [
       "{'C': 51.96540133151923,\n",
       " 'class_weight': None,\n",
       " 'dual': False,\n",
       " 'fit_intercept': True,\n",
       " 'intercept_scaling': 1,\n",
       " 'l1_ratio': None,\n",
       " 'max_iter': 100,\n",
       " 'multi_class': 'auto',\n",
       " 'n_jobs': None,\n",
       " 'penalty': 'l2',\n",
       " 'random_state': 42,\n",
       " 'solver': 'lbfgs',\n",
       " 'tol': 0.0001,\n",
       " 'verbose': 0,\n",
       " 'warm_start': False}"
      ]
     },
     "execution_count": 24,
     "metadata": {},
     "output_type": "execute_result"
    }
   ],
   "source": [
    "C = np.logspace(0.01, 2, 15)\n",
    "\n",
    "param_grid = [{'penalty': ['l1'],\n",
    "               'C': C,\n",
    "               'solver': ['liblinear', 'lbfgs'],\n",
    "               'multi_class': ['auto', 'ovr']},\n",
    "              {'penalty': ['l2'],\n",
    "               'C': C,\n",
    "               'solver': ['newton-cg', 'lbfgs', 'liblinear', 'sag', 'saga'],\n",
    "               'multi_class': ['auto', 'ovr']},\n",
    "              {'penalty': ['none'],\n",
    "               'C': C,\n",
    "               'solver': ['newton-cg', 'lbfgs', 'sag', 'saga'],\n",
    "               'multi_class': ['auto', 'ovr']}\n",
    "             ]\n",
    "\n",
    "clf = GridSearchCV(model, param_grid, scoring='f1', cv=5, n_jobs=-1, verbose=True)\n",
    "\n",
    "best_model = clf.fit(X_train, Y_train)\n",
    "best_model = best_model.best_estimator_.get_params()\n",
    "\n",
    "\n",
    "C = best_model['C']\n",
    "penalty = best_model['penalty']\n",
    "solver = best_model['solver']\n",
    "multi_class = best_model['multi_class']\n",
    "class_weight = best_model['class_weight']\n",
    "\n",
    "best_model"
   ]
  },
  {
   "cell_type": "code",
   "execution_count": 25,
   "metadata": {
    "execution": {
     "iopub.execute_input": "2021-03-14T16:54:54.000600Z",
     "iopub.status.busy": "2021-03-14T16:54:53.999906Z",
     "iopub.status.idle": "2021-03-14T16:54:55.173427Z",
     "shell.execute_reply": "2021-03-14T16:54:55.173991Z"
    },
    "papermill": {
     "duration": 1.235974,
     "end_time": "2021-03-14T16:54:55.174244",
     "exception": false,
     "start_time": "2021-03-14T16:54:53.938270",
     "status": "completed"
    },
    "tags": []
   },
   "outputs": [],
   "source": [
    "# LogisticRegression\n",
    "model = LogisticRegression(C=C,\n",
    "                           penalty=penalty,\n",
    "                           solver=solver,\n",
    "                           multi_class=multi_class,\n",
    "                           class_weight=class_weight,\n",
    "                           n_jobs=-1,\n",
    "                           random_state=RANDOM_SEED)\n",
    "\n",
    "model.fit(X_train, Y_train)\n",
    "\n",
    "# Prediction\n",
    "Y_pred = model.predict(X_test)\n",
    "\n",
    "# Probability\n",
    "Y_prob = model.predict_proba(X_test)\n",
    "Y_prob = Y_prob[:, 1]"
   ]
  },
  {
   "cell_type": "markdown",
   "metadata": {
    "papermill": {
     "duration": 0.058187,
     "end_time": "2021-03-14T16:54:55.291405",
     "exception": false,
     "start_time": "2021-03-14T16:54:55.233218",
     "status": "completed"
    },
    "tags": []
   },
   "source": [
    "### Metrics"
   ]
  },
  {
   "cell_type": "code",
   "execution_count": 26,
   "metadata": {
    "execution": {
     "iopub.execute_input": "2021-03-14T16:54:55.412705Z",
     "iopub.status.busy": "2021-03-14T16:54:55.412035Z",
     "iopub.status.idle": "2021-03-14T16:54:55.425157Z",
     "shell.execute_reply": "2021-03-14T16:54:55.425720Z"
    },
    "papermill": {
     "duration": 0.076123,
     "end_time": "2021-03-14T16:54:55.425910",
     "exception": false,
     "start_time": "2021-03-14T16:54:55.349787",
     "status": "completed"
    },
    "tags": []
   },
   "outputs": [
    {
     "name": "stdout",
     "output_type": "stream",
     "text": [
      "\n",
      " Accuracy: 0.678 \n",
      " Precision: 0.671 \n",
      " Recall: 0.689 \n",
      " F1_score: 0.68\n"
     ]
    }
   ],
   "source": [
    "get_metrics(Y_test, Y_pred)"
   ]
  },
  {
   "cell_type": "markdown",
   "metadata": {
    "papermill": {
     "duration": 0.058427,
     "end_time": "2021-03-14T16:54:55.543617",
     "exception": false,
     "start_time": "2021-03-14T16:54:55.485190",
     "status": "completed"
    },
    "tags": []
   },
   "source": [
    "### ROC-AUC"
   ]
  },
  {
   "cell_type": "code",
   "execution_count": 27,
   "metadata": {
    "execution": {
     "iopub.execute_input": "2021-03-14T16:54:55.668035Z",
     "iopub.status.busy": "2021-03-14T16:54:55.666964Z",
     "iopub.status.idle": "2021-03-14T16:54:55.862647Z",
     "shell.execute_reply": "2021-03-14T16:54:55.863165Z"
    },
    "papermill": {
     "duration": 0.260403,
     "end_time": "2021-03-14T16:54:55.863365",
     "exception": false,
     "start_time": "2021-03-14T16:54:55.602962",
     "status": "completed"
    },
    "tags": []
   },
   "outputs": [
    {
     "data": {
      "image/png": "[encoded data removed]",
      "text/plain": [
       "<Figure size 720x504 with 1 Axes>"
      ]
     },
     "metadata": {
      "needs_background": "light"
     },
     "output_type": "display_data"
    }
   ],
   "source": [
    "plot_roc_auc(Y_test, Y_prob)"
   ]
  },
  {
   "cell_type": "markdown",
   "metadata": {
    "papermill": {
     "duration": 0.061281,
     "end_time": "2021-03-14T16:54:55.985683",
     "exception": false,
     "start_time": "2021-03-14T16:54:55.924402",
     "status": "completed"
    },
    "tags": []
   },
   "source": [
    "### PR-curve"
   ]
  },
  {
   "cell_type": "code",
   "execution_count": 28,
   "metadata": {
    "execution": {
     "iopub.execute_input": "2021-03-14T16:54:56.113847Z",
     "iopub.status.busy": "2021-03-14T16:54:56.112874Z",
     "iopub.status.idle": "2021-03-14T16:54:56.281068Z",
     "shell.execute_reply": "2021-03-14T16:54:56.280356Z"
    },
    "papermill": {
     "duration": 0.234154,
     "end_time": "2021-03-14T16:54:56.281219",
     "exception": false,
     "start_time": "2021-03-14T16:54:56.047065",
     "status": "completed"
    },
    "tags": []
   },
   "outputs": [
    {
     "data": {
      "image/png": "[encoded data removed]",
      "text/plain": [
       "<Figure size 720x504 with 1 Axes>"
      ]
     },
     "metadata": {
      "needs_background": "light"
     },
     "output_type": "display_data"
    }
   ],
   "source": [
    "plot_pr_curve(Y_test, Y_prob)"
   ]
  },
  {
   "cell_type": "markdown",
   "metadata": {
    "papermill": {
     "duration": 0.06226,
     "end_time": "2021-03-14T16:54:56.404766",
     "exception": false,
     "start_time": "2021-03-14T16:54:56.342506",
     "status": "completed"
    },
    "tags": []
   },
   "source": [
    "### Confusion matrix"
   ]
  },
  {
   "cell_type": "code",
   "execution_count": 29,
   "metadata": {
    "execution": {
     "iopub.execute_input": "2021-03-14T16:54:56.534213Z",
     "iopub.status.busy": "2021-03-14T16:54:56.533550Z",
     "iopub.status.idle": "2021-03-14T16:54:56.783759Z",
     "shell.execute_reply": "2021-03-14T16:54:56.783190Z"
    },
    "papermill": {
     "duration": 0.318166,
     "end_time": "2021-03-14T16:54:56.783905",
     "exception": false,
     "start_time": "2021-03-14T16:54:56.465739",
     "status": "completed"
    },
    "tags": []
   },
   "outputs": [
    {
     "name": "stdout",
     "output_type": "stream",
     "text": [
      "Normalized confusion matrix\n",
      "[[0.66719661 0.33280339]\n",
      " [0.31095596 0.68904404]]\n"
     ]
    },
    {
     "data": {
      "image/png": "[encoded data removed]",
      "text/plain": [
       "<Figure size 720x576 with 2 Axes>"
      ]
     },
     "metadata": {
      "needs_background": "light"
     },
     "output_type": "display_data"
    }
   ],
   "source": [
    "cnf_matrix = confusion_matrix(Y_test, Y_pred)\n",
    "\n",
    "plt.figure(figsize=(10, 8))\n",
    "plot_confusion_matrix(cnf_matrix, classes=['non_default', 'default'], title='Confusion matrix')\n",
    "plt.show()"
   ]
  },
  {
   "cell_type": "markdown",
   "metadata": {
    "papermill": {
     "duration": 0.063032,
     "end_time": "2021-03-14T16:54:56.909776",
     "exception": false,
     "start_time": "2021-03-14T16:54:56.846744",
     "status": "completed"
    },
    "tags": []
   },
   "source": [
    "## LogisticRegression + Cross-validation"
   ]
  },
  {
   "cell_type": "code",
   "execution_count": 30,
   "metadata": {
    "execution": {
     "iopub.execute_input": "2021-03-14T16:54:57.046357Z",
     "iopub.status.busy": "2021-03-14T16:54:57.045384Z",
     "iopub.status.idle": "2021-03-14T16:55:00.066794Z",
     "shell.execute_reply": "2021-03-14T16:55:00.066215Z"
    },
    "papermill": {
     "duration": 3.094416,
     "end_time": "2021-03-14T16:55:00.066961",
     "exception": false,
     "start_time": "2021-03-14T16:54:56.972545",
     "status": "completed"
    },
    "tags": []
   },
   "outputs": [],
   "source": [
    "# LogisticRegressionCV\n",
    "model = LogisticRegressionCV(cv=5, random_state = RANDOM_SEED)\n",
    "model.fit(X_train, Y_train)\n",
    "\n",
    "# Prediction\n",
    "Y_pred = model.predict(X_test)\n",
    "\n",
    "# Probability\n",
    "Y_prob = model.predict_proba(X_test)\n",
    "Y_prob = Y_prob[:,1]"
   ]
  },
  {
   "cell_type": "markdown",
   "metadata": {
    "papermill": {
     "duration": 0.064486,
     "end_time": "2021-03-14T16:55:00.195271",
     "exception": false,
     "start_time": "2021-03-14T16:55:00.130785",
     "status": "completed"
    },
    "tags": []
   },
   "source": [
    "### Metrics"
   ]
  },
  {
   "cell_type": "code",
   "execution_count": 31,
   "metadata": {
    "execution": {
     "iopub.execute_input": "2021-03-14T16:55:00.326137Z",
     "iopub.status.busy": "2021-03-14T16:55:00.325091Z",
     "iopub.status.idle": "2021-03-14T16:55:00.340271Z",
     "shell.execute_reply": "2021-03-14T16:55:00.339375Z"
    },
    "papermill": {
     "duration": 0.082314,
     "end_time": "2021-03-14T16:55:00.340478",
     "exception": false,
     "start_time": "2021-03-14T16:55:00.258164",
     "status": "completed"
    },
    "tags": []
   },
   "outputs": [
    {
     "name": "stdout",
     "output_type": "stream",
     "text": [
      "\n",
      " Accuracy: 0.678 \n",
      " Precision: 0.671 \n",
      " Recall: 0.689 \n",
      " F1_score: 0.68\n"
     ]
    }
   ],
   "source": [
    "get_metrics(Y_test, Y_pred)"
   ]
  },
  {
   "cell_type": "markdown",
   "metadata": {
    "papermill": {
     "duration": 0.064035,
     "end_time": "2021-03-14T16:55:00.469368",
     "exception": false,
     "start_time": "2021-03-14T16:55:00.405333",
     "status": "completed"
    },
    "tags": []
   },
   "source": [
    "### ROC-AUC"
   ]
  },
  {
   "cell_type": "code",
   "execution_count": 32,
   "metadata": {
    "execution": {
     "iopub.execute_input": "2021-03-14T16:55:00.601098Z",
     "iopub.status.busy": "2021-03-14T16:55:00.600093Z",
     "iopub.status.idle": "2021-03-14T16:55:00.786709Z",
     "shell.execute_reply": "2021-03-14T16:55:00.786181Z"
    },
    "papermill": {
     "duration": 0.254335,
     "end_time": "2021-03-14T16:55:00.786858",
     "exception": false,
     "start_time": "2021-03-14T16:55:00.532523",
     "status": "completed"
    },
    "tags": []
   },
   "outputs": [
    {
     "data": {
      "image/png": "[encoded data removed]",
      "text/plain": [
       "<Figure size 720x504 with 1 Axes>"
      ]
     },
     "metadata": {
      "needs_background": "light"
     },
     "output_type": "display_data"
    }
   ],
   "source": [
    "plot_roc_auc(Y_test, Y_prob)"
   ]
  },
  {
   "cell_type": "markdown",
   "metadata": {
    "papermill": {
     "duration": 0.064391,
     "end_time": "2021-03-14T16:55:00.915920",
     "exception": false,
     "start_time": "2021-03-14T16:55:00.851529",
     "status": "completed"
    },
    "tags": []
   },
   "source": [
    "### PR-curve"
   ]
  },
  {
   "cell_type": "code",
   "execution_count": 33,
   "metadata": {
    "execution": {
     "iopub.execute_input": "2021-03-14T16:55:01.051972Z",
     "iopub.status.busy": "2021-03-14T16:55:01.051249Z",
     "iopub.status.idle": "2021-03-14T16:55:01.220254Z",
     "shell.execute_reply": "2021-03-14T16:55:01.219614Z"
    },
    "papermill": {
     "duration": 0.238909,
     "end_time": "2021-03-14T16:55:01.220395",
     "exception": false,
     "start_time": "2021-03-14T16:55:00.981486",
     "status": "completed"
    },
    "tags": []
   },
   "outputs": [
    {
     "data": {
      "image/png": "[encoded data removed]",
      "text/plain": [
       "<Figure size 720x504 with 1 Axes>"
      ]
     },
     "metadata": {
      "needs_background": "light"
     },
     "output_type": "display_data"
    }
   ],
   "source": [
    "plot_pr_curve(Y_test, Y_prob)"
   ]
  },
  {
   "cell_type": "markdown",
   "metadata": {
    "papermill": {
     "duration": 0.065872,
     "end_time": "2021-03-14T16:55:01.352621",
     "exception": false,
     "start_time": "2021-03-14T16:55:01.286749",
     "status": "completed"
    },
    "tags": []
   },
   "source": [
    "### Confusion matrix"
   ]
  },
  {
   "cell_type": "code",
   "execution_count": 34,
   "metadata": {
    "execution": {
     "iopub.execute_input": "2021-03-14T16:55:01.492238Z",
     "iopub.status.busy": "2021-03-14T16:55:01.491594Z",
     "iopub.status.idle": "2021-03-14T16:55:01.740118Z",
     "shell.execute_reply": "2021-03-14T16:55:01.739622Z"
    },
    "papermill": {
     "duration": 0.32072,
     "end_time": "2021-03-14T16:55:01.740260",
     "exception": false,
     "start_time": "2021-03-14T16:55:01.419540",
     "status": "completed"
    },
    "tags": []
   },
   "outputs": [
    {
     "name": "stdout",
     "output_type": "stream",
     "text": [
      "Normalized confusion matrix\n",
      "[[0.66719661 0.33280339]\n",
      " [0.31095596 0.68904404]]\n"
     ]
    },
    {
     "data": {
      "image/png": "[encoded data removed]",
      "text/plain": [
       "<Figure size 720x576 with 2 Axes>"
      ]
     },
     "metadata": {
      "needs_background": "light"
     },
     "output_type": "display_data"
    }
   ],
   "source": [
    "cnf_matrix = confusion_matrix(Y_test, Y_pred)\n",
    "\n",
    "plt.figure(figsize=(10, 8))\n",
    "plot_confusion_matrix(cnf_matrix, classes=['non_default', 'default'], title='Confusion matrix')\n",
    "plt.show()"
   ]
  },
  {
   "cell_type": "markdown",
   "metadata": {
    "papermill": {
     "duration": 0.066688,
     "end_time": "2021-03-14T16:55:01.873971",
     "exception": false,
     "start_time": "2021-03-14T16:55:01.807283",
     "status": "completed"
    },
    "tags": []
   },
   "source": [
    "## LogisticRegression + Cross-validation + Regularization"
   ]
  },
  {
   "cell_type": "code",
   "execution_count": 35,
   "metadata": {
    "execution": {
     "iopub.execute_input": "2021-03-14T16:55:02.017504Z",
     "iopub.status.busy": "2021-03-14T16:55:02.016471Z",
     "iopub.status.idle": "2021-03-14T16:56:57.260078Z",
     "shell.execute_reply": "2021-03-14T16:56:57.260680Z"
    },
    "papermill": {
     "duration": 115.319909,
     "end_time": "2021-03-14T16:56:57.260860",
     "exception": false,
     "start_time": "2021-03-14T16:55:01.940951",
     "status": "completed"
    },
    "tags": []
   },
   "outputs": [
    {
     "name": "stdout",
     "output_type": "stream",
     "text": [
      "Fitting 5 folds for each of 46 candidates, totalling 230 fits\n"
     ]
    },
    {
     "data": {
      "text/plain": [
       "{'Cs': array([  1.02329299,   1.41952438,   1.96918135,   2.73167213,\n",
       "          3.78940853,   5.25671323,   7.29217601,  10.11579454,\n",
       "         14.03275223,  19.46640319,  27.00402936,  37.46031531,\n",
       "         51.96540133,  72.08703166, 100.        ]),\n",
       " 'class_weight': 'None',\n",
       " 'cv': None,\n",
       " 'dual': False,\n",
       " 'fit_intercept': True,\n",
       " 'intercept_scaling': 1.0,\n",
       " 'l1_ratios': None,\n",
       " 'max_iter': 100,\n",
       " 'multi_class': 'ovr',\n",
       " 'n_jobs': None,\n",
       " 'penalty': 'l2',\n",
       " 'random_state': None,\n",
       " 'refit': True,\n",
       " 'scoring': None,\n",
       " 'solver': 'sag',\n",
       " 'tol': 0.01,\n",
       " 'verbose': 0}"
      ]
     },
     "execution_count": 35,
     "metadata": {},
     "output_type": "execute_result"
    }
   ],
   "source": [
    "Cs = [np.logspace(0.01, 2, 15)]\n",
    "epsilon = [1e-2]\n",
    "param_grid = [{'penalty': ['l1'],\n",
    "               'Cs': Cs,\n",
    "               'tol': epsilon,\n",
    "               'solver': ['liblinear', 'saga'],\n",
    "               'class_weight': ['None', 'balanced'],\n",
    "               'multi_class': ['auto', 'ovr']},\n",
    "              {'penalty': ['l2'],\n",
    "               'Cs': Cs,\n",
    "               'tol': epsilon,\n",
    "               'solver': ['newton-cg', 'lbfgs', 'sag'],\n",
    "               'class_weight': ['None', 'balanced'],\n",
    "               'multi_class': ['auto', 'ovr', 'multinomial']},\n",
    "              {'penalty': ['elasticnet'],\n",
    "               'Cs': Cs,\n",
    "               'tol': epsilon,\n",
    "               'solver': ['liblinear', 'newton-cg', 'lbfgs', 'sag', 'saga'],\n",
    "               'class_weight': ['None', 'balanced'],\n",
    "               'multi_class': ['auto', 'ovr']}\n",
    "              ]\n",
    "\n",
    "model = LogisticRegressionCV()\n",
    "clf = GridSearchCV(model, param_grid, scoring='f1', n_jobs=-1, verbose=True)\n",
    "\n",
    "best_model = clf.fit(X_train, Y_train)\n",
    "best_model = best_model.best_estimator_.get_params()\n",
    "\n",
    "Cs = best_model['Cs']\n",
    "penalty = best_model['penalty']\n",
    "solver = best_model['solver']\n",
    "multi_class = best_model['multi_class']\n",
    "\n",
    "best_model"
   ]
  },
  {
   "cell_type": "code",
   "execution_count": 36,
   "metadata": {
    "execution": {
     "iopub.execute_input": "2021-03-14T16:56:57.402407Z",
     "iopub.status.busy": "2021-03-14T16:56:57.401397Z",
     "iopub.status.idle": "2021-03-14T16:57:00.999269Z",
     "shell.execute_reply": "2021-03-14T16:57:00.998675Z"
    },
    "papermill": {
     "duration": 3.669589,
     "end_time": "2021-03-14T16:57:00.999418",
     "exception": false,
     "start_time": "2021-03-14T16:56:57.329829",
     "status": "completed"
    },
    "tags": []
   },
   "outputs": [],
   "source": [
    "# LogisticRegressionCV\n",
    "model = LogisticRegressionCV(Cs=Cs,\n",
    "                             penalty=penalty,\n",
    "                             multi_class=multi_class,\n",
    "                             solver=solver,\n",
    "                             cv=5,\n",
    "                             n_jobs=-1,\n",
    "                             random_state=RANDOM_SEED)\n",
    "\n",
    "model.fit(X_train, Y_train)\n",
    "\n",
    "# Prediction\n",
    "Y_pred = model.predict(X_test)\n",
    "\n",
    "# Probability\n",
    "Y_prob = model.predict_proba(X_test)\n",
    "Y_prob = Y_prob[:, 1]"
   ]
  },
  {
   "cell_type": "markdown",
   "metadata": {
    "papermill": {
     "duration": 0.06912,
     "end_time": "2021-03-14T16:57:01.137879",
     "exception": false,
     "start_time": "2021-03-14T16:57:01.068759",
     "status": "completed"
    },
    "tags": []
   },
   "source": [
    "### Metrics"
   ]
  },
  {
   "cell_type": "code",
   "execution_count": 37,
   "metadata": {
    "execution": {
     "iopub.execute_input": "2021-03-14T16:57:01.279953Z",
     "iopub.status.busy": "2021-03-14T16:57:01.278911Z",
     "iopub.status.idle": "2021-03-14T16:57:01.291213Z",
     "shell.execute_reply": "2021-03-14T16:57:01.292001Z"
    },
    "papermill": {
     "duration": 0.08625,
     "end_time": "2021-03-14T16:57:01.292229",
     "exception": false,
     "start_time": "2021-03-14T16:57:01.205979",
     "status": "completed"
    },
    "tags": []
   },
   "outputs": [
    {
     "name": "stdout",
     "output_type": "stream",
     "text": [
      "\n",
      " Accuracy: 0.678 \n",
      " Precision: 0.671 \n",
      " Recall: 0.689 \n",
      " F1_score: 0.68\n"
     ]
    }
   ],
   "source": [
    "get_metrics(Y_test, Y_pred)"
   ]
  },
  {
   "cell_type": "markdown",
   "metadata": {
    "papermill": {
     "duration": 0.068536,
     "end_time": "2021-03-14T16:57:01.430133",
     "exception": false,
     "start_time": "2021-03-14T16:57:01.361597",
     "status": "completed"
    },
    "tags": []
   },
   "source": [
    "### ROC-AUC"
   ]
  },
  {
   "cell_type": "code",
   "execution_count": 38,
   "metadata": {
    "execution": {
     "iopub.execute_input": "2021-03-14T16:57:01.572956Z",
     "iopub.status.busy": "2021-03-14T16:57:01.572288Z",
     "iopub.status.idle": "2021-03-14T16:57:01.758065Z",
     "shell.execute_reply": "2021-03-14T16:57:01.758547Z"
    },
    "papermill": {
     "duration": 0.25865,
     "end_time": "2021-03-14T16:57:01.758755",
     "exception": false,
     "start_time": "2021-03-14T16:57:01.500105",
     "status": "completed"
    },
    "tags": []
   },
   "outputs": [
    {
     "data": {
      "image/png": "[encoded data removed]",
      "text/plain": [
       "<Figure size 720x504 with 1 Axes>"
      ]
     },
     "metadata": {
      "needs_background": "light"
     },
     "output_type": "display_data"
    }
   ],
   "source": [
    "plot_roc_auc(Y_test, Y_prob)"
   ]
  },
  {
   "cell_type": "markdown",
   "metadata": {
    "papermill": {
     "duration": 0.070158,
     "end_time": "2021-03-14T16:57:01.899590",
     "exception": false,
     "start_time": "2021-03-14T16:57:01.829432",
     "status": "completed"
    },
    "tags": []
   },
   "source": [
    "### PR-curve"
   ]
  },
  {
   "cell_type": "code",
   "execution_count": 39,
   "metadata": {
    "execution": {
     "iopub.execute_input": "2021-03-14T16:57:02.044452Z",
     "iopub.status.busy": "2021-03-14T16:57:02.043760Z",
     "iopub.status.idle": "2021-03-14T16:57:02.210299Z",
     "shell.execute_reply": "2021-03-14T16:57:02.210822Z"
    },
    "papermill": {
     "duration": 0.2406,
     "end_time": "2021-03-14T16:57:02.211003",
     "exception": false,
     "start_time": "2021-03-14T16:57:01.970403",
     "status": "completed"
    },
    "tags": []
   },
   "outputs": [
    {
     "data": {
      "image/png": "[encoded data removed]",
      "text/plain": [
       "<Figure size 720x504 with 1 Axes>"
      ]
     },
     "metadata": {
      "needs_background": "light"
     },
     "output_type": "display_data"
    }
   ],
   "source": [
    "plot_pr_curve(Y_test, Y_prob)"
   ]
  },
  {
   "cell_type": "markdown",
   "metadata": {
    "papermill": {
     "duration": 0.073456,
     "end_time": "2021-03-14T16:57:02.356043",
     "exception": false,
     "start_time": "2021-03-14T16:57:02.282587",
     "status": "completed"
    },
    "tags": []
   },
   "source": [
    "### Confusion matrix"
   ]
  },
  {
   "cell_type": "code",
   "execution_count": 40,
   "metadata": {
    "execution": {
     "iopub.execute_input": "2021-03-14T16:57:02.504020Z",
     "iopub.status.busy": "2021-03-14T16:57:02.503345Z",
     "iopub.status.idle": "2021-03-14T16:57:02.751935Z",
     "shell.execute_reply": "2021-03-14T16:57:02.751284Z"
    },
    "papermill": {
     "duration": 0.323824,
     "end_time": "2021-03-14T16:57:02.752102",
     "exception": false,
     "start_time": "2021-03-14T16:57:02.428278",
     "status": "completed"
    },
    "tags": []
   },
   "outputs": [
    {
     "name": "stdout",
     "output_type": "stream",
     "text": [
      "Normalized confusion matrix\n",
      "[[0.66719661 0.33280339]\n",
      " [0.31095596 0.68904404]]\n"
     ]
    },
    {
     "data": {
      "image/png": "[encoded data removed]",
      "text/plain": [
       "<Figure size 720x576 with 2 Axes>"
      ]
     },
     "metadata": {
      "needs_background": "light"
     },
     "output_type": "display_data"
    }
   ],
   "source": [
    "cnf_matrix = confusion_matrix(Y_test, Y_pred)\n",
    "\n",
    "plt.figure(figsize=(10, 8))\n",
    "plot_confusion_matrix(cnf_matrix, classes=['non_default', 'default'], title='Confusion matrix')\n",
    "plt.show()"
   ]
  },
  {
   "cell_type": "markdown",
   "metadata": {
    "papermill": {
     "duration": 0.073231,
     "end_time": "2021-03-14T16:57:02.899778",
     "exception": false,
     "start_time": "2021-03-14T16:57:02.826547",
     "status": "completed"
    },
    "tags": []
   },
   "source": [
    "## Decision Tree Regressor"
   ]
  },
  {
   "cell_type": "code",
   "execution_count": 41,
   "metadata": {
    "execution": {
     "iopub.execute_input": "2021-03-14T16:57:03.057144Z",
     "iopub.status.busy": "2021-03-14T16:57:03.055996Z",
     "iopub.status.idle": "2021-03-14T16:57:03.186708Z",
     "shell.execute_reply": "2021-03-14T16:57:03.186025Z"
    },
    "papermill": {
     "duration": 0.213989,
     "end_time": "2021-03-14T16:57:03.186857",
     "exception": false,
     "start_time": "2021-03-14T16:57:02.972868",
     "status": "completed"
    },
    "tags": []
   },
   "outputs": [],
   "source": [
    "model = DecisionTreeClassifier(random_state=RANDOM_SEED)\n",
    "\n",
    "model.fit(X_train, Y_train)\n",
    "\n",
    "# Prediction\n",
    "Y_pred = model.predict(X_test)\n",
    "\n",
    "# Probability\n",
    "Y_prob = model.predict_proba(X_test)\n",
    "Y_prob = Y_prob[:, 1]"
   ]
  },
  {
   "cell_type": "code",
   "execution_count": 42,
   "metadata": {
    "execution": {
     "iopub.execute_input": "2021-03-14T16:57:03.340813Z",
     "iopub.status.busy": "2021-03-14T16:57:03.339784Z",
     "iopub.status.idle": "2021-03-14T16:57:03.935755Z",
     "shell.execute_reply": "2021-03-14T16:57:03.936229Z"
    },
    "papermill": {
     "duration": 0.676134,
     "end_time": "2021-03-14T16:57:03.936434",
     "exception": false,
     "start_time": "2021-03-14T16:57:03.260300",
     "status": "completed"
    },
    "tags": []
   },
   "outputs": [
    {
     "name": "stdout",
     "output_type": "stream",
     "text": [
      "\n",
      " Accuracy: 0.561 \n",
      " Precision: 0.558 \n",
      " Recall: 0.56 \n",
      " F1_score: 0.559\n"
     ]
    },
    {
     "data": {
      "image/png": "[encoded data removed]",
      "text/plain": [
       "<Figure size 720x504 with 1 Axes>"
      ]
     },
     "metadata": {
      "needs_background": "light"
     },
     "output_type": "display_data"
    },
    {
     "data": {
      "image/png": "[encoded data removed]",
      "text/plain": [
       "<Figure size 720x504 with 1 Axes>"
      ]
     },
     "metadata": {
      "needs_background": "light"
     },
     "output_type": "display_data"
    },
    {
     "name": "stdout",
     "output_type": "stream",
     "text": [
      "Normalized confusion matrix\n",
      "[[0.56173821 0.43826179]\n",
      " [0.43984962 0.56015038]]\n"
     ]
    },
    {
     "data": {
      "image/png": "[encoded data removed]",
      "text/plain": [
       "<Figure size 720x576 with 2 Axes>"
      ]
     },
     "metadata": {
      "needs_background": "light"
     },
     "output_type": "display_data"
    }
   ],
   "source": [
    "get_metrics(Y_test, Y_pred)\n",
    "\n",
    "\n",
    "plot_roc_auc(Y_test, Y_prob)\n",
    "\n",
    "\n",
    "plot_pr_curve(Y_test, Y_prob)\n",
    "\n",
    "\n",
    "cnf_matrix = confusion_matrix(Y_test, Y_pred)\n",
    "\n",
    "plt.figure(figsize=(10, 8))\n",
    "plot_confusion_matrix(cnf_matrix, classes=['non_default', 'default'], title='Confusion matrix')\n",
    "plt.show()"
   ]
  },
  {
   "cell_type": "markdown",
   "metadata": {
    "papermill": {
     "duration": 0.077918,
     "end_time": "2021-03-14T16:57:04.091755",
     "exception": false,
     "start_time": "2021-03-14T16:57:04.013837",
     "status": "completed"
    },
    "tags": []
   },
   "source": [
    "## RandomForestClassifier"
   ]
  },
  {
   "cell_type": "code",
   "execution_count": 43,
   "metadata": {
    "execution": {
     "iopub.execute_input": "2021-03-14T16:57:04.256410Z",
     "iopub.status.busy": "2021-03-14T16:57:04.255763Z",
     "iopub.status.idle": "2021-03-14T16:57:04.729122Z",
     "shell.execute_reply": "2021-03-14T16:57:04.728536Z"
    },
    "papermill": {
     "duration": 0.559022,
     "end_time": "2021-03-14T16:57:04.729287",
     "exception": false,
     "start_time": "2021-03-14T16:57:04.170265",
     "status": "completed"
    },
    "tags": []
   },
   "outputs": [],
   "source": [
    "model = RandomForestClassifier(n_jobs= -1,\n",
    "                               random_state=RANDOM_SEED,\n",
    "                               ccp_alpha = 0.0,\n",
    "                               max_depth = 4,\n",
    "                               max_features = \"auto\",\n",
    "                               max_leaf_nodes = 9,\n",
    "                               n_estimators = 15,\n",
    "                               oob_score = False)\n",
    "\n",
    "model.fit(X_train, Y_train)\n",
    "\n",
    "# Prediction\n",
    "Y_pred = model.predict(X_test)\n",
    "\n",
    "# Probability\n",
    "Y_prob = model.predict_proba(X_test)\n",
    "Y_prob = Y_prob[:, 1]"
   ]
  },
  {
   "cell_type": "code",
   "execution_count": 44,
   "metadata": {
    "execution": {
     "iopub.execute_input": "2021-03-14T16:57:04.892039Z",
     "iopub.status.busy": "2021-03-14T16:57:04.891323Z",
     "iopub.status.idle": "2021-03-14T16:57:05.490413Z",
     "shell.execute_reply": "2021-03-14T16:57:05.489837Z"
    },
    "papermill": {
     "duration": 0.683629,
     "end_time": "2021-03-14T16:57:05.490574",
     "exception": false,
     "start_time": "2021-03-14T16:57:04.806945",
     "status": "completed"
    },
    "tags": []
   },
   "outputs": [
    {
     "name": "stdout",
     "output_type": "stream",
     "text": [
      "\n",
      " Accuracy: 0.655 \n",
      " Precision: 0.646 \n",
      " Recall: 0.676 \n",
      " F1_score: 0.661\n"
     ]
    },
    {
     "data": {
      "image/png": "[encoded data removed]",
      "text/plain": [
       "<Figure size 720x504 with 1 Axes>"
      ]
     },
     "metadata": {
      "needs_background": "light"
     },
     "output_type": "display_data"
    },
    {
     "data": {
      "image/png": "[encoded data removed]",
      "text/plain": [
       "<Figure size 720x504 with 1 Axes>"
      ]
     },
     "metadata": {
      "needs_background": "light"
     },
     "output_type": "display_data"
    },
    {
     "name": "stdout",
     "output_type": "stream",
     "text": [
      "Normalized confusion matrix\n",
      "[[0.63540011 0.36459989]\n",
      " [0.32438238 0.67561762]]\n"
     ]
    },
    {
     "data": {
      "image/png": "[encoded data removed]",
      "text/plain": [
       "<Figure size 720x576 with 2 Axes>"
      ]
     },
     "metadata": {
      "needs_background": "light"
     },
     "output_type": "display_data"
    }
   ],
   "source": [
    "get_metrics(Y_test, Y_pred)\n",
    "\n",
    "\n",
    "plot_roc_auc(Y_test, Y_prob)\n",
    "\n",
    "\n",
    "plot_pr_curve(Y_test, Y_prob)\n",
    "\n",
    "\n",
    "cnf_matrix = confusion_matrix(Y_test, Y_pred)\n",
    "\n",
    "plt.figure(figsize=(10, 8))\n",
    "plot_confusion_matrix(cnf_matrix, classes=['non_default', 'default'], title='Confusion matrix')\n",
    "plt.show()"
   ]
  },
  {
   "cell_type": "markdown",
   "metadata": {
    "papermill": {
     "duration": 0.08263,
     "end_time": "2021-03-14T16:57:05.657527",
     "exception": false,
     "start_time": "2021-03-14T16:57:05.574897",
     "status": "completed"
    },
    "tags": []
   },
   "source": [
    "## XGBoostClassifier"
   ]
  },
  {
   "cell_type": "code",
   "execution_count": 45,
   "metadata": {
    "execution": {
     "iopub.execute_input": "2021-03-14T16:57:05.829500Z",
     "iopub.status.busy": "2021-03-14T16:57:05.828480Z",
     "iopub.status.idle": "2021-03-14T16:57:08.359894Z",
     "shell.execute_reply": "2021-03-14T16:57:08.360510Z"
    },
    "papermill": {
     "duration": 2.620717,
     "end_time": "2021-03-14T16:57:08.360744",
     "exception": false,
     "start_time": "2021-03-14T16:57:05.740027",
     "status": "completed"
    },
    "tags": []
   },
   "outputs": [
    {
     "name": "stdout",
     "output_type": "stream",
     "text": [
      "[16:57:05] WARNING: ../src/learner.cc:1061: Starting in XGBoost 1.3.0, the default evaluation metric used with the objective 'binary:logistic' was changed from 'error' to 'logloss'. Explicitly set eval_metric if you'd like to restore the old behavior.\n"
     ]
    }
   ],
   "source": [
    "model = XGBClassifier(n_jobs= -1,\n",
    "                      random_state=RANDOM_SEED,\n",
    "                      eta = 0.02,\n",
    "                      max_depth = 8,\n",
    "                      n_estimators = 100,\n",
    "                      sampling_method = 'uniform',\n",
    "                      tree_method = 'auto')\n",
    "\n",
    "model.fit(X_train, Y_train)\n",
    "\n",
    "# Prediction\n",
    "Y_pred = model.predict(X_test)\n",
    "\n",
    "# Probability\n",
    "Y_prob = model.predict_proba(X_test)\n",
    "Y_prob = Y_prob[:, 1]"
   ]
  },
  {
   "cell_type": "code",
   "execution_count": 46,
   "metadata": {
    "execution": {
     "iopub.execute_input": "2021-03-14T16:57:08.541509Z",
     "iopub.status.busy": "2021-03-14T16:57:08.540190Z",
     "iopub.status.idle": "2021-03-14T16:57:09.188752Z",
     "shell.execute_reply": "2021-03-14T16:57:09.188049Z"
    },
    "papermill": {
     "duration": 0.742896,
     "end_time": "2021-03-14T16:57:09.188921",
     "exception": false,
     "start_time": "2021-03-14T16:57:08.446025",
     "status": "completed"
    },
    "tags": []
   },
   "outputs": [
    {
     "name": "stdout",
     "output_type": "stream",
     "text": [
      "\n",
      " Accuracy: 0.671 \n",
      " Precision: 0.66 \n",
      " Recall: 0.694 \n",
      " F1_score: 0.677\n"
     ]
    },
    {
     "data": {
      "image/png": "[encoded data removed]",
      "text/plain": [
       "<Figure size 720x504 with 1 Axes>"
      ]
     },
     "metadata": {
      "needs_background": "light"
     },
     "output_type": "display_data"
    },
    {
     "data": {
      "image/png": "[encoded data removed]",
      "text/plain": [
       "<Figure size 720x504 with 1 Axes>"
      ]
     },
     "metadata": {
      "needs_background": "light"
     },
     "output_type": "display_data"
    },
    {
     "name": "stdout",
     "output_type": "stream",
     "text": [
      "Normalized confusion matrix\n",
      "[[0.64705882 0.35294118]\n",
      " [0.30558539 0.69441461]]\n"
     ]
    },
    {
     "data": {
      "image/png": "[encoded data removed]",
      "text/plain": [
       "<Figure size 720x576 with 2 Axes>"
      ]
     },
     "metadata": {
      "needs_background": "light"
     },
     "output_type": "display_data"
    }
   ],
   "source": [
    "get_metrics(Y_test, Y_pred)\n",
    "\n",
    "\n",
    "plot_roc_auc(Y_test, Y_prob)\n",
    "\n",
    "\n",
    "plot_pr_curve(Y_test, Y_prob)\n",
    "\n",
    "\n",
    "cnf_matrix = confusion_matrix(Y_test, Y_pred)\n",
    "\n",
    "plt.figure(figsize=(10, 8))\n",
    "plot_confusion_matrix(cnf_matrix, classes=['non_default', 'default'], title='Confusion matrix')\n",
    "plt.show()"
   ]
  },
  {
   "cell_type": "markdown",
   "metadata": {
    "papermill": {
     "duration": 0.089401,
     "end_time": "2021-03-14T16:57:09.367236",
     "exception": false,
     "start_time": "2021-03-14T16:57:09.277835",
     "status": "completed"
    },
    "tags": []
   },
   "source": [
    "## LGBM Classifier"
   ]
  },
  {
   "cell_type": "code",
   "execution_count": 47,
   "metadata": {
    "execution": {
     "iopub.execute_input": "2021-03-14T16:57:09.553134Z",
     "iopub.status.busy": "2021-03-14T16:57:09.552373Z",
     "iopub.status.idle": "2021-03-14T16:57:09.713059Z",
     "shell.execute_reply": "2021-03-14T16:57:09.713652Z"
    },
    "papermill": {
     "duration": 0.259048,
     "end_time": "2021-03-14T16:57:09.713868",
     "exception": false,
     "start_time": "2021-03-14T16:57:09.454820",
     "status": "completed"
    },
    "tags": []
   },
   "outputs": [
    {
     "name": "stdout",
     "output_type": "stream",
     "text": [
      "[LightGBM] [Warning] Unknown parameter: tree_method\n",
      "[LightGBM] [Warning] Unknown parameter: sampling_method\n",
      "[LightGBM] [Warning] learning_rate is set=0.1, eta=0.01 will be ignored. Current value: learning_rate=0.1\n"
     ]
    }
   ],
   "source": [
    "model = LGBMClassifier(n_jobs= -1,\n",
    "                       random_state=RANDOM_SEED,\n",
    "                       eta = 0.01,\n",
    "                       max_depth = 4,\n",
    "                       n_estimators = 50,\n",
    "                       sampling_method = 'uniform',\n",
    "                       tree_method = 'auto')\n",
    "\n",
    "model.fit(X_train, Y_train)\n",
    "\n",
    "# Prediction\n",
    "Y_pred = model.predict(X_test)\n",
    "\n",
    "# Probability\n",
    "Y_prob = model.predict_proba(X_test)\n",
    "Y_prob = Y_prob[:, 1]"
   ]
  },
  {
   "cell_type": "code",
   "execution_count": 48,
   "metadata": {
    "execution": {
     "iopub.execute_input": "2021-03-14T16:57:09.901044Z",
     "iopub.status.busy": "2021-03-14T16:57:09.900278Z",
     "iopub.status.idle": "2021-03-14T16:57:10.556347Z",
     "shell.execute_reply": "2021-03-14T16:57:10.555683Z"
    },
    "papermill": {
     "duration": 0.752566,
     "end_time": "2021-03-14T16:57:10.556490",
     "exception": false,
     "start_time": "2021-03-14T16:57:09.803924",
     "status": "completed"
    },
    "tags": []
   },
   "outputs": [
    {
     "name": "stdout",
     "output_type": "stream",
     "text": [
      "\n",
      " Accuracy: 0.676 \n",
      " Precision: 0.665 \n",
      " Recall: 0.701 \n",
      " F1_score: 0.683\n"
     ]
    },
    {
     "data": {
      "image/png": "[encoded data removed]",
      "text/plain": [
       "<Figure size 720x504 with 1 Axes>"
      ]
     },
     "metadata": {
      "needs_background": "light"
     },
     "output_type": "display_data"
    },
    {
     "data": {
      "image/png": "[encoded data removed]",
      "text/plain": [
       "<Figure size 720x504 with 1 Axes>"
      ]
     },
     "metadata": {
      "needs_background": "light"
     },
     "output_type": "display_data"
    },
    {
     "name": "stdout",
     "output_type": "stream",
     "text": [
      "Normalized confusion matrix\n",
      "[[0.6518283  0.3481717 ]\n",
      " [0.29860365 0.70139635]]\n"
     ]
    },
    {
     "data": {
      "image/png": "[encoded data removed]",
      "text/plain": [
       "<Figure size 720x576 with 2 Axes>"
      ]
     },
     "metadata": {
      "needs_background": "light"
     },
     "output_type": "display_data"
    }
   ],
   "source": [
    "get_metrics(Y_test, Y_pred)\n",
    "\n",
    "\n",
    "plot_roc_auc(Y_test, Y_prob)\n",
    "\n",
    "\n",
    "plot_pr_curve(Y_test, Y_prob)\n",
    "\n",
    "\n",
    "cnf_matrix = confusion_matrix(Y_test, Y_pred)\n",
    "\n",
    "plt.figure(figsize=(10, 8))\n",
    "plot_confusion_matrix(cnf_matrix, classes=['non_default', 'default'], title='Confusion matrix')\n",
    "plt.show()"
   ]
  },
  {
   "cell_type": "markdown",
   "metadata": {
    "papermill": {
     "duration": 0.092145,
     "end_time": "2021-03-14T16:57:10.742421",
     "exception": false,
     "start_time": "2021-03-14T16:57:10.650276",
     "status": "completed"
    },
    "tags": []
   },
   "source": [
    "## XGBoost + Regularization"
   ]
  },
  {
   "cell_type": "code",
   "execution_count": 49,
   "metadata": {
    "execution": {
     "iopub.execute_input": "2021-03-14T16:57:10.932765Z",
     "iopub.status.busy": "2021-03-14T16:57:10.932025Z",
     "iopub.status.idle": "2021-03-14T16:57:10.935000Z",
     "shell.execute_reply": "2021-03-14T16:57:10.934423Z"
    },
    "papermill": {
     "duration": 0.100953,
     "end_time": "2021-03-14T16:57:10.935149",
     "exception": false,
     "start_time": "2021-03-14T16:57:10.834196",
     "status": "completed"
    },
    "tags": []
   },
   "outputs": [],
   "source": [
    "# param_grid = {'n_estimators':[20, 30, 40, 50, 60, 70, 80, 90, 100, 110],\n",
    "#               'eta': [0.01, 0.02, 0.03, 0.04],\n",
    "#               'max_depth' : [6, 7, 8,  9, 10],\n",
    "#               'sampling_method': ['uniform'],\n",
    "#               'tree_method': ['auto']}\n",
    "\n",
    "# model = XGBClassifier()\n",
    "# clf = GridSearchCV(model, param_grid, scoring='f1', n_jobs=-1, verbose=True)\n",
    "\n",
    "# best_model = clf.fit(X_train, Y_train)\n",
    "# best_model = best_model.best_estimator_.get_params()\n",
    "\n",
    "# eta = best_model['eta']\n",
    "# n_estimators = best_model['n_estimators']\n",
    "# max_depth = best_model['max_depth']\n",
    "\n",
    "# best_model"
   ]
  },
  {
   "cell_type": "code",
   "execution_count": 50,
   "metadata": {
    "execution": {
     "iopub.execute_input": "2021-03-14T16:57:11.130599Z",
     "iopub.status.busy": "2021-03-14T16:57:11.129470Z",
     "iopub.status.idle": "2021-03-14T16:57:11.133344Z",
     "shell.execute_reply": "2021-03-14T16:57:11.132778Z"
    },
    "papermill": {
     "duration": 0.102225,
     "end_time": "2021-03-14T16:57:11.133506",
     "exception": false,
     "start_time": "2021-03-14T16:57:11.031281",
     "status": "completed"
    },
    "tags": []
   },
   "outputs": [],
   "source": [
    "# model = XGBClassifier(n_jobs= -1,\n",
    "#                       random_state=RANDOM_SEED,\n",
    "#                       eta = eta,\n",
    "#                       max_depth = max_depth,\n",
    "#                       n_estimators = n_estimators,\n",
    "#                       sampling_method = 'uniform',\n",
    "#                       tree_method = 'auto')\n",
    "\n",
    "# model.fit(X_train, Y_train)\n",
    "\n",
    "# # Prediction\n",
    "# Y_pred = model.predict(X_test)\n",
    "\n",
    "# # Probability\n",
    "# Y_prob = model.predict_proba(X_test)\n",
    "# Y_prob = Y_prob[:, 1]"
   ]
  },
  {
   "cell_type": "markdown",
   "metadata": {
    "papermill": {
     "duration": 0.091859,
     "end_time": "2021-03-14T16:57:11.319681",
     "exception": false,
     "start_time": "2021-03-14T16:57:11.227822",
     "status": "completed"
    },
    "tags": []
   },
   "source": [
    "## RandomForestClassifier + Regularization"
   ]
  },
  {
   "cell_type": "code",
   "execution_count": 51,
   "metadata": {
    "execution": {
     "iopub.execute_input": "2021-03-14T16:57:11.513906Z",
     "iopub.status.busy": "2021-03-14T16:57:11.513154Z",
     "iopub.status.idle": "2021-03-14T16:57:11.516321Z",
     "shell.execute_reply": "2021-03-14T16:57:11.516842Z"
    },
    "papermill": {
     "duration": 0.101284,
     "end_time": "2021-03-14T16:57:11.517033",
     "exception": false,
     "start_time": "2021-03-14T16:57:11.415749",
     "status": "completed"
    },
    "tags": []
   },
   "outputs": [],
   "source": [
    "# param_grid = {'n_estimators':[20, 30, 40, 50, 60, 70, 80, 90, 100, 110],\n",
    "#               'max_depth' : [6, 7, 8,  9, 10],\n",
    "#               'max_features': ['auto'],\n",
    "#               'max_leaf_nodes': [9, 10, 11],\n",
    "#               'oob_score': [False],\n",
    "#               'ccp_alpha': [0.0, 0.01, 0.05, 1]\n",
    "#              }\n",
    "\n",
    "# model = RandomForestClassifier()\n",
    "# clf = GridSearchCV(model, param_grid, scoring='f1', n_jobs=-1, verbose=True)\n",
    "\n",
    "# best_model = clf.fit(X_train, Y_train)\n",
    "# best_model = best_model.best_estimator_.get_params()\n",
    "\n",
    "# n_estimators = best_model['n_estimators']\n",
    "# max_depth = best_model['max_depth']\n",
    "# max_leaf_nodes = best_model['max_leaf_nodes']\n",
    "# ccp_alpha = best_model['ccp_alpha']\n",
    "\n",
    "# best_model"
   ]
  },
  {
   "cell_type": "code",
   "execution_count": 52,
   "metadata": {
    "execution": {
     "iopub.execute_input": "2021-03-14T16:57:11.708341Z",
     "iopub.status.busy": "2021-03-14T16:57:11.707404Z",
     "iopub.status.idle": "2021-03-14T16:57:11.712902Z",
     "shell.execute_reply": "2021-03-14T16:57:11.711898Z"
    },
    "papermill": {
     "duration": 0.104412,
     "end_time": "2021-03-14T16:57:11.713192",
     "exception": false,
     "start_time": "2021-03-14T16:57:11.608780",
     "status": "completed"
    },
    "tags": []
   },
   "outputs": [],
   "source": [
    "# model = RandomForestClassifier(n_jobs= -1,\n",
    "#                                random_state=RANDOM_SEED,\n",
    "#                                max_depth = max_depth,\n",
    "#                                n_estimators = n_estimators,\n",
    "#                                max_leaf_nodes = max_leaf_nodes,\n",
    "#                                ccp_alpha = ccp_alpha,\n",
    "#                                max_features = 'auto')\n",
    "\n",
    "# model.fit(X_train, Y_train)\n",
    "\n",
    "# # Prediction\n",
    "# Y_pred = model.predict(X_test)\n",
    "\n",
    "# # Probability\n",
    "# Y_prob = model.predict_proba(X_test)\n",
    "# Y_prob = Y_prob[:, 1]"
   ]
  },
  {
   "cell_type": "markdown",
   "metadata": {
    "papermill": {
     "duration": 0.092393,
     "end_time": "2021-03-14T16:57:11.902147",
     "exception": false,
     "start_time": "2021-03-14T16:57:11.809754",
     "status": "completed"
    },
    "tags": []
   },
   "source": [
    "## Submission"
   ]
  },
  {
   "cell_type": "code",
   "execution_count": 53,
   "metadata": {
    "execution": {
     "iopub.execute_input": "2021-03-14T16:57:12.110809Z",
     "iopub.status.busy": "2021-03-14T16:57:12.110142Z",
     "iopub.status.idle": "2021-03-14T16:57:12.134218Z",
     "shell.execute_reply": "2021-03-14T16:57:12.133530Z"
    },
    "papermill": {
     "duration": 0.139177,
     "end_time": "2021-03-14T16:57:12.134364",
     "exception": false,
     "start_time": "2021-03-14T16:57:11.995187",
     "status": "completed"
    },
    "tags": []
   },
   "outputs": [
    {
     "data": {
      "text/html": [
       "<div>\n",
       "<style scoped>\n",
       "    .dataframe tbody tr th:only-of-type {\n",
       "        vertical-align: middle;\n",
       "    }\n",
       "\n",
       "    .dataframe tbody tr th {\n",
       "        vertical-align: top;\n",
       "    }\n",
       "\n",
       "    .dataframe thead th {\n",
       "        text-align: right;\n",
       "    }\n",
       "</style>\n",
       "<table border=\"1\" class=\"dataframe\">\n",
       "  <thead>\n",
       "    <tr style=\"text-align: right;\">\n",
       "      <th></th>\n",
       "      <th>client_id</th>\n",
       "      <th>app_date</th>\n",
       "      <th>education</th>\n",
       "      <th>sex</th>\n",
       "      <th>age</th>\n",
       "      <th>car</th>\n",
       "      <th>car_type</th>\n",
       "      <th>decline_app_cnt</th>\n",
       "      <th>good_work</th>\n",
       "      <th>score_bki</th>\n",
       "      <th>bki_request_cnt</th>\n",
       "      <th>region_rating</th>\n",
       "      <th>home_address</th>\n",
       "      <th>work_address</th>\n",
       "      <th>income</th>\n",
       "      <th>sna</th>\n",
       "      <th>first_time</th>\n",
       "      <th>foreign_passport</th>\n",
       "      <th>default</th>\n",
       "      <th>app_date_month</th>\n",
       "      <th>app_date_day</th>\n",
       "      <th>ACD</th>\n",
       "      <th>GRD</th>\n",
       "      <th>PGR</th>\n",
       "      <th>SCH</th>\n",
       "      <th>UGR</th>\n",
       "      <th>NaN</th>\n",
       "      <th>region_rating_20</th>\n",
       "      <th>region_rating_30</th>\n",
       "      <th>region_rating_40</th>\n",
       "      <th>region_rating_50</th>\n",
       "      <th>region_rating_60</th>\n",
       "      <th>region_rating_70</th>\n",
       "      <th>region_rating_80</th>\n",
       "      <th>home_address_1</th>\n",
       "      <th>home_address_2</th>\n",
       "      <th>home_address_3</th>\n",
       "      <th>work_address_1</th>\n",
       "      <th>work_address_2</th>\n",
       "      <th>work_address_3</th>\n",
       "      <th>sna_1</th>\n",
       "      <th>sna_2</th>\n",
       "      <th>sna_3</th>\n",
       "      <th>sna_4</th>\n",
       "      <th>first_time_1</th>\n",
       "      <th>first_time_2</th>\n",
       "      <th>first_time_3</th>\n",
       "      <th>first_time_4</th>\n",
       "      <th>age_norm</th>\n",
       "      <th>age_log</th>\n",
       "      <th>age_log_norm</th>\n",
       "      <th>decline_app_cnt_norm</th>\n",
       "      <th>decline_app_cnt_log</th>\n",
       "      <th>decline_app_cnt_log_norm</th>\n",
       "      <th>score_bki_norm</th>\n",
       "      <th>score_bki_log</th>\n",
       "      <th>score_bki_log_norm</th>\n",
       "      <th>bki_request_cnt_norm</th>\n",
       "      <th>bki_request_cnt_log</th>\n",
       "      <th>bki_request_cnt_log_norm</th>\n",
       "      <th>income_norm</th>\n",
       "      <th>income_log</th>\n",
       "      <th>income_log_norm</th>\n",
       "      <th>decline_app_cnt_group</th>\n",
       "      <th>no_decline</th>\n",
       "      <th>1_decline</th>\n",
       "      <th>mm_decline</th>\n",
       "    </tr>\n",
       "  </thead>\n",
       "  <tbody>\n",
       "    <tr>\n",
       "      <th>75913</th>\n",
       "      <td>86282</td>\n",
       "      <td>2014-04-02</td>\n",
       "      <td>4</td>\n",
       "      <td>0</td>\n",
       "      <td>58</td>\n",
       "      <td>0</td>\n",
       "      <td>0</td>\n",
       "      <td>1</td>\n",
       "      <td>0</td>\n",
       "      <td>1.721074</td>\n",
       "      <td>1</td>\n",
       "      <td>50</td>\n",
       "      <td>2</td>\n",
       "      <td>3</td>\n",
       "      <td>22000</td>\n",
       "      <td>2</td>\n",
       "      <td>3</td>\n",
       "      <td>0</td>\n",
       "      <td>0</td>\n",
       "      <td>4</td>\n",
       "      <td>2</td>\n",
       "      <td>0</td>\n",
       "      <td>0</td>\n",
       "      <td>0</td>\n",
       "      <td>0</td>\n",
       "      <td>1</td>\n",
       "      <td>0</td>\n",
       "      <td>0</td>\n",
       "      <td>0</td>\n",
       "      <td>0</td>\n",
       "      <td>1</td>\n",
       "      <td>0</td>\n",
       "      <td>0</td>\n",
       "      <td>0</td>\n",
       "      <td>0</td>\n",
       "      <td>1</td>\n",
       "      <td>0</td>\n",
       "      <td>0</td>\n",
       "      <td>0</td>\n",
       "      <td>1</td>\n",
       "      <td>0</td>\n",
       "      <td>1</td>\n",
       "      <td>0</td>\n",
       "      <td>0</td>\n",
       "      <td>0</td>\n",
       "      <td>0</td>\n",
       "      <td>1</td>\n",
       "      <td>0</td>\n",
       "      <td>1.627937</td>\n",
       "      <td>4.077537</td>\n",
       "      <td>1.483906</td>\n",
       "      <td>0.909522</td>\n",
       "      <td>0.693147</td>\n",
       "      <td>1.499512</td>\n",
       "      <td>-0.367493</td>\n",
       "      <td>1.001027</td>\n",
       "      <td>-0.271454</td>\n",
       "      <td>-0.443335</td>\n",
       "      <td>0.693147</td>\n",
       "      <td>-0.281790</td>\n",
       "      <td>-0.418785</td>\n",
       "      <td>9.998843</td>\n",
       "      <td>-0.498037</td>\n",
       "      <td>1</td>\n",
       "      <td>0</td>\n",
       "      <td>1</td>\n",
       "      <td>0</td>\n",
       "    </tr>\n",
       "    <tr>\n",
       "      <th>74339</th>\n",
       "      <td>52821</td>\n",
       "      <td>2014-03-01</td>\n",
       "      <td>1</td>\n",
       "      <td>0</td>\n",
       "      <td>33</td>\n",
       "      <td>0</td>\n",
       "      <td>0</td>\n",
       "      <td>0</td>\n",
       "      <td>0</td>\n",
       "      <td>2.194838</td>\n",
       "      <td>2</td>\n",
       "      <td>70</td>\n",
       "      <td>1</td>\n",
       "      <td>3</td>\n",
       "      <td>35000</td>\n",
       "      <td>1</td>\n",
       "      <td>3</td>\n",
       "      <td>0</td>\n",
       "      <td>0</td>\n",
       "      <td>3</td>\n",
       "      <td>1</td>\n",
       "      <td>0</td>\n",
       "      <td>1</td>\n",
       "      <td>0</td>\n",
       "      <td>0</td>\n",
       "      <td>0</td>\n",
       "      <td>0</td>\n",
       "      <td>0</td>\n",
       "      <td>0</td>\n",
       "      <td>0</td>\n",
       "      <td>0</td>\n",
       "      <td>0</td>\n",
       "      <td>1</td>\n",
       "      <td>0</td>\n",
       "      <td>1</td>\n",
       "      <td>0</td>\n",
       "      <td>0</td>\n",
       "      <td>0</td>\n",
       "      <td>0</td>\n",
       "      <td>1</td>\n",
       "      <td>1</td>\n",
       "      <td>0</td>\n",
       "      <td>0</td>\n",
       "      <td>0</td>\n",
       "      <td>0</td>\n",
       "      <td>0</td>\n",
       "      <td>1</td>\n",
       "      <td>0</td>\n",
       "      <td>-0.542577</td>\n",
       "      <td>3.526361</td>\n",
       "      <td>-0.449689</td>\n",
       "      <td>-0.341893</td>\n",
       "      <td>0.000000</td>\n",
       "      <td>-0.418815</td>\n",
       "      <td>0.581373</td>\n",
       "      <td>1.161536</td>\n",
       "      <td>0.610422</td>\n",
       "      <td>-0.002207</td>\n",
       "      <td>1.098612</td>\n",
       "      <td>0.333797</td>\n",
       "      <td>-0.132439</td>\n",
       "      <td>10.463132</td>\n",
       "      <td>0.168439</td>\n",
       "      <td>0</td>\n",
       "      <td>1</td>\n",
       "      <td>0</td>\n",
       "      <td>0</td>\n",
       "    </tr>\n",
       "    <tr>\n",
       "      <th>80466</th>\n",
       "      <td>12072</td>\n",
       "      <td>2014-01-19</td>\n",
       "      <td>3</td>\n",
       "      <td>1</td>\n",
       "      <td>26</td>\n",
       "      <td>0</td>\n",
       "      <td>0</td>\n",
       "      <td>4</td>\n",
       "      <td>0</td>\n",
       "      <td>1.620315</td>\n",
       "      <td>1</td>\n",
       "      <td>40</td>\n",
       "      <td>2</td>\n",
       "      <td>3</td>\n",
       "      <td>23000</td>\n",
       "      <td>3</td>\n",
       "      <td>3</td>\n",
       "      <td>0</td>\n",
       "      <td>0</td>\n",
       "      <td>1</td>\n",
       "      <td>19</td>\n",
       "      <td>0</td>\n",
       "      <td>0</td>\n",
       "      <td>0</td>\n",
       "      <td>1</td>\n",
       "      <td>0</td>\n",
       "      <td>0</td>\n",
       "      <td>0</td>\n",
       "      <td>0</td>\n",
       "      <td>1</td>\n",
       "      <td>0</td>\n",
       "      <td>0</td>\n",
       "      <td>0</td>\n",
       "      <td>0</td>\n",
       "      <td>0</td>\n",
       "      <td>1</td>\n",
       "      <td>0</td>\n",
       "      <td>0</td>\n",
       "      <td>0</td>\n",
       "      <td>1</td>\n",
       "      <td>0</td>\n",
       "      <td>0</td>\n",
       "      <td>1</td>\n",
       "      <td>0</td>\n",
       "      <td>0</td>\n",
       "      <td>0</td>\n",
       "      <td>1</td>\n",
       "      <td>0</td>\n",
       "      <td>-1.150321</td>\n",
       "      <td>3.295837</td>\n",
       "      <td>-1.258393</td>\n",
       "      <td>4.663765</td>\n",
       "      <td>1.609438</td>\n",
       "      <td>4.035403</td>\n",
       "      <td>-0.569295</td>\n",
       "      <td>0.963295</td>\n",
       "      <td>-0.478763</td>\n",
       "      <td>-0.443335</td>\n",
       "      <td>0.693147</td>\n",
       "      <td>-0.281790</td>\n",
       "      <td>-0.396758</td>\n",
       "      <td>10.043293</td>\n",
       "      <td>-0.434230</td>\n",
       "      <td>2</td>\n",
       "      <td>0</td>\n",
       "      <td>0</td>\n",
       "      <td>1</td>\n",
       "    </tr>\n",
       "  </tbody>\n",
       "</table>\n",
       "</div>"
      ],
      "text/plain": [
       "       client_id   app_date  education  sex  age  car  car_type  \\\n",
       "75913      86282 2014-04-02          4    0   58    0         0   \n",
       "74339      52821 2014-03-01          1    0   33    0         0   \n",
       "80466      12072 2014-01-19          3    1   26    0         0   \n",
       "\n",
       "       decline_app_cnt  good_work  score_bki  bki_request_cnt  region_rating  \\\n",
       "75913                1          0   1.721074                1             50   \n",
       "74339                0          0   2.194838                2             70   \n",
       "80466                4          0   1.620315                1             40   \n",
       "\n",
       "       home_address  work_address  income  sna  first_time  foreign_passport  \\\n",
       "75913             2             3   22000    2           3                 0   \n",
       "74339             1             3   35000    1           3                 0   \n",
       "80466             2             3   23000    3           3                 0   \n",
       "\n",
       "       default  app_date_month  app_date_day  ACD  GRD  PGR  SCH  UGR  NaN  \\\n",
       "75913        0               4             2    0    0    0    0    1    0   \n",
       "74339        0               3             1    0    1    0    0    0    0   \n",
       "80466        0               1            19    0    0    0    1    0    0   \n",
       "\n",
       "       region_rating_20  region_rating_30  region_rating_40  region_rating_50  \\\n",
       "75913                 0                 0                 0                 1   \n",
       "74339                 0                 0                 0                 0   \n",
       "80466                 0                 0                 1                 0   \n",
       "\n",
       "       region_rating_60  region_rating_70  region_rating_80  home_address_1  \\\n",
       "75913                 0                 0                 0               0   \n",
       "74339                 0                 1                 0               1   \n",
       "80466                 0                 0                 0               0   \n",
       "\n",
       "       home_address_2  home_address_3  work_address_1  work_address_2  \\\n",
       "75913               1               0               0               0   \n",
       "74339               0               0               0               0   \n",
       "80466               1               0               0               0   \n",
       "\n",
       "       work_address_3  sna_1  sna_2  sna_3  sna_4  first_time_1  first_time_2  \\\n",
       "75913               1      0      1      0      0             0             0   \n",
       "74339               1      1      0      0      0             0             0   \n",
       "80466               1      0      0      1      0             0             0   \n",
       "\n",
       "       first_time_3  first_time_4  age_norm   age_log  age_log_norm  \\\n",
       "75913             1             0  1.627937  4.077537      1.483906   \n",
       "74339             1             0 -0.542577  3.526361     -0.449689   \n",
       "80466             1             0 -1.150321  3.295837     -1.258393   \n",
       "\n",
       "       decline_app_cnt_norm  decline_app_cnt_log  decline_app_cnt_log_norm  \\\n",
       "75913              0.909522             0.693147                  1.499512   \n",
       "74339             -0.341893             0.000000                 -0.418815   \n",
       "80466              4.663765             1.609438                  4.035403   \n",
       "\n",
       "       score_bki_norm  score_bki_log  score_bki_log_norm  \\\n",
       "75913       -0.367493       1.001027           -0.271454   \n",
       "74339        0.581373       1.161536            0.610422   \n",
       "80466       -0.569295       0.963295           -0.478763   \n",
       "\n",
       "       bki_request_cnt_norm  bki_request_cnt_log  bki_request_cnt_log_norm  \\\n",
       "75913             -0.443335             0.693147                 -0.281790   \n",
       "74339             -0.002207             1.098612                  0.333797   \n",
       "80466             -0.443335             0.693147                 -0.281790   \n",
       "\n",
       "       income_norm  income_log  income_log_norm  decline_app_cnt_group  \\\n",
       "75913    -0.418785    9.998843        -0.498037                      1   \n",
       "74339    -0.132439   10.463132         0.168439                      0   \n",
       "80466    -0.396758   10.043293        -0.434230                      2   \n",
       "\n",
       "       no_decline  1_decline  mm_decline  \n",
       "75913           0          1           0  \n",
       "74339           1          0           0  \n",
       "80466           0          0           1  "
      ]
     },
     "execution_count": 53,
     "metadata": {},
     "output_type": "execute_result"
    }
   ],
   "source": [
    "test_data.sample(3)"
   ]
  },
  {
   "cell_type": "code",
   "execution_count": 54,
   "metadata": {
    "execution": {
     "iopub.execute_input": "2021-03-14T16:57:12.329855Z",
     "iopub.status.busy": "2021-03-14T16:57:12.328836Z",
     "iopub.status.idle": "2021-03-14T16:57:12.332101Z",
     "shell.execute_reply": "2021-03-14T16:57:12.331583Z"
    },
    "papermill": {
     "duration": 0.102922,
     "end_time": "2021-03-14T16:57:12.332249",
     "exception": false,
     "start_time": "2021-03-14T16:57:12.229327",
     "status": "completed"
    },
    "tags": []
   },
   "outputs": [],
   "source": [
    "predict_submission = pd.DataFrame(test_data['client_id'])"
   ]
  },
  {
   "cell_type": "code",
   "execution_count": 55,
   "metadata": {
    "execution": {
     "iopub.execute_input": "2021-03-14T16:57:12.526386Z",
     "iopub.status.busy": "2021-03-14T16:57:12.525716Z",
     "iopub.status.idle": "2021-03-14T16:57:12.531005Z",
     "shell.execute_reply": "2021-03-14T16:57:12.531597Z"
    },
    "papermill": {
     "duration": 0.105507,
     "end_time": "2021-03-14T16:57:12.531801",
     "exception": false,
     "start_time": "2021-03-14T16:57:12.426294",
     "status": "completed"
    },
    "tags": []
   },
   "outputs": [],
   "source": [
    "test_data = test_data.drop(drop_list, axis=1)"
   ]
  },
  {
   "cell_type": "code",
   "execution_count": 56,
   "metadata": {
    "execution": {
     "iopub.execute_input": "2021-03-14T16:57:12.726483Z",
     "iopub.status.busy": "2021-03-14T16:57:12.725773Z",
     "iopub.status.idle": "2021-03-14T16:57:12.779166Z",
     "shell.execute_reply": "2021-03-14T16:57:12.779811Z"
    },
    "papermill": {
     "duration": 0.154079,
     "end_time": "2021-03-14T16:57:12.780025",
     "exception": false,
     "start_time": "2021-03-14T16:57:12.625946",
     "status": "completed"
    },
    "tags": []
   },
   "outputs": [],
   "source": [
    "probs = model.predict_proba(test_data)\n",
    "predict_submission['default'] = probs[:,1]"
   ]
  },
  {
   "cell_type": "code",
   "execution_count": 57,
   "metadata": {
    "execution": {
     "iopub.execute_input": "2021-03-14T16:57:12.980529Z",
     "iopub.status.busy": "2021-03-14T16:57:12.979904Z",
     "iopub.status.idle": "2021-03-14T16:57:12.984228Z",
     "shell.execute_reply": "2021-03-14T16:57:12.983720Z"
    },
    "papermill": {
     "duration": 0.108427,
     "end_time": "2021-03-14T16:57:12.984374",
     "exception": false,
     "start_time": "2021-03-14T16:57:12.875947",
     "status": "completed"
    },
    "tags": []
   },
   "outputs": [
    {
     "data": {
      "text/html": [
       "<div>\n",
       "<style scoped>\n",
       "    .dataframe tbody tr th:only-of-type {\n",
       "        vertical-align: middle;\n",
       "    }\n",
       "\n",
       "    .dataframe tbody tr th {\n",
       "        vertical-align: top;\n",
       "    }\n",
       "\n",
       "    .dataframe thead th {\n",
       "        text-align: right;\n",
       "    }\n",
       "</style>\n",
       "<table border=\"1\" class=\"dataframe\">\n",
       "  <thead>\n",
       "    <tr style=\"text-align: right;\">\n",
       "      <th></th>\n",
       "      <th>client_id</th>\n",
       "      <th>default</th>\n",
       "    </tr>\n",
       "  </thead>\n",
       "  <tbody>\n",
       "    <tr>\n",
       "      <th>73799</th>\n",
       "      <td>74835</td>\n",
       "      <td>0.231041</td>\n",
       "    </tr>\n",
       "    <tr>\n",
       "      <th>73800</th>\n",
       "      <td>17527</td>\n",
       "      <td>0.658843</td>\n",
       "    </tr>\n",
       "    <tr>\n",
       "      <th>73801</th>\n",
       "      <td>75683</td>\n",
       "      <td>0.362031</td>\n",
       "    </tr>\n",
       "  </tbody>\n",
       "</table>\n",
       "</div>"
      ],
      "text/plain": [
       "       client_id   default\n",
       "73799      74835  0.231041\n",
       "73800      17527  0.658843\n",
       "73801      75683  0.362031"
      ]
     },
     "execution_count": 57,
     "metadata": {},
     "output_type": "execute_result"
    }
   ],
   "source": [
    "predict_submission.head(3)"
   ]
  },
  {
   "cell_type": "code",
   "execution_count": 58,
   "metadata": {
    "execution": {
     "iopub.execute_input": "2021-03-14T16:57:13.183008Z",
     "iopub.status.busy": "2021-03-14T16:57:13.181974Z",
     "iopub.status.idle": "2021-03-14T16:57:13.322758Z",
     "shell.execute_reply": "2021-03-14T16:57:13.322032Z"
    },
    "papermill": {
     "duration": 0.244957,
     "end_time": "2021-03-14T16:57:13.322917",
     "exception": false,
     "start_time": "2021-03-14T16:57:13.077960",
     "status": "completed"
    },
    "tags": []
   },
   "outputs": [],
   "source": [
    "predict_submission.to_csv('submission.csv', index=False)"
   ]
  }
 ],
 "metadata": {
  "kernelspec": {
   "display_name": "Python 3",
   "language": "python",
   "name": "python3"
  },
  "language_info": {
   "codemirror_mode": {
    "name": "ipython",
    "version": 3
   },
   "file_extension": ".py",
   "mimetype": "text/x-python",
   "name": "python",
   "nbconvert_exporter": "python",
   "pygments_lexer": "ipython3",
   "version": "3.7.9"
  },
  "papermill": {
   "default_parameters": {},
   "duration": 346.944234,
   "end_time": "2021-03-14T16:57:14.328604",
   "environment_variables": {},
   "exception": null,
   "input_path": "__notebook__.ipynb",
   "output_path": "__notebook__.ipynb",
   "parameters": {},
   "start_time": "2021-03-14T16:51:27.384370",
   "version": "2.2.2"
  }
 },
 "nbformat": 4,
 "nbformat_minor": 4
}
