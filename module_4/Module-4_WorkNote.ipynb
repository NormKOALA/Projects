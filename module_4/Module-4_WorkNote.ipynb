{
 "cells": [
  {
   "cell_type": "markdown",
   "id": "discrete-ecuador",
   "metadata": {},
   "source": [
    "### Import"
   ]
  },
  {
   "cell_type": "code",
   "execution_count": 1,
   "id": "temporal-pixel",
   "metadata": {},
   "outputs": [],
   "source": [
    "import numpy as np\n",
    "import pandas as pd\n",
    "\n",
    "import matplotlib.pyplot as plt\n",
    "import seaborn as sns\n",
    "import itertools\n",
    "import seaborn as sns\n",
    "\n",
    "from datetime import datetime\n",
    "\n",
    "from sklearn.preprocessing import LabelEncoder, StandardScaler, MinMaxScaler\n",
    "from sklearn.model_selection import train_test_split, GridSearchCV\n",
    "from sklearn.linear_model import LogisticRegression, LogisticRegressionCV\n",
    "from sklearn.tree import DecisionTreeRegressor, DecisionTreeClassifier\n",
    "from sklearn.ensemble import RandomForestRegressor, RandomForestClassifier\n",
    "from sklearn.metrics import confusion_matrix, auc, roc_auc_score, roc_curve, precision_score, accuracy_score, recall_score, f1_score, precision_recall_curve\n",
    "from sklearn.impute import SimpleImputer\n",
    "from sklearn.feature_selection import f_classif, mutual_info_classif\n",
    "\n",
    "from imblearn.under_sampling import RandomUnderSampler\n",
    "\n",
    "# from xgboost import XGBRegressor, XGBClassifier\n",
    "# from lightgbm import LGBMRegressor, LGBMClassifier\n",
    "\n",
    "RANDOM_SEED = 42\n",
    "\n",
    "!pip freeze > requirements.txt\n",
    "\n",
    "pd.set_option('display.max_columns', None)\n",
    "pd.set_option('display.max_rows', 100)"
   ]
  },
  {
   "cell_type": "code",
   "execution_count": 2,
   "id": "becoming-union",
   "metadata": {},
   "outputs": [],
   "source": [
    "import warnings\n",
    "warnings.filterwarnings(\"ignore\")"
   ]
  },
  {
   "cell_type": "markdown",
   "id": "opponent-tower",
   "metadata": {},
   "source": [
    "### Вспомогательные функции"
   ]
  },
  {
   "cell_type": "code",
   "execution_count": 3,
   "id": "studied-southeast",
   "metadata": {},
   "outputs": [],
   "source": [
    "def get_value_balance(df, column):\n",
    "    count = pd.DataFrame(df[column].value_counts())\n",
    "    total = len(df[column])\n",
    "    null_count = len(df[df[column].isna() == True])\n",
    "    null_percent = round((null_count/total)*100, 2)\n",
    "    print(df[column].describe(), '\\n', '\\n',\n",
    "          'Кол-во пустых значений: {n} ({np}%)'.format(n=null_count, np=null_percent))\n",
    "\n",
    "    fig, ax = plt.subplots()\n",
    "    data = ax.barh(y=count.index,\n",
    "                   width=count.iloc[:, 0],\n",
    "                   color=['tab:blue', 'tab:orange'])\n",
    "\n",
    "    for i in data:\n",
    "        width = i.get_width()\n",
    "        height = i.get_height()\n",
    "        ax.annotate('{w} ({p}%)'.format(w=width, p=round((width/total)*100, 2)),\n",
    "                    xy=(3, i.get_y() + height / 2),\n",
    "                    ha='left',\n",
    "                    va='center')\n",
    "\n",
    "    ax.set_xlabel('Count')\n",
    "    ax.set_ylabel(count.columns[0])\n",
    "\n",
    "\n",
    "def get_outlier_iqr(df, column):\n",
    "    perc75 = df[column].quantile(q=0.75, interpolation='midpoint')\n",
    "    perc25 = df[column].quantile(q=0.25, interpolation='midpoint')\n",
    "    iqr = perc75-perc25\n",
    "\n",
    "    cols = df[column].value_counts().index\n",
    "\n",
    "    # границы выбросов\n",
    "    upper_bound = perc75+1.5*iqr\n",
    "    lower_bound = perc25-1.5*iqr\n",
    "\n",
    "    print('\\n 25-й перцентиль: {}, \\n'.format(round(perc25, 3)),\n",
    "          '75-й перцентиль: {}, \\n'.format(round(perc75, 3)),\n",
    "          'IQR: {}, \\n'.format(round(iqr, 3)),\n",
    "          'Границы выбросов: [{f}<->{l}]\\n'.format(f=round(lower_bound, 3), l=round(upper_bound, 3)))\n",
    "\n",
    "\n",
    "def get_metrics(Y_test, Y_pred):\n",
    "    accuracy = accuracy_score(Y_test, Y_pred)\n",
    "    precision = precision_score(Y_test, Y_pred)\n",
    "    recall = recall_score(Y_test, Y_pred)\n",
    "    f_score = f1_score(Y_test, Y_pred)\n",
    "    \n",
    "    print('\\n Accuracy: {} \\n'.format(round(accuracy, 3)),\n",
    "          'Precision: {} \\n'.format(round(precision, 3)),\n",
    "          'Recall: {} \\n'.format(round(recall, 3)),\n",
    "          'F1_score: {}'.format(round(f_score, 3)))\n",
    "\n",
    "\n",
    "def plot_roc_auc(Y_test, Y_prob):\n",
    "    roc_auc = roc_auc_score(Y_test, Y_prob)\n",
    "    fpr, tpr, threshold = roc_curve(Y_test, Y_prob)\n",
    "\n",
    "    plt.figure(figsize=(10, 7))\n",
    "    plt.plot([0, 1], \"b\", label='Baseline', linestyle='--')\n",
    "    plt.plot(fpr, tpr, \"r-\", label = 'Regression')\n",
    "    plt.title('Logistic Regression ROC AUC = %0.3f' % roc_auc)\n",
    "    plt.ylabel('True Positive Rate')\n",
    "    plt.xlabel('False Positive Rate')\n",
    "    plt.legend(loc = 'lower right')\n",
    "    plt.show()\n",
    "\n",
    "\n",
    "def plot_pr_curve(Y_test, Y_prob):\n",
    "    precision, recall, threshold = precision_recall_curve(Y_test, Y_prob)\n",
    "    \n",
    "    plt.figure(figsize=(10, 7))\n",
    "    plt.plot(threshold, precision[:-1], \"r-\", label=\"Precision\")\n",
    "    plt.plot(threshold, recall[:-1], \"b\", label=\"Recall\")\n",
    "    plt.xlabel(\"threshold\")\n",
    "    plt.legend(loc='upper right')\n",
    "    plt.show()\n",
    "\n",
    "\n",
    "def plot_confusion_matrix(cm, classes,\n",
    "                          normalize=True,\n",
    "                          title='Confusion matrix',\n",
    "                          cmap=plt.cm.Blues):\n",
    "    \"\"\"\n",
    "    This function prints and plots the confusion matrix.\n",
    "    Normalization can be applied by setting `normalize=True`.\n",
    "    \"\"\"\n",
    "    plt.imshow(cm, interpolation='nearest', cmap=cmap)\n",
    "    plt.title(title)\n",
    "    plt.colorbar()\n",
    "    tick_marks = np.arange(len(classes))\n",
    "    plt.xticks(tick_marks, classes, rotation=45)\n",
    "    plt.yticks(tick_marks, classes)\n",
    "\n",
    "    if normalize:\n",
    "        cm = cm.astype('float') / cm.sum(axis=1)[:, np.newaxis]\n",
    "        print(\"Normalized confusion matrix\")\n",
    "    else:\n",
    "        print('Confusion matrix, without normalization')\n",
    "\n",
    "    print(cm)\n",
    "\n",
    "    thresh = cm.max() / 2.\n",
    "    for i, j in itertools.product(range(cm.shape[0]), range(cm.shape[1])):\n",
    "        plt.text(j, i, cm[i, j],\n",
    "                 horizontalalignment=\"center\",\n",
    "                 color=\"white\" if cm[i, j] > thresh else \"black\")\n",
    "\n",
    "    plt.tight_layout()\n",
    "    plt.ylabel('True label')\n",
    "    plt.xlabel('Predicted label')"
   ]
  },
  {
   "cell_type": "markdown",
   "id": "infinite-round",
   "metadata": {},
   "source": [
    "### Data"
   ]
  },
  {
   "cell_type": "code",
   "execution_count": 4,
   "id": "mobile-sight",
   "metadata": {},
   "outputs": [],
   "source": [
    "df_train = pd.read_csv('./data/train.csv')\n",
    "df_test = pd.read_csv('./data/test.csv')"
   ]
  },
  {
   "cell_type": "markdown",
   "id": "severe-inclusion",
   "metadata": {},
   "source": [
    "#### Описания полей\n",
    "\n",
    "- `client_id` - идентификатор клиента\n",
    "- `education` - уровень образования\n",
    "- `sex` - пол заемщика\n",
    "- `age` - возраст заемщика\n",
    "- `car` - флаг наличия автомобиля\n",
    "- `car_type` - флаг автомобиля иномарки\n",
    "- `decline_app_cnt` - количество отказанных прошлых заявок\n",
    "- `good_work` - флаг наличия “хорошей” работы\n",
    "- `bki_request_cnt` - количество запросов в БКИ\n",
    "- `home_address` - категоризатор домашнего адреса\n",
    "- `work_address` - категоризатор рабочего адреса\n",
    "- `income` - доход заемщика\n",
    "- `foreign_passport` - наличие загранпаспорта\n",
    "- `sna` - связь заемщика с клиентами банка\n",
    "- `first_time` - давность наличия информации о заемщике\n",
    "- `score_bki` - скоринговый балл по данным из БКИ\n",
    "- `region_rating` - рейтинг региона\n",
    "- `app_date` - дата подачи заявки\n",
    "- `default` - флаг дефолта по кредиту"
   ]
  },
  {
   "cell_type": "markdown",
   "id": "respected-prague",
   "metadata": {},
   "source": [
    "#### Объединение для предобработки"
   ]
  },
  {
   "cell_type": "code",
   "execution_count": 5,
   "id": "weekly-musical",
   "metadata": {},
   "outputs": [],
   "source": [
    "df_train['train'] = 1\n",
    "\n",
    "df_test['train'] = 0\n",
    "df_test['default'] = 0\n",
    "\n",
    "df = df_train.append(df_test, sort=False).reset_index(drop=True)"
   ]
  },
  {
   "cell_type": "code",
   "execution_count": 6,
   "id": "specific-authority",
   "metadata": {},
   "outputs": [
    {
     "data": {
      "text/html": [
       "<div>\n",
       "<style scoped>\n",
       "    .dataframe tbody tr th:only-of-type {\n",
       "        vertical-align: middle;\n",
       "    }\n",
       "\n",
       "    .dataframe tbody tr th {\n",
       "        vertical-align: top;\n",
       "    }\n",
       "\n",
       "    .dataframe thead th {\n",
       "        text-align: right;\n",
       "    }\n",
       "</style>\n",
       "<table border=\"1\" class=\"dataframe\">\n",
       "  <thead>\n",
       "    <tr style=\"text-align: right;\">\n",
       "      <th></th>\n",
       "      <th>client_id</th>\n",
       "      <th>app_date</th>\n",
       "      <th>education</th>\n",
       "      <th>sex</th>\n",
       "      <th>age</th>\n",
       "      <th>car</th>\n",
       "      <th>car_type</th>\n",
       "      <th>decline_app_cnt</th>\n",
       "      <th>good_work</th>\n",
       "      <th>score_bki</th>\n",
       "      <th>bki_request_cnt</th>\n",
       "      <th>region_rating</th>\n",
       "      <th>home_address</th>\n",
       "      <th>work_address</th>\n",
       "      <th>income</th>\n",
       "      <th>sna</th>\n",
       "      <th>first_time</th>\n",
       "      <th>foreign_passport</th>\n",
       "      <th>default</th>\n",
       "      <th>train</th>\n",
       "    </tr>\n",
       "  </thead>\n",
       "  <tbody>\n",
       "    <tr>\n",
       "      <th>0</th>\n",
       "      <td>25905</td>\n",
       "      <td>01FEB2014</td>\n",
       "      <td>SCH</td>\n",
       "      <td>M</td>\n",
       "      <td>62</td>\n",
       "      <td>Y</td>\n",
       "      <td>Y</td>\n",
       "      <td>0</td>\n",
       "      <td>0</td>\n",
       "      <td>-2.008753</td>\n",
       "      <td>1</td>\n",
       "      <td>50</td>\n",
       "      <td>1</td>\n",
       "      <td>2</td>\n",
       "      <td>18000</td>\n",
       "      <td>4</td>\n",
       "      <td>1</td>\n",
       "      <td>N</td>\n",
       "      <td>0</td>\n",
       "      <td>1</td>\n",
       "    </tr>\n",
       "    <tr>\n",
       "      <th>1</th>\n",
       "      <td>63161</td>\n",
       "      <td>12MAR2014</td>\n",
       "      <td>SCH</td>\n",
       "      <td>F</td>\n",
       "      <td>59</td>\n",
       "      <td>N</td>\n",
       "      <td>N</td>\n",
       "      <td>0</td>\n",
       "      <td>0</td>\n",
       "      <td>-1.532276</td>\n",
       "      <td>3</td>\n",
       "      <td>50</td>\n",
       "      <td>2</td>\n",
       "      <td>3</td>\n",
       "      <td>19000</td>\n",
       "      <td>4</td>\n",
       "      <td>1</td>\n",
       "      <td>N</td>\n",
       "      <td>0</td>\n",
       "      <td>1</td>\n",
       "    </tr>\n",
       "    <tr>\n",
       "      <th>2</th>\n",
       "      <td>25887</td>\n",
       "      <td>01FEB2014</td>\n",
       "      <td>SCH</td>\n",
       "      <td>M</td>\n",
       "      <td>25</td>\n",
       "      <td>Y</td>\n",
       "      <td>N</td>\n",
       "      <td>2</td>\n",
       "      <td>0</td>\n",
       "      <td>-1.408142</td>\n",
       "      <td>1</td>\n",
       "      <td>80</td>\n",
       "      <td>1</td>\n",
       "      <td>2</td>\n",
       "      <td>30000</td>\n",
       "      <td>1</td>\n",
       "      <td>4</td>\n",
       "      <td>Y</td>\n",
       "      <td>0</td>\n",
       "      <td>1</td>\n",
       "    </tr>\n",
       "    <tr>\n",
       "      <th>3</th>\n",
       "      <td>16222</td>\n",
       "      <td>23JAN2014</td>\n",
       "      <td>SCH</td>\n",
       "      <td>F</td>\n",
       "      <td>53</td>\n",
       "      <td>N</td>\n",
       "      <td>N</td>\n",
       "      <td>0</td>\n",
       "      <td>0</td>\n",
       "      <td>-2.057471</td>\n",
       "      <td>2</td>\n",
       "      <td>50</td>\n",
       "      <td>2</td>\n",
       "      <td>3</td>\n",
       "      <td>10000</td>\n",
       "      <td>1</td>\n",
       "      <td>3</td>\n",
       "      <td>N</td>\n",
       "      <td>0</td>\n",
       "      <td>1</td>\n",
       "    </tr>\n",
       "    <tr>\n",
       "      <th>4</th>\n",
       "      <td>101655</td>\n",
       "      <td>18APR2014</td>\n",
       "      <td>GRD</td>\n",
       "      <td>M</td>\n",
       "      <td>48</td>\n",
       "      <td>N</td>\n",
       "      <td>N</td>\n",
       "      <td>0</td>\n",
       "      <td>1</td>\n",
       "      <td>-1.244723</td>\n",
       "      <td>1</td>\n",
       "      <td>60</td>\n",
       "      <td>2</td>\n",
       "      <td>3</td>\n",
       "      <td>30000</td>\n",
       "      <td>1</td>\n",
       "      <td>4</td>\n",
       "      <td>Y</td>\n",
       "      <td>0</td>\n",
       "      <td>1</td>\n",
       "    </tr>\n",
       "  </tbody>\n",
       "</table>\n",
       "</div>"
      ],
      "text/plain": [
       "   client_id   app_date education sex  age car car_type  decline_app_cnt  \\\n",
       "0      25905  01FEB2014       SCH   M   62   Y        Y                0   \n",
       "1      63161  12MAR2014       SCH   F   59   N        N                0   \n",
       "2      25887  01FEB2014       SCH   M   25   Y        N                2   \n",
       "3      16222  23JAN2014       SCH   F   53   N        N                0   \n",
       "4     101655  18APR2014       GRD   M   48   N        N                0   \n",
       "\n",
       "   good_work  score_bki  bki_request_cnt  region_rating  home_address  \\\n",
       "0          0  -2.008753                1             50             1   \n",
       "1          0  -1.532276                3             50             2   \n",
       "2          0  -1.408142                1             80             1   \n",
       "3          0  -2.057471                2             50             2   \n",
       "4          1  -1.244723                1             60             2   \n",
       "\n",
       "   work_address  income  sna  first_time foreign_passport  default  train  \n",
       "0             2   18000    4           1                N        0      1  \n",
       "1             3   19000    4           1                N        0      1  \n",
       "2             2   30000    1           4                Y        0      1  \n",
       "3             3   10000    1           3                N        0      1  \n",
       "4             3   30000    1           4                Y        0      1  "
      ]
     },
     "execution_count": 6,
     "metadata": {},
     "output_type": "execute_result"
    }
   ],
   "source": [
    "df.head()"
   ]
  },
  {
   "cell_type": "markdown",
   "id": "frozen-equation",
   "metadata": {},
   "source": [
    "### Обзор данных"
   ]
  },
  {
   "cell_type": "code",
   "execution_count": 7,
   "id": "downtown-maintenance",
   "metadata": {
    "scrolled": false
   },
   "outputs": [
    {
     "name": "stdout",
     "output_type": "stream",
     "text": [
      "<class 'pandas.core.frame.DataFrame'>\n",
      "RangeIndex: 110148 entries, 0 to 110147\n",
      "Data columns (total 20 columns):\n",
      " #   Column            Non-Null Count   Dtype  \n",
      "---  ------            --------------   -----  \n",
      " 0   client_id         110148 non-null  int64  \n",
      " 1   app_date          110148 non-null  object \n",
      " 2   education         109670 non-null  object \n",
      " 3   sex               110148 non-null  object \n",
      " 4   age               110148 non-null  int64  \n",
      " 5   car               110148 non-null  object \n",
      " 6   car_type          110148 non-null  object \n",
      " 7   decline_app_cnt   110148 non-null  int64  \n",
      " 8   good_work         110148 non-null  int64  \n",
      " 9   score_bki         110148 non-null  float64\n",
      " 10  bki_request_cnt   110148 non-null  int64  \n",
      " 11  region_rating     110148 non-null  int64  \n",
      " 12  home_address      110148 non-null  int64  \n",
      " 13  work_address      110148 non-null  int64  \n",
      " 14  income            110148 non-null  int64  \n",
      " 15  sna               110148 non-null  int64  \n",
      " 16  first_time        110148 non-null  int64  \n",
      " 17  foreign_passport  110148 non-null  object \n",
      " 18  default           110148 non-null  int64  \n",
      " 19  train             110148 non-null  int64  \n",
      "dtypes: float64(1), int64(13), object(6)\n",
      "memory usage: 16.8+ MB\n"
     ]
    }
   ],
   "source": [
    "df.info()"
   ]
  },
  {
   "cell_type": "code",
   "execution_count": 8,
   "id": "noted-grant",
   "metadata": {
    "scrolled": true
   },
   "outputs": [
    {
     "name": "stdout",
     "output_type": "stream",
     "text": [
      "Column \"client_id\": 110148\n",
      "Column \"app_date\": 120\n",
      "Column \"education\": 5\n",
      "Column \"sex\": 2\n",
      "Column \"age\": 52\n",
      "Column \"car\": 2\n",
      "Column \"car_type\": 2\n",
      "Column \"decline_app_cnt\": 24\n",
      "Column \"good_work\": 2\n",
      "Column \"score_bki\": 102618\n",
      "Column \"bki_request_cnt\": 40\n",
      "Column \"region_rating\": 7\n",
      "Column \"home_address\": 3\n",
      "Column \"work_address\": 3\n",
      "Column \"income\": 1207\n",
      "Column \"sna\": 4\n",
      "Column \"first_time\": 4\n",
      "Column \"foreign_passport\": 2\n",
      "Column \"default\": 2\n",
      "Column \"train\": 2\n"
     ]
    }
   ],
   "source": [
    "for i in list(df.columns):\n",
    "    print('Column \"{}\": {}'.format(i, df[i].nunique()))"
   ]
  },
  {
   "cell_type": "markdown",
   "id": "hungry-eligibility",
   "metadata": {},
   "source": [
    "##### Выводы:\n",
    "- Пропуски есть только в `education`"
   ]
  },
  {
   "cell_type": "markdown",
   "id": "surgical-ethernet",
   "metadata": {},
   "source": [
    "#### Сортировка параметров"
   ]
  },
  {
   "cell_type": "code",
   "execution_count": 9,
   "id": "incident-frost",
   "metadata": {},
   "outputs": [],
   "source": [
    "# Подготовим списки\n",
    "categorical = [] # categorical variables\n",
    "numerical = []   # numerical variables\n",
    "binary = []      # binary variables"
   ]
  },
  {
   "cell_type": "markdown",
   "id": "southeast-settle",
   "metadata": {},
   "source": [
    "### Целевой параметр"
   ]
  },
  {
   "cell_type": "code",
   "execution_count": 10,
   "id": "accepted-series",
   "metadata": {},
   "outputs": [
    {
     "name": "stdout",
     "output_type": "stream",
     "text": [
      "count    73799.000000\n",
      "mean         0.126994\n",
      "std          0.332968\n",
      "min          0.000000\n",
      "25%          0.000000\n",
      "50%          0.000000\n",
      "75%          0.000000\n",
      "max          1.000000\n",
      "Name: default, dtype: float64 \n",
      " \n",
      " Кол-во пустых значений: 0 (0.0%)\n"
     ]
    },
    {
     "data": {
      "image/png": "[encoded data removed]",
      "text/plain": [
       "<Figure size 432x288 with 1 Axes>"
      ]
     },
     "metadata": {
      "needs_background": "light"
     },
     "output_type": "display_data"
    }
   ],
   "source": [
    "get_value_balance(df_train, 'default')"
   ]
  },
  {
   "cell_type": "markdown",
   "id": "specialized-representative",
   "metadata": {},
   "source": [
    "##### Выводы:\n",
    "- Имеем сильный дисбаланс классов (_см. Подготовка данных к машинному обучению_)"
   ]
  },
  {
   "cell_type": "markdown",
   "id": "wrapped-saint",
   "metadata": {},
   "source": [
    "### EDA"
   ]
  },
  {
   "cell_type": "markdown",
   "id": "appointed-turtle",
   "metadata": {},
   "source": [
    "### client_id - идентификатор клиента"
   ]
  },
  {
   "cell_type": "markdown",
   "id": "directed-mongolia",
   "metadata": {},
   "source": [
    "Повторяющихся идентификатор нет $\\to$ удалим"
   ]
  },
  {
   "cell_type": "code",
   "execution_count": 11,
   "id": "communist-finder",
   "metadata": {},
   "outputs": [],
   "source": [
    "df=df.drop('client_id', axis=1)"
   ]
  },
  {
   "cell_type": "markdown",
   "id": "prostate-north",
   "metadata": {},
   "source": [
    "### app_date - дата подачи заявки"
   ]
  },
  {
   "cell_type": "markdown",
   "id": "convinced-convert",
   "metadata": {},
   "source": [
    "Преобразуем object $\\to$ date"
   ]
  },
  {
   "cell_type": "code",
   "execution_count": 12,
   "id": "young-specialist",
   "metadata": {},
   "outputs": [],
   "source": [
    "df['app_date'] = pd.to_datetime(df['app_date'])"
   ]
  },
  {
   "cell_type": "code",
   "execution_count": 13,
   "id": "voluntary-bangkok",
   "metadata": {},
   "outputs": [
    {
     "data": {
      "text/plain": [
       "0   2014-02-01\n",
       "Name: app_date, dtype: datetime64[ns]"
      ]
     },
     "execution_count": 13,
     "metadata": {},
     "output_type": "execute_result"
    }
   ],
   "source": [
    "df['app_date'].head(1)"
   ]
  },
  {
   "cell_type": "code",
   "execution_count": 14,
   "id": "expired-register",
   "metadata": {},
   "outputs": [
    {
     "data": {
      "image/png": "[encoded data removed]",
      "text/plain": [
       "<Figure size 432x288 with 1 Axes>"
      ]
     },
     "metadata": {
      "needs_background": "light"
     },
     "output_type": "display_data"
    }
   ],
   "source": [
    "df['app_date'].hist(bins=100, xrot=45);"
   ]
  },
  {
   "cell_type": "markdown",
   "id": "spread-celtic",
   "metadata": {},
   "source": [
    "##### Выводы:\n",
    "- Представлены данные за 5 месяцев 2014 года $\\to$ до [Валютный кризис в России (2014—2015)](https://ru.wikipedia.org/wiki/%D0%92%D0%B0%D0%BB%D1%8E%D1%82%D0%BD%D1%8B%D0%B9_%D0%BA%D1%80%D0%B8%D0%B7%D0%B8%D1%81_%D0%B2_%D0%A0%D0%BE%D1%81%D1%81%D0%B8%D0%B8_(2014%E2%80%942015)) период\n",
    "- Распределение достаточно равномерное\n",
    "- Извлечем month, day"
   ]
  },
  {
   "cell_type": "code",
   "execution_count": 15,
   "id": "animal-perth",
   "metadata": {},
   "outputs": [],
   "source": [
    "df['app_date_month'] = df['app_date'].apply(lambda x: x.month)\n",
    "df['app_date_day'] = df['app_date'].apply(lambda x: x.day)"
   ]
  },
  {
   "cell_type": "markdown",
   "id": "weird-wesley",
   "metadata": {},
   "source": [
    "### education - уровень образования"
   ]
  },
  {
   "cell_type": "code",
   "execution_count": 16,
   "id": "former-sight",
   "metadata": {},
   "outputs": [
    {
     "name": "stdout",
     "output_type": "stream",
     "text": [
      "count     109670\n",
      "unique         5\n",
      "top          SCH\n",
      "freq       57998\n",
      "Name: education, dtype: object \n",
      " \n",
      " Кол-во пустых значений: 478 (0.43%)\n"
     ]
    },
    {
     "data": {
      "image/png": "[encoded data removed]",
      "text/plain": [
       "<Figure size 432x288 with 1 Axes>"
      ]
     },
     "metadata": {
      "needs_background": "light"
     },
     "output_type": "display_data"
    }
   ],
   "source": [
    "get_value_balance(df, 'education')"
   ]
  },
  {
   "cell_type": "markdown",
   "id": "undefined-likelihood",
   "metadata": {},
   "source": [
    "- `SCH` - School\n",
    "- `GRD` - Graduate/Master Level\n",
    "- `UGR` - [Undergraduate research](https://en.wikipedia.org/wiki/Undergraduate_research)\n",
    "- `PGR` - [Postgraduate research](https://en.wikipedia.org/wiki/Postgraduate_research)\n",
    "- `ACD` - Academic(?)"
   ]
  },
  {
   "cell_type": "code",
   "execution_count": 17,
   "id": "soviet-match",
   "metadata": {},
   "outputs": [],
   "source": [
    "# Заполним пропуски наиболее частым значением\n",
    "df['education'].fillna(df['education'].value_counts().idxmax(), inplace=True)"
   ]
  },
  {
   "cell_type": "code",
   "execution_count": 18,
   "id": "decimal-circuit",
   "metadata": {},
   "outputs": [],
   "source": [
    "# Encode a categorical variable\n",
    "le = LabelEncoder()\n",
    "df['education'] = le.fit_transform(df['education'])\n",
    "# Раскидаваем по столбцам\n",
    "df_education = pd.get_dummies(df['education'])\n",
    "df_education.columns = le.classes_\n",
    "# Добавляем в df\n",
    "df = df.merge(df_education, left_index=True, right_index=True)"
   ]
  },
  {
   "cell_type": "code",
   "execution_count": 19,
   "id": "hollow-member",
   "metadata": {},
   "outputs": [],
   "source": [
    "# Стандартизируем значения\n",
    "scaler = StandardScaler()\n",
    "# scaler = MinMaxScaler()\n",
    "df['education_norm'] = scaler.fit_transform(df[['education']])"
   ]
  },
  {
   "cell_type": "code",
   "execution_count": 20,
   "id": "cubic-construction",
   "metadata": {},
   "outputs": [],
   "source": [
    "## Сортируем\n",
    "categorical += ['education', 'education_norm']\n",
    "# binary += list(le.classes_)"
   ]
  },
  {
   "cell_type": "markdown",
   "id": "infectious-conviction",
   "metadata": {},
   "source": [
    "### sex - пол заемщика"
   ]
  },
  {
   "cell_type": "code",
   "execution_count": 21,
   "id": "narrative-rwanda",
   "metadata": {},
   "outputs": [
    {
     "name": "stdout",
     "output_type": "stream",
     "text": [
      "count     110148\n",
      "unique         2\n",
      "top            F\n",
      "freq       61836\n",
      "Name: sex, dtype: object \n",
      " \n",
      " Кол-во пустых значений: 0 (0.0%)\n"
     ]
    },
    {
     "data": {
      "image/png": "[encoded data removed]",
      "text/plain": [
       "<Figure size 432x288 with 1 Axes>"
      ]
     },
     "metadata": {
      "needs_background": "light"
     },
     "output_type": "display_data"
    }
   ],
   "source": [
    "get_value_balance(df, 'sex')"
   ]
  },
  {
   "cell_type": "code",
   "execution_count": 22,
   "id": "upper-dryer",
   "metadata": {},
   "outputs": [],
   "source": [
    "# Encode a categorical variable\n",
    "df['sex'] = le.fit_transform(df['sex'])"
   ]
  },
  {
   "cell_type": "code",
   "execution_count": 23,
   "id": "bigger-heath",
   "metadata": {},
   "outputs": [],
   "source": [
    "## Сортируем\n",
    "binary.append('sex')"
   ]
  },
  {
   "cell_type": "markdown",
   "id": "ceramic-housing",
   "metadata": {},
   "source": [
    "### age - возраст заемщика"
   ]
  },
  {
   "cell_type": "code",
   "execution_count": 24,
   "id": "parliamentary-undergraduate",
   "metadata": {},
   "outputs": [
    {
     "data": {
      "text/plain": [
       "count    110148.000000\n",
       "mean         39.249410\n",
       "std          11.518063\n",
       "min          21.000000\n",
       "25%          30.000000\n",
       "50%          37.000000\n",
       "75%          48.000000\n",
       "max          72.000000\n",
       "Name: age, dtype: float64"
      ]
     },
     "execution_count": 24,
     "metadata": {},
     "output_type": "execute_result"
    }
   ],
   "source": [
    "df['age'].describe()"
   ]
  },
  {
   "cell_type": "code",
   "execution_count": 25,
   "id": "viral-animation",
   "metadata": {},
   "outputs": [
    {
     "data": {
      "image/png": "[encoded data removed]",
      "text/plain": [
       "<Figure size 432x288 with 1 Axes>"
      ]
     },
     "metadata": {
      "needs_background": "light"
     },
     "output_type": "display_data"
    }
   ],
   "source": [
    "df['age'].hist(bins=100, xrot=45);"
   ]
  },
  {
   "cell_type": "code",
   "execution_count": 26,
   "id": "suspended-firewall",
   "metadata": {},
   "outputs": [
    {
     "name": "stdout",
     "output_type": "stream",
     "text": [
      "\n",
      " 25-й перцентиль: 30.0, \n",
      " 75-й перцентиль: 48.0, \n",
      " IQR: 18.0, \n",
      " Границы выбросов: [3.0<->75.0]\n",
      "\n"
     ]
    }
   ],
   "source": [
    "get_outlier_iqr(df, 'age')"
   ]
  },
  {
   "cell_type": "code",
   "execution_count": 27,
   "id": "upper-blond",
   "metadata": {},
   "outputs": [
    {
     "data": {
      "image/png": "[encoded data removed]",
      "text/plain": [
       "<Figure size 432x288 with 1 Axes>"
      ]
     },
     "metadata": {
      "needs_background": "light"
     },
     "output_type": "display_data"
    }
   ],
   "source": [
    "sns.boxplot(x=df['default'], y=df['age']);"
   ]
  },
  {
   "cell_type": "markdown",
   "id": "worst-rochester",
   "metadata": {},
   "source": [
    "##### Выводы:\n",
    "- Выбросов нет, распределение вполне реалистичное\n",
    "- В среднем возраст `default-клиентов` незначительно меньше"
   ]
  },
  {
   "cell_type": "code",
   "execution_count": 28,
   "id": "economic-programming",
   "metadata": {},
   "outputs": [],
   "source": [
    "# Стандартизируем значения\n",
    "scaler = StandardScaler()\n",
    "# scaler = MinMaxScaler()\n",
    "df['age_norm'] = scaler.fit_transform(df[['age']])"
   ]
  },
  {
   "cell_type": "code",
   "execution_count": 29,
   "id": "mounted-productivity",
   "metadata": {},
   "outputs": [],
   "source": [
    "## Сортируем\n",
    "numerical += ['age', 'age_norm']"
   ]
  },
  {
   "cell_type": "markdown",
   "id": "surprising-airport",
   "metadata": {},
   "source": [
    "### car - флаг наличия автомобиля"
   ]
  },
  {
   "cell_type": "code",
   "execution_count": 30,
   "id": "joint-papua",
   "metadata": {},
   "outputs": [
    {
     "name": "stdout",
     "output_type": "stream",
     "text": [
      "count     110148\n",
      "unique         2\n",
      "top            N\n",
      "freq       74290\n",
      "Name: car, dtype: object \n",
      " \n",
      " Кол-во пустых значений: 0 (0.0%)\n"
     ]
    },
    {
     "data": {
      "image/png": "[encoded data removed]",
      "text/plain": [
       "<Figure size 432x288 with 1 Axes>"
      ]
     },
     "metadata": {
      "needs_background": "light"
     },
     "output_type": "display_data"
    }
   ],
   "source": [
    "get_value_balance(df, 'car')"
   ]
  },
  {
   "cell_type": "code",
   "execution_count": 31,
   "id": "portable-audit",
   "metadata": {},
   "outputs": [],
   "source": [
    "# Encode a categorical variable\n",
    "df['car'] = le.fit_transform(df['car'])"
   ]
  },
  {
   "cell_type": "code",
   "execution_count": 32,
   "id": "objective-familiar",
   "metadata": {},
   "outputs": [],
   "source": [
    "## Сортируем\n",
    "binary.append('car')"
   ]
  },
  {
   "cell_type": "markdown",
   "id": "monthly-parks",
   "metadata": {},
   "source": [
    "### car_type - флаг автомобиля иномарки"
   ]
  },
  {
   "cell_type": "code",
   "execution_count": 33,
   "id": "interior-convention",
   "metadata": {},
   "outputs": [
    {
     "name": "stdout",
     "output_type": "stream",
     "text": [
      "count     110148\n",
      "unique         2\n",
      "top            N\n",
      "freq       89140\n",
      "Name: car_type, dtype: object \n",
      " \n",
      " Кол-во пустых значений: 0 (0.0%)\n"
     ]
    },
    {
     "data": {
      "image/png": "[encoded data removed]",
      "text/plain": [
       "<Figure size 432x288 with 1 Axes>"
      ]
     },
     "metadata": {
      "needs_background": "light"
     },
     "output_type": "display_data"
    }
   ],
   "source": [
    "get_value_balance(df, 'car_type')"
   ]
  },
  {
   "cell_type": "code",
   "execution_count": 34,
   "id": "loose-eclipse",
   "metadata": {
    "scrolled": true
   },
   "outputs": [
    {
     "data": {
      "text/plain": [
       "car_type\n",
       "Y    21008\n",
       "N    14850\n",
       "Name: car_type, dtype: int64"
      ]
     },
     "execution_count": 34,
     "metadata": {},
     "output_type": "execute_result"
    }
   ],
   "source": [
    "df.groupby('car')['car_type'].value_counts()[1]"
   ]
  },
  {
   "cell_type": "markdown",
   "id": "standard-brand",
   "metadata": {},
   "source": [
    "##### Выводы:\n",
    "- Возможно имеет смысл объединить `car` и `car_type` (_см. Feature engineering_)"
   ]
  },
  {
   "cell_type": "code",
   "execution_count": 35,
   "id": "adapted-assist",
   "metadata": {},
   "outputs": [],
   "source": [
    "# Encode a categorical variable\n",
    "df['car_type'] = le.fit_transform(df['car_type'])"
   ]
  },
  {
   "cell_type": "code",
   "execution_count": 36,
   "id": "attractive-times",
   "metadata": {},
   "outputs": [],
   "source": [
    "## Сортируем\n",
    "binary.append('car_type')"
   ]
  },
  {
   "cell_type": "markdown",
   "id": "toxic-clark",
   "metadata": {},
   "source": [
    "### decline_app_cnt - количество отказанных прошлых заявок"
   ]
  },
  {
   "cell_type": "code",
   "execution_count": 37,
   "id": "supported-wings",
   "metadata": {},
   "outputs": [
    {
     "data": {
      "text/plain": [
       "count    110148.000000\n",
       "mean          0.273205\n",
       "std           0.799099\n",
       "min           0.000000\n",
       "25%           0.000000\n",
       "50%           0.000000\n",
       "75%           0.000000\n",
       "max          33.000000\n",
       "Name: decline_app_cnt, dtype: float64"
      ]
     },
     "execution_count": 37,
     "metadata": {},
     "output_type": "execute_result"
    }
   ],
   "source": [
    "df['decline_app_cnt'].describe()"
   ]
  },
  {
   "cell_type": "code",
   "execution_count": 38,
   "id": "standard-delicious",
   "metadata": {},
   "outputs": [
    {
     "data": {
      "image/png": "[encoded data removed]",
      "text/plain": [
       "<Figure size 432x288 with 1 Axes>"
      ]
     },
     "metadata": {
      "needs_background": "light"
     },
     "output_type": "display_data"
    }
   ],
   "source": [
    "df['decline_app_cnt'].hist(bins=100, xrot=45);"
   ]
  },
  {
   "cell_type": "code",
   "execution_count": 39,
   "id": "artificial-matter",
   "metadata": {},
   "outputs": [
    {
     "name": "stdout",
     "output_type": "stream",
     "text": [
      "\n",
      " 25-й перцентиль: 0.0, \n",
      " 75-й перцентиль: 0.0, \n",
      " IQR: 0.0, \n",
      " Границы выбросов: [0.0<->0.0]\n",
      "\n"
     ]
    }
   ],
   "source": [
    "get_outlier_iqr(df, 'decline_app_cnt')"
   ]
  },
  {
   "cell_type": "code",
   "execution_count": 40,
   "id": "overhead-accuracy",
   "metadata": {},
   "outputs": [
    {
     "data": {
      "image/png": "[encoded data removed]",
      "text/plain": [
       "<Figure size 432x288 with 1 Axes>"
      ]
     },
     "metadata": {
      "needs_background": "light"
     },
     "output_type": "display_data"
    }
   ],
   "source": [
    "sns.boxplot(x=df['default'], y=df['decline_app_cnt']);"
   ]
  },
  {
   "cell_type": "code",
   "execution_count": 41,
   "id": "governing-treasure",
   "metadata": {
    "scrolled": true
   },
   "outputs": [
    {
     "data": {
      "text/plain": [
       "0    91471\n",
       "1    12500\n",
       "2     3622\n",
       "3     1365\n",
       "4      606\n",
       "Name: decline_app_cnt, dtype: int64"
      ]
     },
     "execution_count": 41,
     "metadata": {},
     "output_type": "execute_result"
    }
   ],
   "source": [
    "df['decline_app_cnt'].value_counts().head(5)"
   ]
  },
  {
   "cell_type": "markdown",
   "id": "signed-browse",
   "metadata": {},
   "source": [
    "##### Выводы:\n",
    "- Распределение сильно не равномерное, попробуем улучшить\n",
    "- Распределение совершенно четко делится на 3 группы: Заемщиков с 2 отказами на порядок меньше чем с одним. Практически тоже самое с 1 отказом и без отказов"
   ]
  },
  {
   "cell_type": "code",
   "execution_count": 42,
   "id": "outside-little",
   "metadata": {},
   "outputs": [
    {
     "data": {
      "image/png": "[encoded data removed]",
      "text/plain": [
       "<Figure size 432x288 with 1 Axes>"
      ]
     },
     "metadata": {
      "needs_background": "light"
     },
     "output_type": "display_data"
    }
   ],
   "source": [
    "# Логарифмируем\n",
    "df['decline_app_cnt_log'] = df['decline_app_cnt'].apply(lambda x: np.log(x+1))\n",
    "df['decline_app_cnt_log'].hist(bins=100, xrot=45);"
   ]
  },
  {
   "cell_type": "code",
   "execution_count": 43,
   "id": "headed-antique",
   "metadata": {},
   "outputs": [],
   "source": [
    "# Стандартизируем значения\n",
    "scaler = StandardScaler()\n",
    "# scaler = MinMaxScaler()\n",
    "df['decline_app_cnt_log_norm'] = scaler.fit_transform(df[['decline_app_cnt_log']])"
   ]
  },
  {
   "cell_type": "code",
   "execution_count": 44,
   "id": "centered-explanation",
   "metadata": {},
   "outputs": [],
   "source": [
    "## Сортируем\n",
    "numerical += ['decline_app_cnt', 'decline_app_cnt_log', 'decline_app_cnt_log_norm']"
   ]
  },
  {
   "cell_type": "code",
   "execution_count": 45,
   "id": "owned-steam",
   "metadata": {},
   "outputs": [],
   "source": [
    "# Поделим на три группы\n",
    "## 0 - без отказов, 1 - 1 отказ, 2 - 2 и более отказов\n",
    "df['decline_app_cnt_encode'] = df['decline_app_cnt'].apply(lambda x: 2 if x>=2 else 1 if x==1 else 0)\n",
    "# Раскидаваем по столбцам\n",
    "df_decline_app_cnt = pd.get_dummies(df['decline_app_cnt_encode'])\n",
    "df_decline_app_cnt.columns = ['no_decline', '1_decline', 'mm_decline']\n",
    "# Добавляем\n",
    "df = df.merge(df_decline_app_cnt, left_index=True, right_index=True)"
   ]
  },
  {
   "cell_type": "code",
   "execution_count": 46,
   "id": "minor-writer",
   "metadata": {},
   "outputs": [],
   "source": [
    "## Сортируем\n",
    "# binary += list(df_decline_app_cnt.columns)"
   ]
  },
  {
   "cell_type": "code",
   "execution_count": 47,
   "id": "tutorial-nurse",
   "metadata": {},
   "outputs": [],
   "source": [
    "# df['decline_app_cnt'] = df['decline_app_cnt'].apply(lambda x: np.sqrt(x))\n",
    "# df['decline_app_cnt'].hist(bins=100, xrot=45);"
   ]
  },
  {
   "cell_type": "code",
   "execution_count": 48,
   "id": "alpine-vehicle",
   "metadata": {},
   "outputs": [],
   "source": [
    "# Заменим на бинарный параметр\n",
    "# df['decline_app_cnt'] = df['decline_app_cnt'].apply(lambda x: 1 if x>0 else 0)\n",
    "# df.head(1)"
   ]
  },
  {
   "cell_type": "markdown",
   "id": "western-times",
   "metadata": {},
   "source": [
    "### good_work - флаг наличия “хорошей” работы"
   ]
  },
  {
   "cell_type": "code",
   "execution_count": 49,
   "id": "european-carnival",
   "metadata": {},
   "outputs": [
    {
     "name": "stdout",
     "output_type": "stream",
     "text": [
      "count    110148.000000\n",
      "mean          0.165514\n",
      "std           0.371645\n",
      "min           0.000000\n",
      "25%           0.000000\n",
      "50%           0.000000\n",
      "75%           0.000000\n",
      "max           1.000000\n",
      "Name: good_work, dtype: float64 \n",
      " \n",
      " Кол-во пустых значений: 0 (0.0%)\n"
     ]
    },
    {
     "data": {
      "image/png": "[encoded data removed]",
      "text/plain": [
       "<Figure size 432x288 with 1 Axes>"
      ]
     },
     "metadata": {
      "needs_background": "light"
     },
     "output_type": "display_data"
    }
   ],
   "source": [
    "get_value_balance(df, 'good_work')"
   ]
  },
  {
   "cell_type": "code",
   "execution_count": 50,
   "id": "conservative-reader",
   "metadata": {},
   "outputs": [],
   "source": [
    "## Сортируем\n",
    "binary.append('good_work')"
   ]
  },
  {
   "cell_type": "markdown",
   "id": "planned-massage",
   "metadata": {},
   "source": [
    "### bki_request_cnt - количество запросов в БКИ"
   ]
  },
  {
   "cell_type": "code",
   "execution_count": 51,
   "id": "modified-essay",
   "metadata": {
    "scrolled": false
   },
   "outputs": [
    {
     "data": {
      "text/plain": [
       "count    110148.000000\n",
       "mean          2.005002\n",
       "std           2.266926\n",
       "min           0.000000\n",
       "25%           0.000000\n",
       "50%           1.000000\n",
       "75%           3.000000\n",
       "max          53.000000\n",
       "Name: bki_request_cnt, dtype: float64"
      ]
     },
     "execution_count": 51,
     "metadata": {},
     "output_type": "execute_result"
    }
   ],
   "source": [
    "df['bki_request_cnt'].describe()"
   ]
  },
  {
   "cell_type": "code",
   "execution_count": 52,
   "id": "confused-spice",
   "metadata": {},
   "outputs": [
    {
     "data": {
      "image/png": "[encoded data removed]",
      "text/plain": [
       "<Figure size 432x288 with 1 Axes>"
      ]
     },
     "metadata": {
      "needs_background": "light"
     },
     "output_type": "display_data"
    }
   ],
   "source": [
    "df['bki_request_cnt'].hist(bins=100, xrot=45);"
   ]
  },
  {
   "cell_type": "code",
   "execution_count": 53,
   "id": "central-allocation",
   "metadata": {},
   "outputs": [
    {
     "name": "stdout",
     "output_type": "stream",
     "text": [
      "\n",
      " 25-й перцентиль: 0.0, \n",
      " 75-й перцентиль: 3.0, \n",
      " IQR: 3.0, \n",
      " Границы выбросов: [-4.5<->7.5]\n",
      "\n"
     ]
    }
   ],
   "source": [
    "get_outlier_iqr(df, 'bki_request_cnt')"
   ]
  },
  {
   "cell_type": "code",
   "execution_count": 54,
   "id": "straight-hardwood",
   "metadata": {},
   "outputs": [
    {
     "data": {
      "image/png": "[encoded data removed]",
      "text/plain": [
       "<Figure size 432x288 with 1 Axes>"
      ]
     },
     "metadata": {
      "needs_background": "light"
     },
     "output_type": "display_data"
    }
   ],
   "source": [
    "sns.boxplot(x=df['default'], y=df['bki_request_cnt']);"
   ]
  },
  {
   "cell_type": "markdown",
   "id": "foreign-basics",
   "metadata": {},
   "source": [
    "##### Выводы:\n",
    "- Количество запросов у `default-клиентов` в среднем больше\n",
    "- Распределение сильно не равномерное, попробуем улучшить"
   ]
  },
  {
   "cell_type": "code",
   "execution_count": 55,
   "id": "accredited-albany",
   "metadata": {},
   "outputs": [
    {
     "data": {
      "image/png": "[encoded data removed]",
      "text/plain": [
       "<Figure size 432x288 with 1 Axes>"
      ]
     },
     "metadata": {
      "needs_background": "light"
     },
     "output_type": "display_data"
    }
   ],
   "source": [
    "# Логарифмируем\n",
    "df['bki_request_cnt_log'] = df['bki_request_cnt'].apply(lambda x: np.log(x+1))\n",
    "# Стандартизируем\n",
    "scaler = StandardScaler()\n",
    "# scaler = MinMaxScaler()\n",
    "df['bki_request_cnt_log_norm'] = scaler.fit_transform(df[['bki_request_cnt_log']])\n",
    "df['bki_request_cnt_log'].hist(bins=100, xrot=45);"
   ]
  },
  {
   "cell_type": "code",
   "execution_count": 56,
   "id": "international-fence",
   "metadata": {},
   "outputs": [],
   "source": [
    "## Сортируем\n",
    "numerical += ['bki_request_cnt', 'bki_request_cnt_log', 'bki_request_cnt_log_norm']"
   ]
  },
  {
   "cell_type": "markdown",
   "id": "aggregate-legislation",
   "metadata": {},
   "source": [
    "### home_address - категоризатор домашнего адреса"
   ]
  },
  {
   "cell_type": "code",
   "execution_count": 57,
   "id": "recreational-uganda",
   "metadata": {},
   "outputs": [
    {
     "name": "stdout",
     "output_type": "stream",
     "text": [
      "count    110148.000000\n",
      "mean          1.574945\n",
      "std           0.527562\n",
      "min           1.000000\n",
      "25%           1.000000\n",
      "50%           2.000000\n",
      "75%           2.000000\n",
      "max           3.000000\n",
      "Name: home_address, dtype: float64 \n",
      " \n",
      " Кол-во пустых значений: 0 (0.0%)\n"
     ]
    },
    {
     "data": {
      "image/png": "[encoded data removed]",
      "text/plain": [
       "<Figure size 432x288 with 1 Axes>"
      ]
     },
     "metadata": {
      "needs_background": "light"
     },
     "output_type": "display_data"
    }
   ],
   "source": [
    "get_value_balance(df, 'home_address')"
   ]
  },
  {
   "cell_type": "code",
   "execution_count": 58,
   "id": "solved-board",
   "metadata": {},
   "outputs": [],
   "source": [
    "df_home_address = pd.get_dummies(df['home_address'])\n",
    "df_home_address.columns = ['ha_type_1', 'ha_type_2', 'ha_type_3']\n",
    "\n",
    "df = df.merge(df_home_address, left_index=True, right_index=True)"
   ]
  },
  {
   "cell_type": "code",
   "execution_count": 59,
   "id": "resident-invalid",
   "metadata": {},
   "outputs": [],
   "source": [
    "# Стандартизируем\n",
    "scaler = StandardScaler()\n",
    "# scaler = MinMaxScaler()\n",
    "df['home_address_norm'] = scaler.fit_transform(df[['home_address']])"
   ]
  },
  {
   "cell_type": "code",
   "execution_count": 60,
   "id": "empirical-findings",
   "metadata": {},
   "outputs": [],
   "source": [
    "## Сортируем\n",
    "categorical += ['home_address', 'home_address_norm']\n",
    "# binary += list(df_home_address.columns)"
   ]
  },
  {
   "cell_type": "markdown",
   "id": "nasty-british",
   "metadata": {},
   "source": [
    "### work_address - категоризатор рабочего адреса"
   ]
  },
  {
   "cell_type": "code",
   "execution_count": 61,
   "id": "relevant-excess",
   "metadata": {
    "scrolled": false
   },
   "outputs": [
    {
     "name": "stdout",
     "output_type": "stream",
     "text": [
      "count    110148.000000\n",
      "mean          2.497867\n",
      "std           0.687651\n",
      "min           1.000000\n",
      "25%           2.000000\n",
      "50%           3.000000\n",
      "75%           3.000000\n",
      "max           3.000000\n",
      "Name: work_address, dtype: float64 \n",
      " \n",
      " Кол-во пустых значений: 0 (0.0%)\n"
     ]
    },
    {
     "data": {
      "image/png": "[encoded data removed]",
      "text/plain": [
       "<Figure size 432x288 with 1 Axes>"
      ]
     },
     "metadata": {
      "needs_background": "light"
     },
     "output_type": "display_data"
    }
   ],
   "source": [
    "get_value_balance(df, 'work_address')"
   ]
  },
  {
   "cell_type": "code",
   "execution_count": 62,
   "id": "tender-graduation",
   "metadata": {},
   "outputs": [],
   "source": [
    "df_work_address = pd.get_dummies(df['work_address'])\n",
    "df_work_address.columns = ['wa_type_1', 'wa_type_2', 'wa_type_3']\n",
    "\n",
    "df = df.merge(df_work_address, left_index=True, right_index=True)"
   ]
  },
  {
   "cell_type": "code",
   "execution_count": 63,
   "id": "competitive-formula",
   "metadata": {},
   "outputs": [],
   "source": [
    "# Стандартизируем\n",
    "scaler = StandardScaler()\n",
    "# scaler = MinMaxScaler()\n",
    "df['work_address_norm'] = scaler.fit_transform(df[['work_address']])"
   ]
  },
  {
   "cell_type": "code",
   "execution_count": 64,
   "id": "honey-audit",
   "metadata": {},
   "outputs": [],
   "source": [
    "## Сортируем\n",
    "categorical += ['work_address', 'work_address_norm']\n",
    "# binary += list(df_work_address.columns)"
   ]
  },
  {
   "cell_type": "markdown",
   "id": "designing-twenty",
   "metadata": {},
   "source": [
    "### income - доход заемщика"
   ]
  },
  {
   "cell_type": "code",
   "execution_count": 65,
   "id": "rising-probability",
   "metadata": {},
   "outputs": [
    {
     "data": {
      "text/plain": [
       "count     110148.000000\n",
       "mean       41012.648537\n",
       "std        45399.735051\n",
       "min         1000.000000\n",
       "25%        20000.000000\n",
       "50%        30000.000000\n",
       "75%        48000.000000\n",
       "max      1000000.000000\n",
       "Name: income, dtype: float64"
      ]
     },
     "execution_count": 65,
     "metadata": {},
     "output_type": "execute_result"
    }
   ],
   "source": [
    "df['income'].describe()"
   ]
  },
  {
   "cell_type": "code",
   "execution_count": 66,
   "id": "genuine-prize",
   "metadata": {},
   "outputs": [
    {
     "data": {
      "image/png": "[encoded data removed]",
      "text/plain": [
       "<Figure size 432x288 with 1 Axes>"
      ]
     },
     "metadata": {
      "needs_background": "light"
     },
     "output_type": "display_data"
    }
   ],
   "source": [
    "df['income'].hist(bins=100, xrot=45);"
   ]
  },
  {
   "cell_type": "code",
   "execution_count": 67,
   "id": "elegant-medicare",
   "metadata": {},
   "outputs": [
    {
     "name": "stdout",
     "output_type": "stream",
     "text": [
      "\n",
      " 25-й перцентиль: 20000.0, \n",
      " 75-й перцентиль: 48000.0, \n",
      " IQR: 28000.0, \n",
      " Границы выбросов: [-22000.0<->90000.0]\n",
      "\n"
     ]
    }
   ],
   "source": [
    "get_outlier_iqr(df, 'income')"
   ]
  },
  {
   "cell_type": "code",
   "execution_count": 68,
   "id": "hydraulic-iraqi",
   "metadata": {},
   "outputs": [
    {
     "data": {
      "image/png": "[encoded data removed]",
      "text/plain": [
       "<Figure size 432x288 with 1 Axes>"
      ]
     },
     "metadata": {
      "needs_background": "light"
     },
     "output_type": "display_data"
    }
   ],
   "source": [
    "sns.boxplot(x=df['default'], y=df['income']);"
   ]
  },
  {
   "cell_type": "code",
   "execution_count": 69,
   "id": "impressive-constitutional",
   "metadata": {},
   "outputs": [
    {
     "data": {
      "text/plain": [
       "0.0635508588444638"
      ]
     },
     "execution_count": 69,
     "metadata": {},
     "output_type": "execute_result"
    }
   ],
   "source": [
    "df[df['income']>90000]['income'].count()/len(df)"
   ]
  },
  {
   "cell_type": "code",
   "execution_count": 70,
   "id": "ordered-canada",
   "metadata": {},
   "outputs": [
    {
     "data": {
      "text/plain": [
       "0.036886734212150926"
      ]
     },
     "execution_count": 70,
     "metadata": {},
     "output_type": "execute_result"
    }
   ],
   "source": [
    "df[df['income']<10000]['income'].count()/len(df)"
   ]
  },
  {
   "cell_type": "markdown",
   "id": "developing-saturday",
   "metadata": {},
   "source": [
    "##### Выводы:\n",
    "- 6.4% значении намного выше среднего $\\to$ их можно считать выбросами\n",
    "- но т.к. 6% - достаточно большое количество данных, пока оставим"
   ]
  },
  {
   "cell_type": "code",
   "execution_count": 71,
   "id": "persistent-radius",
   "metadata": {},
   "outputs": [
    {
     "data": {
      "image/png": "[encoded data removed]",
      "text/plain": [
       "<Figure size 432x288 with 1 Axes>"
      ]
     },
     "metadata": {
      "needs_background": "light"
     },
     "output_type": "display_data"
    }
   ],
   "source": [
    "# Логарифмируем\n",
    "df['income_log'] = df['income'].apply(lambda x: np.log(x+1))\n",
    "# Стандартизируем\n",
    "scaler = StandardScaler()\n",
    "# scaler = MinMaxScaler()\n",
    "df['income_log_norm'] = scaler.fit_transform(df[['income_log']])\n",
    "\n",
    "df['income'].hist(bins=100, xrot=45);"
   ]
  },
  {
   "cell_type": "code",
   "execution_count": 72,
   "id": "appointed-honor",
   "metadata": {},
   "outputs": [],
   "source": [
    "## Сортируем\n",
    "numerical += ['income', 'income_log', 'income_log_norm']"
   ]
  },
  {
   "cell_type": "markdown",
   "id": "exempt-abraham",
   "metadata": {},
   "source": [
    "### foreign_passport - наличие загранпаспорта"
   ]
  },
  {
   "cell_type": "code",
   "execution_count": 73,
   "id": "forty-plasma",
   "metadata": {},
   "outputs": [
    {
     "name": "stdout",
     "output_type": "stream",
     "text": [
      "count     110148\n",
      "unique         2\n",
      "top            N\n",
      "freq       93721\n",
      "Name: foreign_passport, dtype: object \n",
      " \n",
      " Кол-во пустых значений: 0 (0.0%)\n"
     ]
    },
    {
     "data": {
      "image/png": "[encoded data removed]",
      "text/plain": [
       "<Figure size 432x288 with 1 Axes>"
      ]
     },
     "metadata": {
      "needs_background": "light"
     },
     "output_type": "display_data"
    }
   ],
   "source": [
    "get_value_balance(df, 'foreign_passport')"
   ]
  },
  {
   "cell_type": "code",
   "execution_count": 74,
   "id": "global-production",
   "metadata": {},
   "outputs": [],
   "source": [
    "df['foreign_passport'] = le.fit_transform(df['foreign_passport'])"
   ]
  },
  {
   "cell_type": "code",
   "execution_count": 75,
   "id": "fresh-clear",
   "metadata": {},
   "outputs": [],
   "source": [
    "## Сортируем\n",
    "binary.append('foreign_passport')"
   ]
  },
  {
   "cell_type": "markdown",
   "id": "forty-emperor",
   "metadata": {},
   "source": [
    "### sna - связь заемщика с клиентами банка"
   ]
  },
  {
   "cell_type": "code",
   "execution_count": 76,
   "id": "rising-graduate",
   "metadata": {},
   "outputs": [
    {
     "name": "stdout",
     "output_type": "stream",
     "text": [
      "count    110148.000000\n",
      "mean          1.731588\n",
      "std           1.122652\n",
      "min           1.000000\n",
      "25%           1.000000\n",
      "50%           1.000000\n",
      "75%           2.000000\n",
      "max           4.000000\n",
      "Name: sna, dtype: float64 \n",
      " \n",
      " Кол-во пустых значений: 0 (0.0%)\n"
     ]
    },
    {
     "data": {
      "image/png": "[encoded data removed]",
      "text/plain": [
       "<Figure size 432x288 with 1 Axes>"
      ]
     },
     "metadata": {
      "needs_background": "light"
     },
     "output_type": "display_data"
    }
   ],
   "source": [
    "get_value_balance(df, 'sna')"
   ]
  },
  {
   "cell_type": "code",
   "execution_count": 77,
   "id": "modern-westminster",
   "metadata": {},
   "outputs": [
    {
     "data": {
      "image/png": "[encoded data removed]",
      "text/plain": [
       "<Figure size 432x288 with 1 Axes>"
      ]
     },
     "metadata": {
      "needs_background": "light"
     },
     "output_type": "display_data"
    }
   ],
   "source": [
    "sns.boxplot(x=df['default'], y=df['sna']);"
   ]
  },
  {
   "cell_type": "markdown",
   "id": "orange-highlight",
   "metadata": {},
   "source": [
    "##### Выводы:\n",
    "- Диапазон связей у `default-клиентов` больше"
   ]
  },
  {
   "cell_type": "code",
   "execution_count": 78,
   "id": "patent-responsibility",
   "metadata": {},
   "outputs": [],
   "source": [
    "df_sna = pd.get_dummies(df['sna'])\n",
    "df_sna.columns = ['sna_1kind', 'sna_2kind', 'sna_3kind', 'sna_4kind']\n",
    "\n",
    "df = df.merge(df_sna, left_index=True, right_index=True)"
   ]
  },
  {
   "cell_type": "code",
   "execution_count": 79,
   "id": "infectious-battlefield",
   "metadata": {},
   "outputs": [],
   "source": [
    "scaler = StandardScaler()\n",
    "# scaler = MinMaxScaler()\n",
    "df['sna_norm'] = scaler.fit_transform(df[['sna']])"
   ]
  },
  {
   "cell_type": "code",
   "execution_count": 80,
   "id": "impossible-tradition",
   "metadata": {},
   "outputs": [],
   "source": [
    "## Сортируем\n",
    "categorical += ['sna', 'sna_norm']\n",
    "# binary += list(df_sna.columns)"
   ]
  },
  {
   "cell_type": "markdown",
   "id": "intermediate-roommate",
   "metadata": {},
   "source": [
    "### first_time - давность наличия информации о заемщике"
   ]
  },
  {
   "cell_type": "code",
   "execution_count": 81,
   "id": "rolled-capital",
   "metadata": {
    "scrolled": false
   },
   "outputs": [
    {
     "name": "stdout",
     "output_type": "stream",
     "text": [
      "count    110148.000000\n",
      "mean          2.765570\n",
      "std           1.010151\n",
      "min           1.000000\n",
      "25%           2.000000\n",
      "50%           3.000000\n",
      "75%           4.000000\n",
      "max           4.000000\n",
      "Name: first_time, dtype: float64 \n",
      " \n",
      " Кол-во пустых значений: 0 (0.0%)\n"
     ]
    },
    {
     "data": {
      "image/png": "[encoded data removed]",
      "text/plain": [
       "<Figure size 432x288 with 1 Axes>"
      ]
     },
     "metadata": {
      "needs_background": "light"
     },
     "output_type": "display_data"
    }
   ],
   "source": [
    "get_value_balance(df, 'first_time')"
   ]
  },
  {
   "cell_type": "code",
   "execution_count": 82,
   "id": "worth-memory",
   "metadata": {},
   "outputs": [
    {
     "data": {
      "image/png": "[encoded data removed]",
      "text/plain": [
       "<Figure size 432x288 with 1 Axes>"
      ]
     },
     "metadata": {
      "needs_background": "light"
     },
     "output_type": "display_data"
    }
   ],
   "source": [
    "sns.boxplot(x=df['default'], y=df['first_time']);"
   ]
  },
  {
   "cell_type": "code",
   "execution_count": 83,
   "id": "compressed-judges",
   "metadata": {},
   "outputs": [],
   "source": [
    "df_first_time = pd.get_dummies(df['first_time'])\n",
    "df_first_time.columns = ['1y_ago', '2y_ago', '3y_ago', '4y_ago']\n",
    "\n",
    "df = df.merge(df_first_time, left_index=True, right_index=True)"
   ]
  },
  {
   "cell_type": "code",
   "execution_count": 84,
   "id": "impressed-nevada",
   "metadata": {},
   "outputs": [],
   "source": [
    "scaler = StandardScaler()\n",
    "# scaler = MinMaxScaler()\n",
    "df['first_time_norm'] = scaler.fit_transform(df[['first_time']])"
   ]
  },
  {
   "cell_type": "code",
   "execution_count": 85,
   "id": "northern-employment",
   "metadata": {},
   "outputs": [],
   "source": [
    "## Сортируем\n",
    "categorical += ['first_time', 'first_time_norm']\n",
    "# binary += list(df_first_time.columns)"
   ]
  },
  {
   "cell_type": "markdown",
   "id": "excited-monroe",
   "metadata": {},
   "source": [
    "### score_bki - скоринговый балл по данным из БКИ"
   ]
  },
  {
   "cell_type": "code",
   "execution_count": 86,
   "id": "heard-pontiac",
   "metadata": {},
   "outputs": [
    {
     "data": {
      "text/plain": [
       "count    110148.000000\n",
       "mean         -1.904535\n",
       "std           0.499397\n",
       "min          -3.624586\n",
       "25%          -2.260434\n",
       "50%          -1.920823\n",
       "75%          -1.567888\n",
       "max           0.199773\n",
       "Name: score_bki, dtype: float64"
      ]
     },
     "execution_count": 86,
     "metadata": {},
     "output_type": "execute_result"
    }
   ],
   "source": [
    "df['score_bki'].describe()"
   ]
  },
  {
   "cell_type": "code",
   "execution_count": 87,
   "id": "central-fashion",
   "metadata": {},
   "outputs": [
    {
     "data": {
      "image/png": "[encoded data removed]",
      "text/plain": [
       "<Figure size 432x288 with 1 Axes>"
      ]
     },
     "metadata": {
      "needs_background": "light"
     },
     "output_type": "display_data"
    }
   ],
   "source": [
    "df['score_bki'].hist(bins=100, xrot=45);"
   ]
  },
  {
   "cell_type": "code",
   "execution_count": 88,
   "id": "legitimate-reconstruction",
   "metadata": {},
   "outputs": [
    {
     "data": {
      "image/png": "[encoded data removed]",
      "text/plain": [
       "<Figure size 432x288 with 1 Axes>"
      ]
     },
     "metadata": {
      "needs_background": "light"
     },
     "output_type": "display_data"
    }
   ],
   "source": [
    "sns.boxplot(x=df['default'], y=df['score_bki']);"
   ]
  },
  {
   "cell_type": "code",
   "execution_count": 89,
   "id": "immune-niger",
   "metadata": {},
   "outputs": [
    {
     "data": {
      "image/png": "[encoded data removed]",
      "text/plain": [
       "<Figure size 432x288 with 1 Axes>"
      ]
     },
     "metadata": {
      "needs_background": "light"
     },
     "output_type": "display_data"
    }
   ],
   "source": [
    "plt.scatter(x=df['decline_app_cnt'], y=df['score_bki']);"
   ]
  },
  {
   "cell_type": "code",
   "execution_count": 90,
   "id": "metric-strike",
   "metadata": {},
   "outputs": [
    {
     "data": {
      "text/plain": [
       "12"
      ]
     },
     "execution_count": 90,
     "metadata": {},
     "output_type": "execute_result"
    }
   ],
   "source": [
    "len(df[df['score_bki']>=0])"
   ]
  },
  {
   "cell_type": "code",
   "execution_count": 91,
   "id": "tropical-tribe",
   "metadata": {},
   "outputs": [
    {
     "data": {
      "text/plain": [
       "706       1\n",
       "2527      1\n",
       "4383      0\n",
       "14969     1\n",
       "33790     1\n",
       "45078     0\n",
       "50938     1\n",
       "58642     0\n",
       "58789     0\n",
       "95585     0\n",
       "97896     0\n",
       "101929    0\n",
       "Name: default, dtype: int64"
      ]
     },
     "execution_count": 91,
     "metadata": {},
     "output_type": "execute_result"
    }
   ],
   "source": [
    "df[df['score_bki']>=0]['default']"
   ]
  },
  {
   "cell_type": "markdown",
   "id": "checked-sally",
   "metadata": {},
   "source": [
    "##### Выводы:\n",
    "- 12 значении из 110148 положительные числа. Так как медот подсчета параметра \"неизвестен\", предположим, что имеем дело с ошибкой и приведем все значения к \"единому\" виду"
   ]
  },
  {
   "cell_type": "code",
   "execution_count": 92,
   "id": "outstanding-excellence",
   "metadata": {},
   "outputs": [],
   "source": [
    "df['score_bki_abs'] = df['score_bki'].apply(lambda x: abs(x))"
   ]
  },
  {
   "cell_type": "code",
   "execution_count": 93,
   "id": "residential-hamburg",
   "metadata": {},
   "outputs": [
    {
     "data": {
      "image/png": "[encoded data removed]",
      "text/plain": [
       "<Figure size 432x288 with 1 Axes>"
      ]
     },
     "metadata": {
      "needs_background": "light"
     },
     "output_type": "display_data"
    }
   ],
   "source": [
    "df['score_bki_abs'].hist(bins=100, xrot=45);"
   ]
  },
  {
   "cell_type": "code",
   "execution_count": 94,
   "id": "transparent-turkish",
   "metadata": {
    "scrolled": true
   },
   "outputs": [
    {
     "name": "stdout",
     "output_type": "stream",
     "text": [
      "\n",
      " 25-й перцентиль: 1.568, \n",
      " 75-й перцентиль: 2.26, \n",
      " IQR: 0.693, \n",
      " Границы выбросов: [0.529<->3.299]\n",
      "\n"
     ]
    }
   ],
   "source": [
    "get_outlier_iqr(df, 'score_bki_abs')"
   ]
  },
  {
   "cell_type": "markdown",
   "id": "casual-dallas",
   "metadata": {},
   "source": [
    "##### Выводы:\n",
    "- Гистограмма по форме близка к распределению Гаусса $\\to$ оставим \"выбросы\""
   ]
  },
  {
   "cell_type": "code",
   "execution_count": 95,
   "id": "designing-senator",
   "metadata": {},
   "outputs": [],
   "source": [
    "scaler = StandardScaler()\n",
    "# scaler = MinMaxScaler()\n",
    "df['score_bki_abs_norm'] = scaler.fit_transform(df[['score_bki_abs']])"
   ]
  },
  {
   "cell_type": "code",
   "execution_count": 96,
   "id": "agricultural-cooking",
   "metadata": {},
   "outputs": [],
   "source": [
    "## Сортируем\n",
    "numerical += ['score_bki', 'score_bki_abs', 'score_bki_abs_norm']"
   ]
  },
  {
   "cell_type": "markdown",
   "id": "interracial-scene",
   "metadata": {},
   "source": [
    "### region_rating - рейтинг региона"
   ]
  },
  {
   "cell_type": "code",
   "execution_count": 97,
   "id": "confused-traveler",
   "metadata": {},
   "outputs": [
    {
     "name": "stdout",
     "output_type": "stream",
     "text": [
      "count    110148.000000\n",
      "mean         56.751189\n",
      "std          13.065923\n",
      "min          20.000000\n",
      "25%          50.000000\n",
      "50%          50.000000\n",
      "75%          60.000000\n",
      "max          80.000000\n",
      "Name: region_rating, dtype: float64 \n",
      " \n",
      " Кол-во пустых значений: 0 (0.0%)\n"
     ]
    },
    {
     "data": {
      "image/png": "[encoded data removed]",
      "text/plain": [
       "<Figure size 432x288 with 1 Axes>"
      ]
     },
     "metadata": {
      "needs_background": "light"
     },
     "output_type": "display_data"
    }
   ],
   "source": [
    "get_value_balance(df, 'region_rating')"
   ]
  },
  {
   "cell_type": "code",
   "execution_count": 98,
   "id": "polish-shape",
   "metadata": {},
   "outputs": [],
   "source": [
    "# Кодируем\n",
    "le = LabelEncoder()\n",
    "df['region_rating_encode'] = le.fit_transform(df['region_rating'])\n",
    "# Раскидаваем по столбцам\n",
    "df_region_rating = pd.get_dummies(df['region_rating_encode'])\n",
    "df_region_rating.columns = ['reg_1', 'reg_2', 'reg_3', 'reg_4', 'reg_5', 'reg_6', 'reg_7']\n",
    "# Добавляем в df\n",
    "df = df.merge(df_region_rating, left_index=True, right_index=True)"
   ]
  },
  {
   "cell_type": "code",
   "execution_count": 99,
   "id": "sophisticated-theme",
   "metadata": {},
   "outputs": [],
   "source": [
    "# get_outlier_iqr(df, 'region_rating')"
   ]
  },
  {
   "cell_type": "code",
   "execution_count": 100,
   "id": "prime-tyler",
   "metadata": {},
   "outputs": [],
   "source": [
    "# df['region_rating_perc'] = df['region_rating']/100"
   ]
  },
  {
   "cell_type": "code",
   "execution_count": 101,
   "id": "stopped-regulation",
   "metadata": {},
   "outputs": [],
   "source": [
    "scaler = StandardScaler()\n",
    "# scaler = MinMaxScaler()\n",
    "df['region_rating_norm'] = scaler.fit_transform(df[['region_rating']])"
   ]
  },
  {
   "cell_type": "code",
   "execution_count": 102,
   "id": "introductory-sterling",
   "metadata": {},
   "outputs": [],
   "source": [
    "## Сортируем\n",
    "categorical.append('region_rating_encode')\n",
    "# binary += list(df_region_rating.columns)\n",
    "numerical += ['region_rating', 'region_rating_norm']"
   ]
  },
  {
   "cell_type": "markdown",
   "id": "pediatric-february",
   "metadata": {},
   "source": [
    "### Feature engineering"
   ]
  },
  {
   "cell_type": "markdown",
   "id": "beautiful-detector",
   "metadata": {},
   "source": [
    "#### car и car_type"
   ]
  },
  {
   "cell_type": "markdown",
   "id": "roman-office",
   "metadata": {},
   "source": [
    "Объединим параметры\n",
    "- 0 - нет автомобиля `no_car`\n",
    "- 1 - есть отечественный `domestic_car`\n",
    "- 2 - есть иномарка `imported_car`"
   ]
  },
  {
   "cell_type": "code",
   "execution_count": 103,
   "id": "monthly-spending",
   "metadata": {},
   "outputs": [],
   "source": [
    "# Объединяем\n",
    "df['car_common'] = df['car'] + df['car_type']\n",
    "# Раскидаваем по столбцам\n",
    "df_car = pd.get_dummies(df['car_common'])\n",
    "df_car.columns = ['no_car', 'domestic_car', 'imported_car']\n",
    "# Добавляем\n",
    "df = df.merge(df_car, left_index=True, right_index=True)"
   ]
  },
  {
   "cell_type": "code",
   "execution_count": 104,
   "id": "frozen-vinyl",
   "metadata": {},
   "outputs": [],
   "source": [
    "scaler = StandardScaler()\n",
    "# scaler = MinMaxScaler()\n",
    "df['car_common_norm'] = scaler.fit_transform(df[['car_common']])"
   ]
  },
  {
   "cell_type": "code",
   "execution_count": 105,
   "id": "shared-sugar",
   "metadata": {},
   "outputs": [],
   "source": [
    "## Сортируем\n",
    "categorical += ['car_common', 'car_common_norm']\n",
    "# binary += list(df_car.columns)"
   ]
  },
  {
   "cell_type": "markdown",
   "id": "encouraging-rhythm",
   "metadata": {},
   "source": [
    "#### work_address и home_address"
   ]
  },
  {
   "cell_type": "markdown",
   "id": "sunset-beach",
   "metadata": {},
   "source": [
    "- Оказывается, большинство имеют работу в \"районе\" на категорию выше (если предположить, что чем выше число тем лучше) чем район проживания\n",
    "- Создадим параметр из совокупности `work_address` и `home_address`"
   ]
  },
  {
   "cell_type": "code",
   "execution_count": 106,
   "id": "removed-blocking",
   "metadata": {},
   "outputs": [],
   "source": [
    "df['address_rate'] = pd.DataFrame(map(lambda x, y: x/y if y>0 else 0,\n",
    "                                      df['work_address'], df['home_address']))\n",
    "# Кодируем\n",
    "le = LabelEncoder()\n",
    "df['address_rate_encode'] = le.fit_transform(df['address_rate'])\n",
    "# Раскидаваем по столбцам\n",
    "df_address_rate = pd.get_dummies(df['address_rate_encode'])\n",
    "df_address_rate.columns = ['address_rate_1', 'address_rate_2', 'address_rate_3', 'address_rate_4', 'address_rate_5', 'address_rate_6', 'address_rate_7']\n",
    "# Добавляем в df\n",
    "df = df.merge(df_address_rate, left_index=True, right_index=True)"
   ]
  },
  {
   "cell_type": "code",
   "execution_count": 107,
   "id": "pacific-laptop",
   "metadata": {},
   "outputs": [],
   "source": [
    "## Сортируем\n",
    "numerical.append('address_rate')\n",
    "categorical.append('address_rate_encode')\n",
    "# binary += list(df_address_rate.columns)"
   ]
  },
  {
   "cell_type": "markdown",
   "id": "honey-sherman",
   "metadata": {},
   "source": [
    "#### sna и first_time"
   ]
  },
  {
   "cell_type": "markdown",
   "id": "serial-anatomy",
   "metadata": {},
   "source": [
    "Создадим ***условный*** (по всей видимости, параметр `decline_app_cnt` является категориальным и не отображает реальную продолжительность кредитной истории) параметр: \"коэффициент отказов за кредитную историю\""
   ]
  },
  {
   "cell_type": "code",
   "execution_count": 108,
   "id": "corresponding-jamaica",
   "metadata": {},
   "outputs": [],
   "source": [
    "df['decline_app_rate'] = pd.DataFrame(map(lambda x, y: x/y if y>0 else 0,\n",
    "                                          df['decline_app_cnt'], df['first_time']))\n",
    "scaler = StandardScaler()\n",
    "# scaler = MinMaxScaler()\n",
    "df['decline_app_rate_norm'] = scaler.fit_transform(df[['decline_app_rate']])"
   ]
  },
  {
   "cell_type": "code",
   "execution_count": 109,
   "id": "alien-glass",
   "metadata": {},
   "outputs": [],
   "source": [
    "## Сортируем\n",
    "numerical += ['decline_app_rate', 'decline_app_rate_norm']"
   ]
  },
  {
   "cell_type": "markdown",
   "id": "acceptable-findings",
   "metadata": {},
   "source": [
    "### Подготовка данных"
   ]
  },
  {
   "cell_type": "code",
   "execution_count": 110,
   "id": "overall-boards",
   "metadata": {},
   "outputs": [
    {
     "data": {
      "text/html": [
       "<div>\n",
       "<style scoped>\n",
       "    .dataframe tbody tr th:only-of-type {\n",
       "        vertical-align: middle;\n",
       "    }\n",
       "\n",
       "    .dataframe tbody tr th {\n",
       "        vertical-align: top;\n",
       "    }\n",
       "\n",
       "    .dataframe thead th {\n",
       "        text-align: right;\n",
       "    }\n",
       "</style>\n",
       "<table border=\"1\" class=\"dataframe\">\n",
       "  <thead>\n",
       "    <tr style=\"text-align: right;\">\n",
       "      <th></th>\n",
       "      <th>app_date</th>\n",
       "      <th>education</th>\n",
       "      <th>sex</th>\n",
       "      <th>age</th>\n",
       "      <th>car</th>\n",
       "      <th>car_type</th>\n",
       "      <th>decline_app_cnt</th>\n",
       "      <th>good_work</th>\n",
       "      <th>score_bki</th>\n",
       "      <th>bki_request_cnt</th>\n",
       "      <th>region_rating</th>\n",
       "      <th>home_address</th>\n",
       "      <th>work_address</th>\n",
       "      <th>income</th>\n",
       "      <th>sna</th>\n",
       "      <th>first_time</th>\n",
       "      <th>foreign_passport</th>\n",
       "      <th>default</th>\n",
       "      <th>train</th>\n",
       "      <th>app_date_month</th>\n",
       "      <th>app_date_day</th>\n",
       "      <th>ACD</th>\n",
       "      <th>GRD</th>\n",
       "      <th>PGR</th>\n",
       "      <th>SCH</th>\n",
       "      <th>UGR</th>\n",
       "      <th>education_norm</th>\n",
       "      <th>age_norm</th>\n",
       "      <th>decline_app_cnt_log</th>\n",
       "      <th>decline_app_cnt_log_norm</th>\n",
       "      <th>decline_app_cnt_encode</th>\n",
       "      <th>no_decline</th>\n",
       "      <th>1_decline</th>\n",
       "      <th>mm_decline</th>\n",
       "      <th>bki_request_cnt_log</th>\n",
       "      <th>bki_request_cnt_log_norm</th>\n",
       "      <th>ha_type_1</th>\n",
       "      <th>ha_type_2</th>\n",
       "      <th>ha_type_3</th>\n",
       "      <th>home_address_norm</th>\n",
       "      <th>wa_type_1</th>\n",
       "      <th>wa_type_2</th>\n",
       "      <th>wa_type_3</th>\n",
       "      <th>work_address_norm</th>\n",
       "      <th>income_log</th>\n",
       "      <th>income_log_norm</th>\n",
       "      <th>sna_1kind</th>\n",
       "      <th>sna_2kind</th>\n",
       "      <th>sna_3kind</th>\n",
       "      <th>sna_4kind</th>\n",
       "      <th>sna_norm</th>\n",
       "      <th>1y_ago</th>\n",
       "      <th>2y_ago</th>\n",
       "      <th>3y_ago</th>\n",
       "      <th>4y_ago</th>\n",
       "      <th>first_time_norm</th>\n",
       "      <th>score_bki_abs</th>\n",
       "      <th>score_bki_abs_norm</th>\n",
       "      <th>region_rating_encode</th>\n",
       "      <th>reg_1</th>\n",
       "      <th>reg_2</th>\n",
       "      <th>reg_3</th>\n",
       "      <th>reg_4</th>\n",
       "      <th>reg_5</th>\n",
       "      <th>reg_6</th>\n",
       "      <th>reg_7</th>\n",
       "      <th>region_rating_norm</th>\n",
       "      <th>car_common</th>\n",
       "      <th>no_car</th>\n",
       "      <th>domestic_car</th>\n",
       "      <th>imported_car</th>\n",
       "      <th>car_common_norm</th>\n",
       "      <th>address_rate</th>\n",
       "      <th>address_rate_encode</th>\n",
       "      <th>address_rate_1</th>\n",
       "      <th>address_rate_2</th>\n",
       "      <th>address_rate_3</th>\n",
       "      <th>address_rate_4</th>\n",
       "      <th>address_rate_5</th>\n",
       "      <th>address_rate_6</th>\n",
       "      <th>address_rate_7</th>\n",
       "      <th>decline_app_rate</th>\n",
       "      <th>decline_app_rate_norm</th>\n",
       "    </tr>\n",
       "  </thead>\n",
       "  <tbody>\n",
       "    <tr>\n",
       "      <th>0</th>\n",
       "      <td>2014-02-01</td>\n",
       "      <td>3</td>\n",
       "      <td>1</td>\n",
       "      <td>62</td>\n",
       "      <td>1</td>\n",
       "      <td>1</td>\n",
       "      <td>0</td>\n",
       "      <td>0</td>\n",
       "      <td>-2.008753</td>\n",
       "      <td>1</td>\n",
       "      <td>50</td>\n",
       "      <td>1</td>\n",
       "      <td>2</td>\n",
       "      <td>18000</td>\n",
       "      <td>4</td>\n",
       "      <td>1</td>\n",
       "      <td>0</td>\n",
       "      <td>0</td>\n",
       "      <td>1</td>\n",
       "      <td>2</td>\n",
       "      <td>1</td>\n",
       "      <td>0</td>\n",
       "      <td>0</td>\n",
       "      <td>0</td>\n",
       "      <td>1</td>\n",
       "      <td>0</td>\n",
       "      <td>0.483982</td>\n",
       "      <td>1.975219</td>\n",
       "      <td>0.000000</td>\n",
       "      <td>-0.418815</td>\n",
       "      <td>0</td>\n",
       "      <td>1</td>\n",
       "      <td>0</td>\n",
       "      <td>0</td>\n",
       "      <td>0.693147</td>\n",
       "      <td>-0.281790</td>\n",
       "      <td>1</td>\n",
       "      <td>0</td>\n",
       "      <td>0</td>\n",
       "      <td>-1.089819</td>\n",
       "      <td>0</td>\n",
       "      <td>1</td>\n",
       "      <td>0</td>\n",
       "      <td>-0.724014</td>\n",
       "      <td>9.798183</td>\n",
       "      <td>-0.786080</td>\n",
       "      <td>0</td>\n",
       "      <td>0</td>\n",
       "      <td>0</td>\n",
       "      <td>1</td>\n",
       "      <td>2.020593</td>\n",
       "      <td>1</td>\n",
       "      <td>0</td>\n",
       "      <td>0</td>\n",
       "      <td>0</td>\n",
       "      <td>-1.747836</td>\n",
       "      <td>2.008753</td>\n",
       "      <td>0.208677</td>\n",
       "      <td>3</td>\n",
       "      <td>0</td>\n",
       "      <td>0</td>\n",
       "      <td>0</td>\n",
       "      <td>1</td>\n",
       "      <td>0</td>\n",
       "      <td>0</td>\n",
       "      <td>0</td>\n",
       "      <td>-0.516704</td>\n",
       "      <td>2</td>\n",
       "      <td>0</td>\n",
       "      <td>0</td>\n",
       "      <td>1</td>\n",
       "      <td>1.867569</td>\n",
       "      <td>2.0</td>\n",
       "      <td>5</td>\n",
       "      <td>0</td>\n",
       "      <td>0</td>\n",
       "      <td>0</td>\n",
       "      <td>0</td>\n",
       "      <td>0</td>\n",
       "      <td>1</td>\n",
       "      <td>0</td>\n",
       "      <td>0.00</td>\n",
       "      <td>-0.284837</td>\n",
       "    </tr>\n",
       "    <tr>\n",
       "      <th>1</th>\n",
       "      <td>2014-03-12</td>\n",
       "      <td>3</td>\n",
       "      <td>0</td>\n",
       "      <td>59</td>\n",
       "      <td>0</td>\n",
       "      <td>0</td>\n",
       "      <td>0</td>\n",
       "      <td>0</td>\n",
       "      <td>-1.532276</td>\n",
       "      <td>3</td>\n",
       "      <td>50</td>\n",
       "      <td>2</td>\n",
       "      <td>3</td>\n",
       "      <td>19000</td>\n",
       "      <td>4</td>\n",
       "      <td>1</td>\n",
       "      <td>0</td>\n",
       "      <td>0</td>\n",
       "      <td>1</td>\n",
       "      <td>3</td>\n",
       "      <td>12</td>\n",
       "      <td>0</td>\n",
       "      <td>0</td>\n",
       "      <td>0</td>\n",
       "      <td>1</td>\n",
       "      <td>0</td>\n",
       "      <td>0.483982</td>\n",
       "      <td>1.714757</td>\n",
       "      <td>0.000000</td>\n",
       "      <td>-0.418815</td>\n",
       "      <td>0</td>\n",
       "      <td>1</td>\n",
       "      <td>0</td>\n",
       "      <td>0</td>\n",
       "      <td>1.386294</td>\n",
       "      <td>0.770563</td>\n",
       "      <td>0</td>\n",
       "      <td>1</td>\n",
       "      <td>0</td>\n",
       "      <td>0.805701</td>\n",
       "      <td>0</td>\n",
       "      <td>0</td>\n",
       "      <td>1</td>\n",
       "      <td>0.730219</td>\n",
       "      <td>9.852247</td>\n",
       "      <td>-0.708472</td>\n",
       "      <td>0</td>\n",
       "      <td>0</td>\n",
       "      <td>0</td>\n",
       "      <td>1</td>\n",
       "      <td>2.020593</td>\n",
       "      <td>1</td>\n",
       "      <td>0</td>\n",
       "      <td>0</td>\n",
       "      <td>0</td>\n",
       "      <td>-1.747836</td>\n",
       "      <td>1.532276</td>\n",
       "      <td>-0.745622</td>\n",
       "      <td>3</td>\n",
       "      <td>0</td>\n",
       "      <td>0</td>\n",
       "      <td>0</td>\n",
       "      <td>1</td>\n",
       "      <td>0</td>\n",
       "      <td>0</td>\n",
       "      <td>0</td>\n",
       "      <td>-0.516704</td>\n",
       "      <td>0</td>\n",
       "      <td>1</td>\n",
       "      <td>0</td>\n",
       "      <td>0</td>\n",
       "      <td>-0.649827</td>\n",
       "      <td>1.5</td>\n",
       "      <td>4</td>\n",
       "      <td>0</td>\n",
       "      <td>0</td>\n",
       "      <td>0</td>\n",
       "      <td>0</td>\n",
       "      <td>1</td>\n",
       "      <td>0</td>\n",
       "      <td>0</td>\n",
       "      <td>0.00</td>\n",
       "      <td>-0.284837</td>\n",
       "    </tr>\n",
       "    <tr>\n",
       "      <th>2</th>\n",
       "      <td>2014-02-01</td>\n",
       "      <td>3</td>\n",
       "      <td>1</td>\n",
       "      <td>25</td>\n",
       "      <td>1</td>\n",
       "      <td>0</td>\n",
       "      <td>2</td>\n",
       "      <td>0</td>\n",
       "      <td>-1.408142</td>\n",
       "      <td>1</td>\n",
       "      <td>80</td>\n",
       "      <td>1</td>\n",
       "      <td>2</td>\n",
       "      <td>30000</td>\n",
       "      <td>1</td>\n",
       "      <td>4</td>\n",
       "      <td>1</td>\n",
       "      <td>0</td>\n",
       "      <td>1</td>\n",
       "      <td>2</td>\n",
       "      <td>1</td>\n",
       "      <td>0</td>\n",
       "      <td>0</td>\n",
       "      <td>0</td>\n",
       "      <td>1</td>\n",
       "      <td>0</td>\n",
       "      <td>0.483982</td>\n",
       "      <td>-1.237142</td>\n",
       "      <td>1.098612</td>\n",
       "      <td>2.621662</td>\n",
       "      <td>2</td>\n",
       "      <td>0</td>\n",
       "      <td>0</td>\n",
       "      <td>1</td>\n",
       "      <td>0.693147</td>\n",
       "      <td>-0.281790</td>\n",
       "      <td>1</td>\n",
       "      <td>0</td>\n",
       "      <td>0</td>\n",
       "      <td>-1.089819</td>\n",
       "      <td>0</td>\n",
       "      <td>1</td>\n",
       "      <td>0</td>\n",
       "      <td>-0.724014</td>\n",
       "      <td>10.308986</td>\n",
       "      <td>-0.052834</td>\n",
       "      <td>1</td>\n",
       "      <td>0</td>\n",
       "      <td>0</td>\n",
       "      <td>0</td>\n",
       "      <td>-0.651664</td>\n",
       "      <td>0</td>\n",
       "      <td>0</td>\n",
       "      <td>0</td>\n",
       "      <td>1</td>\n",
       "      <td>1.222031</td>\n",
       "      <td>1.408142</td>\n",
       "      <td>-0.994241</td>\n",
       "      <td>6</td>\n",
       "      <td>0</td>\n",
       "      <td>0</td>\n",
       "      <td>0</td>\n",
       "      <td>0</td>\n",
       "      <td>0</td>\n",
       "      <td>0</td>\n",
       "      <td>1</td>\n",
       "      <td>1.779355</td>\n",
       "      <td>1</td>\n",
       "      <td>0</td>\n",
       "      <td>1</td>\n",
       "      <td>0</td>\n",
       "      <td>0.608871</td>\n",
       "      <td>2.0</td>\n",
       "      <td>5</td>\n",
       "      <td>0</td>\n",
       "      <td>0</td>\n",
       "      <td>0</td>\n",
       "      <td>0</td>\n",
       "      <td>0</td>\n",
       "      <td>1</td>\n",
       "      <td>0</td>\n",
       "      <td>0.50</td>\n",
       "      <td>0.773065</td>\n",
       "    </tr>\n",
       "    <tr>\n",
       "      <th>3</th>\n",
       "      <td>2014-01-23</td>\n",
       "      <td>3</td>\n",
       "      <td>0</td>\n",
       "      <td>53</td>\n",
       "      <td>0</td>\n",
       "      <td>0</td>\n",
       "      <td>0</td>\n",
       "      <td>0</td>\n",
       "      <td>-2.057471</td>\n",
       "      <td>2</td>\n",
       "      <td>50</td>\n",
       "      <td>2</td>\n",
       "      <td>3</td>\n",
       "      <td>10000</td>\n",
       "      <td>1</td>\n",
       "      <td>3</td>\n",
       "      <td>0</td>\n",
       "      <td>0</td>\n",
       "      <td>1</td>\n",
       "      <td>1</td>\n",
       "      <td>23</td>\n",
       "      <td>0</td>\n",
       "      <td>0</td>\n",
       "      <td>0</td>\n",
       "      <td>1</td>\n",
       "      <td>0</td>\n",
       "      <td>0.483982</td>\n",
       "      <td>1.193834</td>\n",
       "      <td>0.000000</td>\n",
       "      <td>-0.418815</td>\n",
       "      <td>0</td>\n",
       "      <td>1</td>\n",
       "      <td>0</td>\n",
       "      <td>0</td>\n",
       "      <td>1.098612</td>\n",
       "      <td>0.333797</td>\n",
       "      <td>0</td>\n",
       "      <td>1</td>\n",
       "      <td>0</td>\n",
       "      <td>0.805701</td>\n",
       "      <td>0</td>\n",
       "      <td>0</td>\n",
       "      <td>1</td>\n",
       "      <td>0.730219</td>\n",
       "      <td>9.210440</td>\n",
       "      <td>-1.629771</td>\n",
       "      <td>1</td>\n",
       "      <td>0</td>\n",
       "      <td>0</td>\n",
       "      <td>0</td>\n",
       "      <td>-0.651664</td>\n",
       "      <td>0</td>\n",
       "      <td>0</td>\n",
       "      <td>1</td>\n",
       "      <td>0</td>\n",
       "      <td>0.232075</td>\n",
       "      <td>2.057471</td>\n",
       "      <td>0.306252</td>\n",
       "      <td>3</td>\n",
       "      <td>0</td>\n",
       "      <td>0</td>\n",
       "      <td>0</td>\n",
       "      <td>1</td>\n",
       "      <td>0</td>\n",
       "      <td>0</td>\n",
       "      <td>0</td>\n",
       "      <td>-0.516704</td>\n",
       "      <td>0</td>\n",
       "      <td>1</td>\n",
       "      <td>0</td>\n",
       "      <td>0</td>\n",
       "      <td>-0.649827</td>\n",
       "      <td>1.5</td>\n",
       "      <td>4</td>\n",
       "      <td>0</td>\n",
       "      <td>0</td>\n",
       "      <td>0</td>\n",
       "      <td>0</td>\n",
       "      <td>1</td>\n",
       "      <td>0</td>\n",
       "      <td>0</td>\n",
       "      <td>0.00</td>\n",
       "      <td>-0.284837</td>\n",
       "    </tr>\n",
       "    <tr>\n",
       "      <th>4</th>\n",
       "      <td>2014-04-18</td>\n",
       "      <td>1</td>\n",
       "      <td>1</td>\n",
       "      <td>48</td>\n",
       "      <td>0</td>\n",
       "      <td>0</td>\n",
       "      <td>0</td>\n",
       "      <td>1</td>\n",
       "      <td>-1.244723</td>\n",
       "      <td>1</td>\n",
       "      <td>60</td>\n",
       "      <td>2</td>\n",
       "      <td>3</td>\n",
       "      <td>30000</td>\n",
       "      <td>1</td>\n",
       "      <td>4</td>\n",
       "      <td>1</td>\n",
       "      <td>0</td>\n",
       "      <td>1</td>\n",
       "      <td>4</td>\n",
       "      <td>18</td>\n",
       "      <td>0</td>\n",
       "      <td>1</td>\n",
       "      <td>0</td>\n",
       "      <td>0</td>\n",
       "      <td>0</td>\n",
       "      <td>-1.369430</td>\n",
       "      <td>0.759731</td>\n",
       "      <td>0.000000</td>\n",
       "      <td>-0.418815</td>\n",
       "      <td>0</td>\n",
       "      <td>1</td>\n",
       "      <td>0</td>\n",
       "      <td>0</td>\n",
       "      <td>0.693147</td>\n",
       "      <td>-0.281790</td>\n",
       "      <td>0</td>\n",
       "      <td>1</td>\n",
       "      <td>0</td>\n",
       "      <td>0.805701</td>\n",
       "      <td>0</td>\n",
       "      <td>0</td>\n",
       "      <td>1</td>\n",
       "      <td>0.730219</td>\n",
       "      <td>10.308986</td>\n",
       "      <td>-0.052834</td>\n",
       "      <td>1</td>\n",
       "      <td>0</td>\n",
       "      <td>0</td>\n",
       "      <td>0</td>\n",
       "      <td>-0.651664</td>\n",
       "      <td>0</td>\n",
       "      <td>0</td>\n",
       "      <td>0</td>\n",
       "      <td>1</td>\n",
       "      <td>1.222031</td>\n",
       "      <td>1.244723</td>\n",
       "      <td>-1.321542</td>\n",
       "      <td>4</td>\n",
       "      <td>0</td>\n",
       "      <td>0</td>\n",
       "      <td>0</td>\n",
       "      <td>0</td>\n",
       "      <td>1</td>\n",
       "      <td>0</td>\n",
       "      <td>0</td>\n",
       "      <td>0.248649</td>\n",
       "      <td>0</td>\n",
       "      <td>1</td>\n",
       "      <td>0</td>\n",
       "      <td>0</td>\n",
       "      <td>-0.649827</td>\n",
       "      <td>1.5</td>\n",
       "      <td>4</td>\n",
       "      <td>0</td>\n",
       "      <td>0</td>\n",
       "      <td>0</td>\n",
       "      <td>0</td>\n",
       "      <td>1</td>\n",
       "      <td>0</td>\n",
       "      <td>0</td>\n",
       "      <td>0.00</td>\n",
       "      <td>-0.284837</td>\n",
       "    </tr>\n",
       "    <tr>\n",
       "      <th>5</th>\n",
       "      <td>2014-02-18</td>\n",
       "      <td>3</td>\n",
       "      <td>1</td>\n",
       "      <td>27</td>\n",
       "      <td>1</td>\n",
       "      <td>0</td>\n",
       "      <td>0</td>\n",
       "      <td>1</td>\n",
       "      <td>-2.032257</td>\n",
       "      <td>0</td>\n",
       "      <td>50</td>\n",
       "      <td>1</td>\n",
       "      <td>1</td>\n",
       "      <td>15000</td>\n",
       "      <td>2</td>\n",
       "      <td>3</td>\n",
       "      <td>0</td>\n",
       "      <td>0</td>\n",
       "      <td>1</td>\n",
       "      <td>2</td>\n",
       "      <td>18</td>\n",
       "      <td>0</td>\n",
       "      <td>0</td>\n",
       "      <td>0</td>\n",
       "      <td>1</td>\n",
       "      <td>0</td>\n",
       "      <td>0.483982</td>\n",
       "      <td>-1.063501</td>\n",
       "      <td>0.000000</td>\n",
       "      <td>-0.418815</td>\n",
       "      <td>0</td>\n",
       "      <td>1</td>\n",
       "      <td>0</td>\n",
       "      <td>0</td>\n",
       "      <td>0.000000</td>\n",
       "      <td>-1.334144</td>\n",
       "      <td>1</td>\n",
       "      <td>0</td>\n",
       "      <td>0</td>\n",
       "      <td>-1.089819</td>\n",
       "      <td>1</td>\n",
       "      <td>0</td>\n",
       "      <td>0</td>\n",
       "      <td>-2.178247</td>\n",
       "      <td>9.615872</td>\n",
       "      <td>-1.047783</td>\n",
       "      <td>0</td>\n",
       "      <td>1</td>\n",
       "      <td>0</td>\n",
       "      <td>0</td>\n",
       "      <td>0.239088</td>\n",
       "      <td>0</td>\n",
       "      <td>0</td>\n",
       "      <td>1</td>\n",
       "      <td>0</td>\n",
       "      <td>0.232075</td>\n",
       "      <td>2.032257</td>\n",
       "      <td>0.255752</td>\n",
       "      <td>3</td>\n",
       "      <td>0</td>\n",
       "      <td>0</td>\n",
       "      <td>0</td>\n",
       "      <td>1</td>\n",
       "      <td>0</td>\n",
       "      <td>0</td>\n",
       "      <td>0</td>\n",
       "      <td>-0.516704</td>\n",
       "      <td>1</td>\n",
       "      <td>0</td>\n",
       "      <td>1</td>\n",
       "      <td>0</td>\n",
       "      <td>0.608871</td>\n",
       "      <td>1.0</td>\n",
       "      <td>3</td>\n",
       "      <td>0</td>\n",
       "      <td>0</td>\n",
       "      <td>0</td>\n",
       "      <td>1</td>\n",
       "      <td>0</td>\n",
       "      <td>0</td>\n",
       "      <td>0</td>\n",
       "      <td>0.00</td>\n",
       "      <td>-0.284837</td>\n",
       "    </tr>\n",
       "    <tr>\n",
       "      <th>6</th>\n",
       "      <td>2014-02-04</td>\n",
       "      <td>3</td>\n",
       "      <td>1</td>\n",
       "      <td>39</td>\n",
       "      <td>0</td>\n",
       "      <td>0</td>\n",
       "      <td>0</td>\n",
       "      <td>0</td>\n",
       "      <td>-2.225004</td>\n",
       "      <td>0</td>\n",
       "      <td>60</td>\n",
       "      <td>1</td>\n",
       "      <td>2</td>\n",
       "      <td>28000</td>\n",
       "      <td>1</td>\n",
       "      <td>1</td>\n",
       "      <td>0</td>\n",
       "      <td>0</td>\n",
       "      <td>1</td>\n",
       "      <td>2</td>\n",
       "      <td>4</td>\n",
       "      <td>0</td>\n",
       "      <td>0</td>\n",
       "      <td>0</td>\n",
       "      <td>1</td>\n",
       "      <td>0</td>\n",
       "      <td>0.483982</td>\n",
       "      <td>-0.021654</td>\n",
       "      <td>0.000000</td>\n",
       "      <td>-0.418815</td>\n",
       "      <td>0</td>\n",
       "      <td>1</td>\n",
       "      <td>0</td>\n",
       "      <td>0</td>\n",
       "      <td>0.000000</td>\n",
       "      <td>-1.334144</td>\n",
       "      <td>1</td>\n",
       "      <td>0</td>\n",
       "      <td>0</td>\n",
       "      <td>-1.089819</td>\n",
       "      <td>0</td>\n",
       "      <td>1</td>\n",
       "      <td>0</td>\n",
       "      <td>-0.724014</td>\n",
       "      <td>10.239996</td>\n",
       "      <td>-0.151868</td>\n",
       "      <td>1</td>\n",
       "      <td>0</td>\n",
       "      <td>0</td>\n",
       "      <td>0</td>\n",
       "      <td>-0.651664</td>\n",
       "      <td>1</td>\n",
       "      <td>0</td>\n",
       "      <td>0</td>\n",
       "      <td>0</td>\n",
       "      <td>-1.747836</td>\n",
       "      <td>2.225004</td>\n",
       "      <td>0.641790</td>\n",
       "      <td>4</td>\n",
       "      <td>0</td>\n",
       "      <td>0</td>\n",
       "      <td>0</td>\n",
       "      <td>0</td>\n",
       "      <td>1</td>\n",
       "      <td>0</td>\n",
       "      <td>0</td>\n",
       "      <td>0.248649</td>\n",
       "      <td>0</td>\n",
       "      <td>1</td>\n",
       "      <td>0</td>\n",
       "      <td>0</td>\n",
       "      <td>-0.649827</td>\n",
       "      <td>2.0</td>\n",
       "      <td>5</td>\n",
       "      <td>0</td>\n",
       "      <td>0</td>\n",
       "      <td>0</td>\n",
       "      <td>0</td>\n",
       "      <td>0</td>\n",
       "      <td>1</td>\n",
       "      <td>0</td>\n",
       "      <td>0.00</td>\n",
       "      <td>-0.284837</td>\n",
       "    </tr>\n",
       "    <tr>\n",
       "      <th>7</th>\n",
       "      <td>2014-03-17</td>\n",
       "      <td>3</td>\n",
       "      <td>0</td>\n",
       "      <td>39</td>\n",
       "      <td>0</td>\n",
       "      <td>0</td>\n",
       "      <td>0</td>\n",
       "      <td>0</td>\n",
       "      <td>-1.522739</td>\n",
       "      <td>1</td>\n",
       "      <td>50</td>\n",
       "      <td>2</td>\n",
       "      <td>3</td>\n",
       "      <td>45000</td>\n",
       "      <td>3</td>\n",
       "      <td>3</td>\n",
       "      <td>0</td>\n",
       "      <td>0</td>\n",
       "      <td>1</td>\n",
       "      <td>3</td>\n",
       "      <td>17</td>\n",
       "      <td>0</td>\n",
       "      <td>0</td>\n",
       "      <td>0</td>\n",
       "      <td>1</td>\n",
       "      <td>0</td>\n",
       "      <td>0.483982</td>\n",
       "      <td>-0.021654</td>\n",
       "      <td>0.000000</td>\n",
       "      <td>-0.418815</td>\n",
       "      <td>0</td>\n",
       "      <td>1</td>\n",
       "      <td>0</td>\n",
       "      <td>0</td>\n",
       "      <td>0.693147</td>\n",
       "      <td>-0.281790</td>\n",
       "      <td>0</td>\n",
       "      <td>1</td>\n",
       "      <td>0</td>\n",
       "      <td>0.805701</td>\n",
       "      <td>0</td>\n",
       "      <td>0</td>\n",
       "      <td>1</td>\n",
       "      <td>0.730219</td>\n",
       "      <td>10.714440</td>\n",
       "      <td>0.529186</td>\n",
       "      <td>0</td>\n",
       "      <td>0</td>\n",
       "      <td>1</td>\n",
       "      <td>0</td>\n",
       "      <td>1.129841</td>\n",
       "      <td>0</td>\n",
       "      <td>0</td>\n",
       "      <td>1</td>\n",
       "      <td>0</td>\n",
       "      <td>0.232075</td>\n",
       "      <td>1.522739</td>\n",
       "      <td>-0.764723</td>\n",
       "      <td>3</td>\n",
       "      <td>0</td>\n",
       "      <td>0</td>\n",
       "      <td>0</td>\n",
       "      <td>1</td>\n",
       "      <td>0</td>\n",
       "      <td>0</td>\n",
       "      <td>0</td>\n",
       "      <td>-0.516704</td>\n",
       "      <td>0</td>\n",
       "      <td>1</td>\n",
       "      <td>0</td>\n",
       "      <td>0</td>\n",
       "      <td>-0.649827</td>\n",
       "      <td>1.5</td>\n",
       "      <td>4</td>\n",
       "      <td>0</td>\n",
       "      <td>0</td>\n",
       "      <td>0</td>\n",
       "      <td>0</td>\n",
       "      <td>1</td>\n",
       "      <td>0</td>\n",
       "      <td>0</td>\n",
       "      <td>0.00</td>\n",
       "      <td>-0.284837</td>\n",
       "    </tr>\n",
       "    <tr>\n",
       "      <th>8</th>\n",
       "      <td>2014-02-14</td>\n",
       "      <td>3</td>\n",
       "      <td>0</td>\n",
       "      <td>50</td>\n",
       "      <td>1</td>\n",
       "      <td>0</td>\n",
       "      <td>1</td>\n",
       "      <td>0</td>\n",
       "      <td>-1.676061</td>\n",
       "      <td>0</td>\n",
       "      <td>50</td>\n",
       "      <td>1</td>\n",
       "      <td>1</td>\n",
       "      <td>30000</td>\n",
       "      <td>1</td>\n",
       "      <td>4</td>\n",
       "      <td>0</td>\n",
       "      <td>0</td>\n",
       "      <td>1</td>\n",
       "      <td>2</td>\n",
       "      <td>14</td>\n",
       "      <td>0</td>\n",
       "      <td>0</td>\n",
       "      <td>0</td>\n",
       "      <td>1</td>\n",
       "      <td>0</td>\n",
       "      <td>0.483982</td>\n",
       "      <td>0.933372</td>\n",
       "      <td>0.693147</td>\n",
       "      <td>1.499512</td>\n",
       "      <td>1</td>\n",
       "      <td>0</td>\n",
       "      <td>1</td>\n",
       "      <td>0</td>\n",
       "      <td>0.000000</td>\n",
       "      <td>-1.334144</td>\n",
       "      <td>1</td>\n",
       "      <td>0</td>\n",
       "      <td>0</td>\n",
       "      <td>-1.089819</td>\n",
       "      <td>1</td>\n",
       "      <td>0</td>\n",
       "      <td>0</td>\n",
       "      <td>-2.178247</td>\n",
       "      <td>10.308986</td>\n",
       "      <td>-0.052834</td>\n",
       "      <td>1</td>\n",
       "      <td>0</td>\n",
       "      <td>0</td>\n",
       "      <td>0</td>\n",
       "      <td>-0.651664</td>\n",
       "      <td>0</td>\n",
       "      <td>0</td>\n",
       "      <td>0</td>\n",
       "      <td>1</td>\n",
       "      <td>1.222031</td>\n",
       "      <td>1.676061</td>\n",
       "      <td>-0.457647</td>\n",
       "      <td>3</td>\n",
       "      <td>0</td>\n",
       "      <td>0</td>\n",
       "      <td>0</td>\n",
       "      <td>1</td>\n",
       "      <td>0</td>\n",
       "      <td>0</td>\n",
       "      <td>0</td>\n",
       "      <td>-0.516704</td>\n",
       "      <td>1</td>\n",
       "      <td>0</td>\n",
       "      <td>1</td>\n",
       "      <td>0</td>\n",
       "      <td>0.608871</td>\n",
       "      <td>1.0</td>\n",
       "      <td>3</td>\n",
       "      <td>0</td>\n",
       "      <td>0</td>\n",
       "      <td>0</td>\n",
       "      <td>1</td>\n",
       "      <td>0</td>\n",
       "      <td>0</td>\n",
       "      <td>0</td>\n",
       "      <td>0.25</td>\n",
       "      <td>0.244114</td>\n",
       "    </tr>\n",
       "    <tr>\n",
       "      <th>9</th>\n",
       "      <td>2014-01-10</td>\n",
       "      <td>4</td>\n",
       "      <td>0</td>\n",
       "      <td>54</td>\n",
       "      <td>0</td>\n",
       "      <td>0</td>\n",
       "      <td>0</td>\n",
       "      <td>0</td>\n",
       "      <td>-2.695176</td>\n",
       "      <td>1</td>\n",
       "      <td>50</td>\n",
       "      <td>2</td>\n",
       "      <td>3</td>\n",
       "      <td>24000</td>\n",
       "      <td>1</td>\n",
       "      <td>3</td>\n",
       "      <td>0</td>\n",
       "      <td>0</td>\n",
       "      <td>1</td>\n",
       "      <td>1</td>\n",
       "      <td>10</td>\n",
       "      <td>0</td>\n",
       "      <td>0</td>\n",
       "      <td>0</td>\n",
       "      <td>0</td>\n",
       "      <td>1</td>\n",
       "      <td>1.410688</td>\n",
       "      <td>1.280654</td>\n",
       "      <td>0.000000</td>\n",
       "      <td>-0.418815</td>\n",
       "      <td>0</td>\n",
       "      <td>1</td>\n",
       "      <td>0</td>\n",
       "      <td>0</td>\n",
       "      <td>0.693147</td>\n",
       "      <td>-0.281790</td>\n",
       "      <td>0</td>\n",
       "      <td>1</td>\n",
       "      <td>0</td>\n",
       "      <td>0.805701</td>\n",
       "      <td>0</td>\n",
       "      <td>0</td>\n",
       "      <td>1</td>\n",
       "      <td>0.730219</td>\n",
       "      <td>10.085851</td>\n",
       "      <td>-0.373139</td>\n",
       "      <td>1</td>\n",
       "      <td>0</td>\n",
       "      <td>0</td>\n",
       "      <td>0</td>\n",
       "      <td>-0.651664</td>\n",
       "      <td>0</td>\n",
       "      <td>0</td>\n",
       "      <td>1</td>\n",
       "      <td>0</td>\n",
       "      <td>0.232075</td>\n",
       "      <td>2.695176</td>\n",
       "      <td>1.583462</td>\n",
       "      <td>3</td>\n",
       "      <td>0</td>\n",
       "      <td>0</td>\n",
       "      <td>0</td>\n",
       "      <td>1</td>\n",
       "      <td>0</td>\n",
       "      <td>0</td>\n",
       "      <td>0</td>\n",
       "      <td>-0.516704</td>\n",
       "      <td>0</td>\n",
       "      <td>1</td>\n",
       "      <td>0</td>\n",
       "      <td>0</td>\n",
       "      <td>-0.649827</td>\n",
       "      <td>1.5</td>\n",
       "      <td>4</td>\n",
       "      <td>0</td>\n",
       "      <td>0</td>\n",
       "      <td>0</td>\n",
       "      <td>0</td>\n",
       "      <td>1</td>\n",
       "      <td>0</td>\n",
       "      <td>0</td>\n",
       "      <td>0.00</td>\n",
       "      <td>-0.284837</td>\n",
       "    </tr>\n",
       "  </tbody>\n",
       "</table>\n",
       "</div>"
      ],
      "text/plain": [
       "    app_date  education  sex  age  car  car_type  decline_app_cnt  good_work  \\\n",
       "0 2014-02-01          3    1   62    1         1                0          0   \n",
       "1 2014-03-12          3    0   59    0         0                0          0   \n",
       "2 2014-02-01          3    1   25    1         0                2          0   \n",
       "3 2014-01-23          3    0   53    0         0                0          0   \n",
       "4 2014-04-18          1    1   48    0         0                0          1   \n",
       "5 2014-02-18          3    1   27    1         0                0          1   \n",
       "6 2014-02-04          3    1   39    0         0                0          0   \n",
       "7 2014-03-17          3    0   39    0         0                0          0   \n",
       "8 2014-02-14          3    0   50    1         0                1          0   \n",
       "9 2014-01-10          4    0   54    0         0                0          0   \n",
       "\n",
       "   score_bki  bki_request_cnt  region_rating  home_address  work_address  \\\n",
       "0  -2.008753                1             50             1             2   \n",
       "1  -1.532276                3             50             2             3   \n",
       "2  -1.408142                1             80             1             2   \n",
       "3  -2.057471                2             50             2             3   \n",
       "4  -1.244723                1             60             2             3   \n",
       "5  -2.032257                0             50             1             1   \n",
       "6  -2.225004                0             60             1             2   \n",
       "7  -1.522739                1             50             2             3   \n",
       "8  -1.676061                0             50             1             1   \n",
       "9  -2.695176                1             50             2             3   \n",
       "\n",
       "   income  sna  first_time  foreign_passport  default  train  app_date_month  \\\n",
       "0   18000    4           1                 0        0      1               2   \n",
       "1   19000    4           1                 0        0      1               3   \n",
       "2   30000    1           4                 1        0      1               2   \n",
       "3   10000    1           3                 0        0      1               1   \n",
       "4   30000    1           4                 1        0      1               4   \n",
       "5   15000    2           3                 0        0      1               2   \n",
       "6   28000    1           1                 0        0      1               2   \n",
       "7   45000    3           3                 0        0      1               3   \n",
       "8   30000    1           4                 0        0      1               2   \n",
       "9   24000    1           3                 0        0      1               1   \n",
       "\n",
       "   app_date_day  ACD  GRD  PGR  SCH  UGR  education_norm  age_norm  \\\n",
       "0             1    0    0    0    1    0        0.483982  1.975219   \n",
       "1            12    0    0    0    1    0        0.483982  1.714757   \n",
       "2             1    0    0    0    1    0        0.483982 -1.237142   \n",
       "3            23    0    0    0    1    0        0.483982  1.193834   \n",
       "4            18    0    1    0    0    0       -1.369430  0.759731   \n",
       "5            18    0    0    0    1    0        0.483982 -1.063501   \n",
       "6             4    0    0    0    1    0        0.483982 -0.021654   \n",
       "7            17    0    0    0    1    0        0.483982 -0.021654   \n",
       "8            14    0    0    0    1    0        0.483982  0.933372   \n",
       "9            10    0    0    0    0    1        1.410688  1.280654   \n",
       "\n",
       "   decline_app_cnt_log  decline_app_cnt_log_norm  decline_app_cnt_encode  \\\n",
       "0             0.000000                 -0.418815                       0   \n",
       "1             0.000000                 -0.418815                       0   \n",
       "2             1.098612                  2.621662                       2   \n",
       "3             0.000000                 -0.418815                       0   \n",
       "4             0.000000                 -0.418815                       0   \n",
       "5             0.000000                 -0.418815                       0   \n",
       "6             0.000000                 -0.418815                       0   \n",
       "7             0.000000                 -0.418815                       0   \n",
       "8             0.693147                  1.499512                       1   \n",
       "9             0.000000                 -0.418815                       0   \n",
       "\n",
       "   no_decline  1_decline  mm_decline  bki_request_cnt_log  \\\n",
       "0           1          0           0             0.693147   \n",
       "1           1          0           0             1.386294   \n",
       "2           0          0           1             0.693147   \n",
       "3           1          0           0             1.098612   \n",
       "4           1          0           0             0.693147   \n",
       "5           1          0           0             0.000000   \n",
       "6           1          0           0             0.000000   \n",
       "7           1          0           0             0.693147   \n",
       "8           0          1           0             0.000000   \n",
       "9           1          0           0             0.693147   \n",
       "\n",
       "   bki_request_cnt_log_norm  ha_type_1  ha_type_2  ha_type_3  \\\n",
       "0                 -0.281790          1          0          0   \n",
       "1                  0.770563          0          1          0   \n",
       "2                 -0.281790          1          0          0   \n",
       "3                  0.333797          0          1          0   \n",
       "4                 -0.281790          0          1          0   \n",
       "5                 -1.334144          1          0          0   \n",
       "6                 -1.334144          1          0          0   \n",
       "7                 -0.281790          0          1          0   \n",
       "8                 -1.334144          1          0          0   \n",
       "9                 -0.281790          0          1          0   \n",
       "\n",
       "   home_address_norm  wa_type_1  wa_type_2  wa_type_3  work_address_norm  \\\n",
       "0          -1.089819          0          1          0          -0.724014   \n",
       "1           0.805701          0          0          1           0.730219   \n",
       "2          -1.089819          0          1          0          -0.724014   \n",
       "3           0.805701          0          0          1           0.730219   \n",
       "4           0.805701          0          0          1           0.730219   \n",
       "5          -1.089819          1          0          0          -2.178247   \n",
       "6          -1.089819          0          1          0          -0.724014   \n",
       "7           0.805701          0          0          1           0.730219   \n",
       "8          -1.089819          1          0          0          -2.178247   \n",
       "9           0.805701          0          0          1           0.730219   \n",
       "\n",
       "   income_log  income_log_norm  sna_1kind  sna_2kind  sna_3kind  sna_4kind  \\\n",
       "0    9.798183        -0.786080          0          0          0          1   \n",
       "1    9.852247        -0.708472          0          0          0          1   \n",
       "2   10.308986        -0.052834          1          0          0          0   \n",
       "3    9.210440        -1.629771          1          0          0          0   \n",
       "4   10.308986        -0.052834          1          0          0          0   \n",
       "5    9.615872        -1.047783          0          1          0          0   \n",
       "6   10.239996        -0.151868          1          0          0          0   \n",
       "7   10.714440         0.529186          0          0          1          0   \n",
       "8   10.308986        -0.052834          1          0          0          0   \n",
       "9   10.085851        -0.373139          1          0          0          0   \n",
       "\n",
       "   sna_norm  1y_ago  2y_ago  3y_ago  4y_ago  first_time_norm  score_bki_abs  \\\n",
       "0  2.020593       1       0       0       0        -1.747836       2.008753   \n",
       "1  2.020593       1       0       0       0        -1.747836       1.532276   \n",
       "2 -0.651664       0       0       0       1         1.222031       1.408142   \n",
       "3 -0.651664       0       0       1       0         0.232075       2.057471   \n",
       "4 -0.651664       0       0       0       1         1.222031       1.244723   \n",
       "5  0.239088       0       0       1       0         0.232075       2.032257   \n",
       "6 -0.651664       1       0       0       0        -1.747836       2.225004   \n",
       "7  1.129841       0       0       1       0         0.232075       1.522739   \n",
       "8 -0.651664       0       0       0       1         1.222031       1.676061   \n",
       "9 -0.651664       0       0       1       0         0.232075       2.695176   \n",
       "\n",
       "   score_bki_abs_norm  region_rating_encode  reg_1  reg_2  reg_3  reg_4  \\\n",
       "0            0.208677                     3      0      0      0      1   \n",
       "1           -0.745622                     3      0      0      0      1   \n",
       "2           -0.994241                     6      0      0      0      0   \n",
       "3            0.306252                     3      0      0      0      1   \n",
       "4           -1.321542                     4      0      0      0      0   \n",
       "5            0.255752                     3      0      0      0      1   \n",
       "6            0.641790                     4      0      0      0      0   \n",
       "7           -0.764723                     3      0      0      0      1   \n",
       "8           -0.457647                     3      0      0      0      1   \n",
       "9            1.583462                     3      0      0      0      1   \n",
       "\n",
       "   reg_5  reg_6  reg_7  region_rating_norm  car_common  no_car  domestic_car  \\\n",
       "0      0      0      0           -0.516704           2       0             0   \n",
       "1      0      0      0           -0.516704           0       1             0   \n",
       "2      0      0      1            1.779355           1       0             1   \n",
       "3      0      0      0           -0.516704           0       1             0   \n",
       "4      1      0      0            0.248649           0       1             0   \n",
       "5      0      0      0           -0.516704           1       0             1   \n",
       "6      1      0      0            0.248649           0       1             0   \n",
       "7      0      0      0           -0.516704           0       1             0   \n",
       "8      0      0      0           -0.516704           1       0             1   \n",
       "9      0      0      0           -0.516704           0       1             0   \n",
       "\n",
       "   imported_car  car_common_norm  address_rate  address_rate_encode  \\\n",
       "0             1         1.867569           2.0                    5   \n",
       "1             0        -0.649827           1.5                    4   \n",
       "2             0         0.608871           2.0                    5   \n",
       "3             0        -0.649827           1.5                    4   \n",
       "4             0        -0.649827           1.5                    4   \n",
       "5             0         0.608871           1.0                    3   \n",
       "6             0        -0.649827           2.0                    5   \n",
       "7             0        -0.649827           1.5                    4   \n",
       "8             0         0.608871           1.0                    3   \n",
       "9             0        -0.649827           1.5                    4   \n",
       "\n",
       "   address_rate_1  address_rate_2  address_rate_3  address_rate_4  \\\n",
       "0               0               0               0               0   \n",
       "1               0               0               0               0   \n",
       "2               0               0               0               0   \n",
       "3               0               0               0               0   \n",
       "4               0               0               0               0   \n",
       "5               0               0               0               1   \n",
       "6               0               0               0               0   \n",
       "7               0               0               0               0   \n",
       "8               0               0               0               1   \n",
       "9               0               0               0               0   \n",
       "\n",
       "   address_rate_5  address_rate_6  address_rate_7  decline_app_rate  \\\n",
       "0               0               1               0              0.00   \n",
       "1               1               0               0              0.00   \n",
       "2               0               1               0              0.50   \n",
       "3               1               0               0              0.00   \n",
       "4               1               0               0              0.00   \n",
       "5               0               0               0              0.00   \n",
       "6               0               1               0              0.00   \n",
       "7               1               0               0              0.00   \n",
       "8               0               0               0              0.25   \n",
       "9               1               0               0              0.00   \n",
       "\n",
       "   decline_app_rate_norm  \n",
       "0              -0.284837  \n",
       "1              -0.284837  \n",
       "2               0.773065  \n",
       "3              -0.284837  \n",
       "4              -0.284837  \n",
       "5              -0.284837  \n",
       "6              -0.284837  \n",
       "7              -0.284837  \n",
       "8               0.244114  \n",
       "9              -0.284837  "
      ]
     },
     "execution_count": 110,
     "metadata": {},
     "output_type": "execute_result"
    }
   ],
   "source": [
    "df.head(10)"
   ]
  },
  {
   "cell_type": "code",
   "execution_count": 111,
   "id": "atlantic-perry",
   "metadata": {},
   "outputs": [
    {
     "data": {
      "text/plain": [
       "(110148, 83)"
      ]
     },
     "execution_count": 111,
     "metadata": {},
     "output_type": "execute_result"
    }
   ],
   "source": [
    "df.shape"
   ]
  },
  {
   "cell_type": "code",
   "execution_count": 112,
   "id": "alpha-uganda",
   "metadata": {},
   "outputs": [
    {
     "data": {
      "text/plain": [
       "['app_date',\n",
       " 'education',\n",
       " 'sex',\n",
       " 'age',\n",
       " 'car',\n",
       " 'car_type',\n",
       " 'decline_app_cnt',\n",
       " 'good_work',\n",
       " 'score_bki',\n",
       " 'bki_request_cnt',\n",
       " 'region_rating',\n",
       " 'home_address',\n",
       " 'work_address',\n",
       " 'income',\n",
       " 'sna',\n",
       " 'first_time',\n",
       " 'foreign_passport',\n",
       " 'default',\n",
       " 'train',\n",
       " 'app_date_month',\n",
       " 'app_date_day',\n",
       " 'ACD',\n",
       " 'GRD',\n",
       " 'PGR',\n",
       " 'SCH',\n",
       " 'UGR',\n",
       " 'education_norm',\n",
       " 'age_norm',\n",
       " 'decline_app_cnt_log',\n",
       " 'decline_app_cnt_log_norm',\n",
       " 'decline_app_cnt_encode',\n",
       " 'no_decline',\n",
       " '1_decline',\n",
       " 'mm_decline',\n",
       " 'bki_request_cnt_log',\n",
       " 'bki_request_cnt_log_norm',\n",
       " 'ha_type_1',\n",
       " 'ha_type_2',\n",
       " 'ha_type_3',\n",
       " 'home_address_norm',\n",
       " 'wa_type_1',\n",
       " 'wa_type_2',\n",
       " 'wa_type_3',\n",
       " 'work_address_norm',\n",
       " 'income_log',\n",
       " 'income_log_norm',\n",
       " 'sna_1kind',\n",
       " 'sna_2kind',\n",
       " 'sna_3kind',\n",
       " 'sna_4kind',\n",
       " 'sna_norm',\n",
       " '1y_ago',\n",
       " '2y_ago',\n",
       " '3y_ago',\n",
       " '4y_ago',\n",
       " 'first_time_norm',\n",
       " 'score_bki_abs',\n",
       " 'score_bki_abs_norm',\n",
       " 'region_rating_encode',\n",
       " 'reg_1',\n",
       " 'reg_2',\n",
       " 'reg_3',\n",
       " 'reg_4',\n",
       " 'reg_5',\n",
       " 'reg_6',\n",
       " 'reg_7',\n",
       " 'region_rating_norm',\n",
       " 'car_common',\n",
       " 'no_car',\n",
       " 'domestic_car',\n",
       " 'imported_car',\n",
       " 'car_common_norm',\n",
       " 'address_rate',\n",
       " 'address_rate_encode',\n",
       " 'address_rate_1',\n",
       " 'address_rate_2',\n",
       " 'address_rate_3',\n",
       " 'address_rate_4',\n",
       " 'address_rate_5',\n",
       " 'address_rate_6',\n",
       " 'address_rate_7',\n",
       " 'decline_app_rate',\n",
       " 'decline_app_rate_norm']"
      ]
     },
     "execution_count": 112,
     "metadata": {},
     "output_type": "execute_result"
    }
   ],
   "source": [
    "list(df.columns)"
   ]
  },
  {
   "cell_type": "code",
   "execution_count": 113,
   "id": "located-secretariat",
   "metadata": {},
   "outputs": [],
   "source": [
    "drop_list = ['default',\n",
    "             'app_date',\n",
    "             'education',\n",
    "#              'sex',\n",
    "             'age',\n",
    "#              'car',\n",
    "#              'car_type',\n",
    "             'decline_app_cnt',\n",
    "#              'good_work',\n",
    "             'score_bki',\n",
    "             'bki_request_cnt',\n",
    "             'region_rating',\n",
    "             'home_address',\n",
    "             'work_address',\n",
    "             'income',\n",
    "             'sna',\n",
    "             'first_time',\n",
    "#              'foreign_passport',\n",
    "             'app_date_month',\n",
    "             'app_date_day',\n",
    "#              'ACD',\n",
    "#              'GRD',\n",
    "#              'PGR',\n",
    "#              'SCH',\n",
    "#              'UGR',\n",
    "             'education_norm',\n",
    "#              'age_norm',\n",
    "#              'reg_1',\n",
    "#              'reg_2',\n",
    "#              'reg_3',\n",
    "#              'reg_4',\n",
    "#              'reg_5',\n",
    "#              'reg_6',\n",
    "#              'reg_7',\n",
    "             'region_rating_encode',\n",
    "             'region_rating_norm',\n",
    "             'car_common',\n",
    "             'no_car',\n",
    "             'domestic_car',\n",
    "             'imported_car',\n",
    "             'car_common_norm',\n",
    "             'decline_app_cnt_log',\n",
    "             'decline_app_cnt_log_norm',\n",
    "             'decline_app_cnt_encode',\n",
    "#              'no_decline',\n",
    "#              '1_decline',\n",
    "#              'mm_decline',\n",
    "             'bki_request_cnt_log',\n",
    "#              'bki_request_cnt_log_norm',\n",
    "#              'ha_type_1',\n",
    "#              'ha_type_2',\n",
    "#              'ha_type_3',\n",
    "             'home_address_norm',\n",
    "#              'wa_type_1',\n",
    "#              'wa_type_2',\n",
    "#              'wa_type_3',\n",
    "             'work_address_norm',\n",
    "             'address_rate',\n",
    "             'address_rate_encode',\n",
    "             'address_rate_1',\n",
    "             'address_rate_2',\n",
    "             'address_rate_3',\n",
    "             'address_rate_4',\n",
    "             'address_rate_5',\n",
    "             'address_rate_6',\n",
    "             'address_rate_7',\n",
    "             'income_log',\n",
    "#              'income_log_norm',\n",
    "#              'sna_1kind',\n",
    "#              'sna_2kind',\n",
    "#              'sna_3kind',\n",
    "#              'sna_4kind',\n",
    "             'sna_norm',\n",
    "#              '1y_ago',\n",
    "#              '2y_ago',\n",
    "#              '3y_ago',\n",
    "#              '4y_ago',\n",
    "             'first_time_norm',\n",
    "             'score_bki_abs',\n",
    "#              'score_bki_abs_norm',\n",
    "             'decline_app_rate',\n",
    "             'decline_app_rate_norm'\n",
    "            ]"
   ]
  },
  {
   "cell_type": "code",
   "execution_count": 114,
   "id": "painful-shadow",
   "metadata": {},
   "outputs": [],
   "source": [
    "train_data = df.query('train == 1').drop(['train'], axis=1)\n",
    "test_data = df.query('train == 0').drop(['train'], axis=1)"
   ]
  },
  {
   "cell_type": "code",
   "execution_count": 115,
   "id": "about-controversy",
   "metadata": {},
   "outputs": [],
   "source": [
    "Y = train_data.default.values\n",
    "X = train_data.drop(drop_list, axis=1)"
   ]
  },
  {
   "cell_type": "markdown",
   "id": "electrical-steel",
   "metadata": {},
   "source": [
    "### Оценка значимости переменных"
   ]
  },
  {
   "cell_type": "code",
   "execution_count": 116,
   "id": "sharp-stuart",
   "metadata": {},
   "outputs": [
    {
     "data": {
      "text/plain": [
       "['age',\n",
       " 'age_norm',\n",
       " 'decline_app_cnt',\n",
       " 'decline_app_cnt_log',\n",
       " 'decline_app_cnt_log_norm',\n",
       " 'bki_request_cnt',\n",
       " 'bki_request_cnt_log',\n",
       " 'bki_request_cnt_log_norm',\n",
       " 'income',\n",
       " 'income_log',\n",
       " 'income_log_norm',\n",
       " 'score_bki',\n",
       " 'score_bki_abs',\n",
       " 'score_bki_abs_norm',\n",
       " 'region_rating',\n",
       " 'region_rating_norm',\n",
       " 'address_rate',\n",
       " 'decline_app_rate',\n",
       " 'decline_app_rate_norm']"
      ]
     },
     "execution_count": 116,
     "metadata": {},
     "output_type": "execute_result"
    }
   ],
   "source": [
    "numerical"
   ]
  },
  {
   "cell_type": "code",
   "execution_count": 117,
   "id": "agreed-married",
   "metadata": {},
   "outputs": [
    {
     "data": {
      "text/plain": [
       "<AxesSubplot:>"
      ]
     },
     "execution_count": 117,
     "metadata": {},
     "output_type": "execute_result"
    },
    {
     "data": {
      "image/png": "[encoded data removed]",
      "text/plain": [
       "<Figure size 1800x1440 with 1 Axes>"
      ]
     },
     "metadata": {
      "needs_background": "light"
     },
     "output_type": "display_data"
    }
   ],
   "source": [
    "num_col = []\n",
    "for i in numerical:\n",
    "    if i not in drop_list:\n",
    "        num_col.append(i)\n",
    "\n",
    "i_numerical = pd.Series(f_classif(df[num_col], df['default'])[0], index = num_col)\n",
    "plt.subplots(figsize=(25, 20))\n",
    "i_numerical.sort_values(inplace = True)\n",
    "i_numerical.plot(kind = 'barh')"
   ]
  },
  {
   "cell_type": "code",
   "execution_count": 118,
   "id": "tight-shipping",
   "metadata": {},
   "outputs": [
    {
     "data": {
      "text/plain": [
       "['sex',\n",
       " 'car',\n",
       " 'car_type',\n",
       " 'good_work',\n",
       " 'foreign_passport',\n",
       " 'address_rate_1',\n",
       " 'address_rate_2',\n",
       " 'address_rate_3',\n",
       " 'address_rate_4',\n",
       " 'address_rate_5',\n",
       " 'address_rate_6',\n",
       " 'address_rate_7']"
      ]
     },
     "execution_count": 118,
     "metadata": {},
     "output_type": "execute_result"
    }
   ],
   "source": [
    "binary"
   ]
  },
  {
   "cell_type": "code",
   "execution_count": 119,
   "id": "polished-company",
   "metadata": {},
   "outputs": [
    {
     "data": {
      "text/plain": [
       "<AxesSubplot:>"
      ]
     },
     "execution_count": 119,
     "metadata": {},
     "output_type": "execute_result"
    },
    {
     "data": {
      "image/png": "[encoded data removed]",
      "text/plain": [
       "<Figure size 1800x1440 with 1 Axes>"
      ]
     },
     "metadata": {
      "needs_background": "light"
     },
     "output_type": "display_data"
    }
   ],
   "source": [
    "bin_col = []\n",
    "for i in binary:\n",
    "    if i not in drop_list:\n",
    "        bin_col.append(i)\n",
    "\n",
    "i_binary = pd.Series(mutual_info_classif(df[bin_col], df['default'],\n",
    "                                         discrete_features =True), index = bin_col)\n",
    "plt.subplots(figsize=(25, 20))\n",
    "i_binary.sort_values(inplace = True)\n",
    "i_binary.plot(kind = 'barh')"
   ]
  },
  {
   "cell_type": "code",
   "execution_count": 120,
   "id": "specialized-rachel",
   "metadata": {},
   "outputs": [
    {
     "data": {
      "text/plain": [
       "['education',\n",
       " 'education_norm',\n",
       " 'home_address',\n",
       " 'home_address_norm',\n",
       " 'work_address',\n",
       " 'work_address_norm',\n",
       " 'sna',\n",
       " 'sna_norm',\n",
       " 'first_time',\n",
       " 'first_time_norm',\n",
       " 'region_rating_encode',\n",
       " 'car_common',\n",
       " 'car_common_norm',\n",
       " 'address_rate_encode']"
      ]
     },
     "execution_count": 120,
     "metadata": {},
     "output_type": "execute_result"
    }
   ],
   "source": [
    "categorical"
   ]
  },
  {
   "cell_type": "code",
   "execution_count": 121,
   "id": "junior-clone",
   "metadata": {},
   "outputs": [
    {
     "data": {
      "text/plain": [
       "<AxesSubplot:>"
      ]
     },
     "execution_count": 121,
     "metadata": {},
     "output_type": "execute_result"
    },
    {
     "data": {
      "image/png": "[encoded data removed]",
      "text/plain": [
       "<Figure size 1800x1440 with 1 Axes>"
      ]
     },
     "metadata": {
      "needs_background": "light"
     },
     "output_type": "display_data"
    }
   ],
   "source": [
    "cat_col = []\n",
    "for i in categorical:\n",
    "    if i not in drop_list:\n",
    "        cat_col.append(i)\n",
    "    else:\n",
    "        cat_col = categorical\n",
    "\n",
    "i_categorical = pd.Series(mutual_info_classif(df[cat_col], df['default'],\n",
    "                                              discrete_features =True), index = cat_col)\n",
    "plt.subplots(figsize=(25, 20))\n",
    "i_categorical.sort_values(inplace = True)\n",
    "i_categorical.plot(kind = 'barh')"
   ]
  },
  {
   "cell_type": "markdown",
   "id": "alive-yukon",
   "metadata": {},
   "source": [
    "### Корреляция"
   ]
  },
  {
   "cell_type": "code",
   "execution_count": 122,
   "id": "nutritional-toolbox",
   "metadata": {},
   "outputs": [
    {
     "data": {
      "image/png": "[encoded data removed]",
      "text/plain": [
       "<Figure size 1800x1440 with 2 Axes>"
      ]
     },
     "metadata": {},
     "output_type": "display_data"
    }
   ],
   "source": [
    "corr = df[num_col].corr()\n",
    "\n",
    "sns.set(font_scale=1)\n",
    "plt.subplots(figsize=(25, 20))\n",
    "mask = np.triu(np.ones_like(corr, dtype=np.bool))\n",
    "\n",
    "sns.heatmap(corr, mask=mask, square=True,\n",
    "            annot=True, fmt=\".1f\", linewidths=0.1, cmap=\"RdBu\");"
   ]
  },
  {
   "cell_type": "markdown",
   "id": "closed-might",
   "metadata": {},
   "source": [
    "### Подготовка данных к машинному обучению"
   ]
  },
  {
   "cell_type": "code",
   "execution_count": 123,
   "id": "natural-burden",
   "metadata": {},
   "outputs": [],
   "source": [
    "# Чтобы решить проблему дисбаланса классов, можно использовать Over или UnderSampling\n",
    "# Используем UnderSampling\n",
    "rus = RandomUnderSampler(random_state = RANDOM_SEED)\n",
    "X_resampled, Y_resampled = rus.fit_resample(X, Y)\n",
    "\n",
    "X_train, X_test, Y_train, Y_test = train_test_split(X_resampled, Y_resampled, test_size=0.2, random_state=RANDOM_SEED)"
   ]
  },
  {
   "cell_type": "code",
   "execution_count": 124,
   "id": "together-macintosh",
   "metadata": {},
   "outputs": [
    {
     "name": "stdout",
     "output_type": "stream",
     "text": [
      "(18744, 38) (18744,)\n"
     ]
    }
   ],
   "source": [
    "print(X_resampled.shape, Y_resampled.shape)"
   ]
  },
  {
   "cell_type": "markdown",
   "id": "permanent-oxford",
   "metadata": {},
   "source": [
    "### LogisticRegression"
   ]
  },
  {
   "cell_type": "code",
   "execution_count": 125,
   "id": "separate-shipping",
   "metadata": {},
   "outputs": [],
   "source": [
    "# LogisticRegression\n",
    "model = LogisticRegression(random_state = RANDOM_SEED)\n",
    "model.fit(X_train, Y_train)\n",
    "\n",
    "# Prediction\n",
    "Y_pred = model.predict(X_test)\n",
    "\n",
    "# Probability\n",
    "Y_prob = model.predict_proba(X_test)\n",
    "Y_prob = Y_prob[:, 1]"
   ]
  },
  {
   "cell_type": "code",
   "execution_count": 126,
   "id": "assisted-cornwall",
   "metadata": {},
   "outputs": [
    {
     "name": "stdout",
     "output_type": "stream",
     "text": [
      "\n",
      " Accuracy: 0.678 \n",
      " Precision: 0.67 \n",
      " Recall: 0.69 \n",
      " F1_score: 0.68\n"
     ]
    },
    {
     "data": {
      "image/png": "[encoded data removed]",
      "text/plain": [
       "<Figure size 720x504 with 1 Axes>"
      ]
     },
     "metadata": {},
     "output_type": "display_data"
    },
    {
     "data": {
      "image/png": "[encoded data removed]",
      "text/plain": [
       "<Figure size 720x504 with 1 Axes>"
      ]
     },
     "metadata": {},
     "output_type": "display_data"
    },
    {
     "name": "stdout",
     "output_type": "stream",
     "text": [
      "Normalized confusion matrix\n",
      "[[0.66560678 0.33439322]\n",
      " [0.3104189  0.6895811 ]]\n"
     ]
    },
    {
     "data": {
      "image/png": "[encoded data removed]",
      "text/plain": [
       "<Figure size 720x576 with 2 Axes>"
      ]
     },
     "metadata": {},
     "output_type": "display_data"
    }
   ],
   "source": [
    "get_metrics(Y_test, Y_pred)\n",
    "\n",
    "\n",
    "plot_roc_auc(Y_test, Y_prob)\n",
    "\n",
    "\n",
    "plot_pr_curve(Y_test, Y_prob)\n",
    "\n",
    "\n",
    "cnf_matrix = confusion_matrix(Y_test, Y_pred)\n",
    "\n",
    "plt.figure(figsize=(10, 8))\n",
    "plot_confusion_matrix(cnf_matrix, classes=['non_default', 'default'], title='Confusion matrix')\n",
    "plt.show()"
   ]
  },
  {
   "cell_type": "markdown",
   "id": "excellent-stanley",
   "metadata": {},
   "source": [
    "### LogisticRegression + Regularization"
   ]
  },
  {
   "cell_type": "code",
   "execution_count": 127,
   "id": "wired-helicopter",
   "metadata": {
    "scrolled": false
   },
   "outputs": [
    {
     "name": "stdout",
     "output_type": "stream",
     "text": [
      "Fitting 5 folds for each of 330 candidates, totalling 1650 fits\n"
     ]
    },
    {
     "data": {
      "text/plain": [
       "{'C': 1.023292992280754,\n",
       " 'class_weight': None,\n",
       " 'dual': False,\n",
       " 'fit_intercept': True,\n",
       " 'intercept_scaling': 1,\n",
       " 'l1_ratio': None,\n",
       " 'max_iter': 100,\n",
       " 'multi_class': 'auto',\n",
       " 'n_jobs': None,\n",
       " 'penalty': 'l2',\n",
       " 'random_state': None,\n",
       " 'solver': 'sag',\n",
       " 'tol': 0.0001,\n",
       " 'verbose': 0,\n",
       " 'warm_start': False}"
      ]
     },
     "execution_count": 127,
     "metadata": {},
     "output_type": "execute_result"
    }
   ],
   "source": [
    "C = np.logspace(0.01, 2, 15)\n",
    "\n",
    "param_grid = [{'penalty': ['l1'],\n",
    "               'C': C,\n",
    "               'solver': ['liblinear', 'lbfgs'],\n",
    "               'multi_class': ['auto', 'ovr']},\n",
    "              {'penalty': ['l2'],\n",
    "               'C': C,\n",
    "               'solver': ['newton-cg', 'lbfgs', 'liblinear', 'sag', 'saga'],\n",
    "               'multi_class': ['auto', 'ovr']},\n",
    "              {'penalty': ['none'],\n",
    "               'C': C,\n",
    "               'solver': ['newton-cg', 'lbfgs', 'sag', 'saga'],\n",
    "               'multi_class': ['auto', 'ovr']}\n",
    "             ]\n",
    "\n",
    "model = LogisticRegression()\n",
    "clf = GridSearchCV(model, param_grid, scoring='roc_auc', cv=5, n_jobs=-1, verbose=True)\n",
    "\n",
    "grid = clf.fit(X_train, Y_train)\n",
    "grid = grid.best_estimator_.get_params()\n",
    "\n",
    "\n",
    "C = grid['C']\n",
    "penalty = grid['penalty']\n",
    "solver = grid['solver']\n",
    "multi_class = grid['multi_class']\n",
    "class_weight = grid['class_weight']\n",
    "\n",
    "grid"
   ]
  },
  {
   "cell_type": "code",
   "execution_count": 128,
   "id": "hollywood-vietnam",
   "metadata": {},
   "outputs": [],
   "source": [
    "# LogisticRegression\n",
    "model = LogisticRegression(C=C,\n",
    "                           penalty=penalty,\n",
    "                           solver=solver,\n",
    "                           multi_class=multi_class,\n",
    "                           class_weight=class_weight,\n",
    "                           n_jobs=-1,\n",
    "                           random_state=RANDOM_SEED)\n",
    "\n",
    "model.fit(X_train, Y_train)\n",
    "\n",
    "# Prediction\n",
    "Y_pred = model.predict(X_test)\n",
    "\n",
    "# Probability\n",
    "Y_prob = model.predict_proba(X_test)\n",
    "Y_prob = Y_prob[:, 1]"
   ]
  },
  {
   "cell_type": "code",
   "execution_count": 129,
   "id": "artificial-dairy",
   "metadata": {},
   "outputs": [
    {
     "name": "stdout",
     "output_type": "stream",
     "text": [
      "\n",
      " Accuracy: 0.678 \n",
      " Precision: 0.67 \n",
      " Recall: 0.69 \n",
      " F1_score: 0.68\n"
     ]
    },
    {
     "data": {
      "image/png": "[encoded data removed]",
      "text/plain": [
       "<Figure size 720x504 with 1 Axes>"
      ]
     },
     "metadata": {},
     "output_type": "display_data"
    },
    {
     "data": {
      "image/png": "[encoded data removed]",
      "text/plain": [
       "<Figure size 720x504 with 1 Axes>"
      ]
     },
     "metadata": {},
     "output_type": "display_data"
    },
    {
     "name": "stdout",
     "output_type": "stream",
     "text": [
      "Normalized confusion matrix\n",
      "[[0.66560678 0.33439322]\n",
      " [0.3104189  0.6895811 ]]\n"
     ]
    },
    {
     "data": {
      "image/png": "[encoded data removed]",
      "text/plain": [
       "<Figure size 720x576 with 2 Axes>"
      ]
     },
     "metadata": {},
     "output_type": "display_data"
    }
   ],
   "source": [
    "get_metrics(Y_test, Y_pred)\n",
    "\n",
    "\n",
    "plot_roc_auc(Y_test, Y_prob)\n",
    "\n",
    "\n",
    "plot_pr_curve(Y_test, Y_prob)\n",
    "\n",
    "\n",
    "cnf_matrix = confusion_matrix(Y_test, Y_pred)\n",
    "\n",
    "plt.figure(figsize=(10, 8))\n",
    "plot_confusion_matrix(cnf_matrix, classes=['non_default', 'default'], title='Confusion matrix')\n",
    "plt.show()"
   ]
  },
  {
   "cell_type": "markdown",
   "id": "verbal-executive",
   "metadata": {},
   "source": [
    "### LogisticRegression + Cross-validation"
   ]
  },
  {
   "cell_type": "code",
   "execution_count": 130,
   "id": "vietnamese-driver",
   "metadata": {},
   "outputs": [],
   "source": [
    "# LogisticRegressionCV\n",
    "model = LogisticRegressionCV(cv=5, random_state = RANDOM_SEED)\n",
    "model.fit(X_train, Y_train)\n",
    "\n",
    "# Prediction\n",
    "Y_pred = model.predict(X_test)\n",
    "\n",
    "# Probability\n",
    "Y_prob = model.predict_proba(X_test)\n",
    "Y_prob = Y_prob[:,1]"
   ]
  },
  {
   "cell_type": "code",
   "execution_count": 131,
   "id": "educated-county",
   "metadata": {},
   "outputs": [
    {
     "name": "stdout",
     "output_type": "stream",
     "text": [
      "\n",
      " Accuracy: 0.677 \n",
      " Precision: 0.67 \n",
      " Recall: 0.689 \n",
      " F1_score: 0.679\n"
     ]
    },
    {
     "data": {
      "image/png": "[encoded data removed]",
      "text/plain": [
       "<Figure size 720x504 with 1 Axes>"
      ]
     },
     "metadata": {},
     "output_type": "display_data"
    },
    {
     "data": {
      "image/png": "[encoded data removed]",
      "text/plain": [
       "<Figure size 720x504 with 1 Axes>"
      ]
     },
     "metadata": {},
     "output_type": "display_data"
    },
    {
     "name": "stdout",
     "output_type": "stream",
     "text": [
      "Normalized confusion matrix\n",
      "[[0.66560678 0.33439322]\n",
      " [0.31149302 0.68850698]]\n"
     ]
    },
    {
     "data": {
      "image/png": "[encoded data removed]",
      "text/plain": [
       "<Figure size 720x576 with 2 Axes>"
      ]
     },
     "metadata": {},
     "output_type": "display_data"
    }
   ],
   "source": [
    "get_metrics(Y_test, Y_pred)\n",
    "\n",
    "\n",
    "plot_roc_auc(Y_test, Y_prob)\n",
    "\n",
    "\n",
    "plot_pr_curve(Y_test, Y_prob)\n",
    "\n",
    "\n",
    "cnf_matrix = confusion_matrix(Y_test, Y_pred)\n",
    "\n",
    "plt.figure(figsize=(10, 8))\n",
    "plot_confusion_matrix(cnf_matrix, classes=['non_default', 'default'], title='Confusion matrix')\n",
    "plt.show()"
   ]
  },
  {
   "cell_type": "markdown",
   "id": "composed-transsexual",
   "metadata": {},
   "source": [
    "### LogisticRegression + Cross-validation + Regularization"
   ]
  },
  {
   "cell_type": "code",
   "execution_count": 132,
   "id": "binary-motel",
   "metadata": {
    "scrolled": false
   },
   "outputs": [
    {
     "name": "stdout",
     "output_type": "stream",
     "text": [
      "Fitting 5 folds for each of 46 candidates, totalling 230 fits\n"
     ]
    },
    {
     "data": {
      "text/plain": [
       "{'Cs': array([  1.02329299,   1.41952438,   1.96918135,   2.73167213,\n",
       "          3.78940853,   5.25671323,   7.29217601,  10.11579454,\n",
       "         14.03275223,  19.46640319,  27.00402936,  37.46031531,\n",
       "         51.96540133,  72.08703166, 100.        ]),\n",
       " 'class_weight': 'balanced',\n",
       " 'cv': None,\n",
       " 'dual': False,\n",
       " 'fit_intercept': True,\n",
       " 'intercept_scaling': 1.0,\n",
       " 'l1_ratios': None,\n",
       " 'max_iter': 100,\n",
       " 'multi_class': 'ovr',\n",
       " 'n_jobs': None,\n",
       " 'penalty': 'l1',\n",
       " 'random_state': None,\n",
       " 'refit': True,\n",
       " 'scoring': None,\n",
       " 'solver': 'liblinear',\n",
       " 'tol': 0.01,\n",
       " 'verbose': 0}"
      ]
     },
     "execution_count": 132,
     "metadata": {},
     "output_type": "execute_result"
    }
   ],
   "source": [
    "Cs = [np.logspace(0.01, 2, 15)]\n",
    "epsilon = [1e-2]\n",
    "param_grid = [{'penalty': ['l1'],\n",
    "               'Cs': Cs,\n",
    "               'tol': epsilon,\n",
    "               'solver': ['liblinear', 'saga'],\n",
    "               'class_weight': ['None', 'balanced'],\n",
    "               'multi_class': ['auto', 'ovr']},\n",
    "              {'penalty': ['l2'],\n",
    "               'Cs': Cs,\n",
    "               'tol': epsilon,\n",
    "               'solver': ['newton-cg', 'lbfgs', 'sag'],\n",
    "               'class_weight': ['None', 'balanced'],\n",
    "               'multi_class': ['auto', 'ovr', 'multinomial']},\n",
    "              {'penalty': ['elasticnet'],\n",
    "               'Cs': Cs,\n",
    "               'tol': epsilon,\n",
    "               'solver': ['liblinear', 'newton-cg', 'lbfgs', 'sag', 'saga'],\n",
    "               'class_weight': ['None', 'balanced'],\n",
    "               'multi_class': ['auto', 'ovr']}\n",
    "              ]\n",
    "\n",
    "model = LogisticRegressionCV()\n",
    "clf = GridSearchCV(model, param_grid, scoring='roc_auc', n_jobs=-1, verbose=True)\n",
    "\n",
    "grid = clf.fit(X_train, Y_train)\n",
    "grid = grid.best_estimator_.get_params()\n",
    "\n",
    "Cs = grid['Cs']\n",
    "penalty = grid['penalty']\n",
    "solver = grid['solver']\n",
    "multi_class = grid['multi_class']\n",
    "\n",
    "grid"
   ]
  },
  {
   "cell_type": "code",
   "execution_count": 133,
   "id": "obvious-offering",
   "metadata": {
    "scrolled": false
   },
   "outputs": [],
   "source": [
    "# LogisticRegressionCV\n",
    "model = LogisticRegressionCV(Cs=Cs,\n",
    "                             penalty=penalty,\n",
    "                             multi_class=multi_class,\n",
    "                             solver=solver,\n",
    "                             cv=5,\n",
    "                             n_jobs=-1,\n",
    "                             random_state=RANDOM_SEED)\n",
    "\n",
    "model.fit(X_train, Y_train)\n",
    "\n",
    "# Prediction\n",
    "Y_pred = model.predict(X_test)\n",
    "\n",
    "# Probability\n",
    "Y_prob = model.predict_proba(X_test)\n",
    "Y_prob = Y_prob[:, 1]"
   ]
  },
  {
   "cell_type": "code",
   "execution_count": 134,
   "id": "invisible-telescope",
   "metadata": {},
   "outputs": [
    {
     "name": "stdout",
     "output_type": "stream",
     "text": [
      "\n",
      " Accuracy: 0.677 \n",
      " Precision: 0.67 \n",
      " Recall: 0.689 \n",
      " F1_score: 0.679\n"
     ]
    },
    {
     "data": {
      "image/png": "[encoded data removed]",
      "text/plain": [
       "<Figure size 720x504 with 1 Axes>"
      ]
     },
     "metadata": {},
     "output_type": "display_data"
    },
    {
     "data": {
      "image/png": "[encoded data removed]",
      "text/plain": [
       "<Figure size 720x504 with 1 Axes>"
      ]
     },
     "metadata": {},
     "output_type": "display_data"
    },
    {
     "name": "stdout",
     "output_type": "stream",
     "text": [
      "Normalized confusion matrix\n",
      "[[0.66560678 0.33439322]\n",
      " [0.31149302 0.68850698]]\n"
     ]
    },
    {
     "data": {
      "image/png": "[encoded data removed]",
      "text/plain": [
       "<Figure size 720x576 with 2 Axes>"
      ]
     },
     "metadata": {},
     "output_type": "display_data"
    }
   ],
   "source": [
    "get_metrics(Y_test, Y_pred)\n",
    "\n",
    "\n",
    "plot_roc_auc(Y_test, Y_prob)\n",
    "\n",
    "\n",
    "plot_pr_curve(Y_test, Y_prob)\n",
    "\n",
    "\n",
    "cnf_matrix = confusion_matrix(Y_test, Y_pred)\n",
    "\n",
    "plt.figure(figsize=(10, 8))\n",
    "plot_confusion_matrix(cnf_matrix, classes=['non_default', 'default'], title='Confusion matrix')\n",
    "plt.show()"
   ]
  },
  {
   "cell_type": "markdown",
   "id": "greater-slovenia",
   "metadata": {},
   "source": [
    "# !!!\n",
    "**Результаты остальных моделей (`Decision Tree Regressor`, `RandomForestClassifier`, `XGBoostClassifier`, `LGBM Classifier`) в файле для Kaggle** ([sf-dst-credit-scoring.ipynb](https://github.com/NormKOALA/Projects/blob/master/module_4/sf-dst-credit-scoring.ipynb))"
   ]
  },
  {
   "cell_type": "markdown",
   "id": "organized-finder",
   "metadata": {},
   "source": [
    "### Выводы:\n",
    "\n",
    "1. Важно учитывать и исправлять несбалансированность классов. Иначе модель имеет тенденцию склоняться к наибольшему классу\n",
    "\n",
    "2. Для категориальных параметров OneHotEncoder предпочтительнее, т.к. образуется \"связь\" между значениями переменной, нежели когда переменные \"записаны\" в один столбец\n",
    "\n",
    "3. Испробовано несколько моделей (в том числе и с регуляризацией). Наилучший результат показала модель `LGBM Classifier`:\n",
    "    - F1_score = 0.683\n",
    "    - Ошибка второго рода наименьшая из всех\n",
    "    - Ошибка первого рода незначительно выше (но для данной задачи Ошибка второго рода приоритетнее)\n",
    "    - Kaggle (ROC-AUC) = 0.73356\n",
    "\n",
    "\n",
    "\n",
    "4. Feature engineering не дал какого-либо существенного улучшения результат\n",
    "\n",
    "5. Разница с первыми местами около 0.01 балла. Анализ кода \"соперников\" склоняет к мысли, что разница (в 0.01 балла) продиктована ВЕЛИКИМ рандомом. (Т.к. есть разница даже в результатах полученных на локальном ПК и Kaggle)"
   ]
  },
  {
   "cell_type": "code",
   "execution_count": null,
   "id": "neural-winner",
   "metadata": {},
   "outputs": [],
   "source": []
  }
 ],
 "metadata": {
  "kernelspec": {
   "display_name": "Python 3",
   "language": "python",
   "name": "python3"
  },
  "language_info": {
   "codemirror_mode": {
    "name": "ipython",
    "version": 3
   },
   "file_extension": ".py",
   "mimetype": "text/x-python",
   "name": "python",
   "nbconvert_exporter": "python",
   "pygments_lexer": "ipython3",
   "version": "3.8.8"
  }
 },
 "nbformat": 4,
 "nbformat_minor": 5
}
